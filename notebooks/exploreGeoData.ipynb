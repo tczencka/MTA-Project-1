{
 "cells": [
  {
   "cell_type": "code",
   "execution_count": 10,
   "metadata": {},
   "outputs": [],
   "source": [
    "import pandas as pd\n",
    "import pickle\n"
   ]
  },
  {
   "cell_type": "code",
   "execution_count": 17,
   "metadata": {},
   "outputs": [],
   "source": [
    "station_entrances = pd.read_csv('../src/data/DOITT_SUBWAY_ENTRANCE_01_13SEPT2010.csv')"
   ]
  },
  {
   "cell_type": "code",
   "execution_count": 18,
   "metadata": {},
   "outputs": [
    {
     "data": {
      "text/html": [
       "<div>\n",
       "<style scoped>\n",
       "    .dataframe tbody tr th:only-of-type {\n",
       "        vertical-align: middle;\n",
       "    }\n",
       "\n",
       "    .dataframe tbody tr th {\n",
       "        vertical-align: top;\n",
       "    }\n",
       "\n",
       "    .dataframe thead th {\n",
       "        text-align: right;\n",
       "    }\n",
       "</style>\n",
       "<table border=\"1\" class=\"dataframe\">\n",
       "  <thead>\n",
       "    <tr style=\"text-align: right;\">\n",
       "      <th></th>\n",
       "      <th>OBJECTID</th>\n",
       "      <th>URL</th>\n",
       "      <th>NAME</th>\n",
       "      <th>the_geom</th>\n",
       "      <th>LINE</th>\n",
       "    </tr>\n",
       "  </thead>\n",
       "  <tbody>\n",
       "    <tr>\n",
       "      <th>340</th>\n",
       "      <td>196</td>\n",
       "      <td>http://web.mta.info/nyct/service/</td>\n",
       "      <td>Washington Ave &amp; Lafayette Ave at SE corner</td>\n",
       "      <td>POINT (-73.965578999989 40.68815700090346)</td>\n",
       "      <td>G</td>\n",
       "    </tr>\n",
       "    <tr>\n",
       "      <th>1472</th>\n",
       "      <td>1328</td>\n",
       "      <td>http://web.mta.info/nyct/service/</td>\n",
       "      <td>Vernon Blvd &amp; 50th Ave at SW corner</td>\n",
       "      <td>POINT (-73.95425199947056 40.74258800113779)</td>\n",
       "      <td>7</td>\n",
       "    </tr>\n",
       "    <tr>\n",
       "      <th>905</th>\n",
       "      <td>761</td>\n",
       "      <td>http://web.mta.info/nyct/service/</td>\n",
       "      <td>8th Ave &amp; 16th St at NW corner</td>\n",
       "      <td>POINT (-74.00171500002665 40.74123500071799)</td>\n",
       "      <td>A-C-E-L</td>\n",
       "    </tr>\n",
       "    <tr>\n",
       "      <th>1263</th>\n",
       "      <td>1119</td>\n",
       "      <td>http://web.mta.info/nyct/service/</td>\n",
       "      <td>10th Ave &amp; 215th St at SE corner</td>\n",
       "      <td>POINT (-73.9152159995194 40.86931500046094)</td>\n",
       "      <td>1</td>\n",
       "    </tr>\n",
       "    <tr>\n",
       "      <th>157</th>\n",
       "      <td>13</td>\n",
       "      <td>http://web.mta.info/nyct/service/</td>\n",
       "      <td>8th St &amp; Surf Ave at NW corner</td>\n",
       "      <td>POINT (-73.97687299966972 40.575499000848396)</td>\n",
       "      <td>F-Q</td>\n",
       "    </tr>\n",
       "    <tr>\n",
       "      <th>749</th>\n",
       "      <td>605</td>\n",
       "      <td>http://web.mta.info/nyct/service/</td>\n",
       "      <td>Nostrand Ave &amp; Winthrop St at NE corner</td>\n",
       "      <td>POINT (-73.949976000245 40.657184000991876)</td>\n",
       "      <td>2-5</td>\n",
       "    </tr>\n",
       "    <tr>\n",
       "      <th>1379</th>\n",
       "      <td>1235</td>\n",
       "      <td>http://web.mta.info/nyct/service/</td>\n",
       "      <td>Grand Concourse &amp; 149th St at SW corner</td>\n",
       "      <td>POINT (-73.92765900041687 40.8182590009951)</td>\n",
       "      <td>2-4-5</td>\n",
       "    </tr>\n",
       "    <tr>\n",
       "      <th>738</th>\n",
       "      <td>594</td>\n",
       "      <td>http://web.mta.info/nyct/service/</td>\n",
       "      <td>Powell St &amp; Livonia Ave at SW corner</td>\n",
       "      <td>POINT (-73.90306299985717 40.66336100065182)</td>\n",
       "      <td>3</td>\n",
       "    </tr>\n",
       "    <tr>\n",
       "      <th>1264</th>\n",
       "      <td>1120</td>\n",
       "      <td>http://web.mta.info/nyct/service/</td>\n",
       "      <td>10th Ave &amp; 207th St at SE corner</td>\n",
       "      <td>POINT (-73.91895099988385 40.86423000111228)</td>\n",
       "      <td>1</td>\n",
       "    </tr>\n",
       "    <tr>\n",
       "      <th>353</th>\n",
       "      <td>209</td>\n",
       "      <td>http://web.mta.info/nyct/service/</td>\n",
       "      <td>10th Ave &amp; 207th St at NW corner</td>\n",
       "      <td>POINT (-73.91886400044963 40.86474500120516)</td>\n",
       "      <td>1</td>\n",
       "    </tr>\n",
       "  </tbody>\n",
       "</table>\n",
       "</div>"
      ],
      "text/plain": [
       "      OBJECTID                                URL  \\\n",
       "340        196  http://web.mta.info/nyct/service/   \n",
       "1472      1328  http://web.mta.info/nyct/service/   \n",
       "905        761  http://web.mta.info/nyct/service/   \n",
       "1263      1119  http://web.mta.info/nyct/service/   \n",
       "157         13  http://web.mta.info/nyct/service/   \n",
       "749        605  http://web.mta.info/nyct/service/   \n",
       "1379      1235  http://web.mta.info/nyct/service/   \n",
       "738        594  http://web.mta.info/nyct/service/   \n",
       "1264      1120  http://web.mta.info/nyct/service/   \n",
       "353        209  http://web.mta.info/nyct/service/   \n",
       "\n",
       "                                             NAME  \\\n",
       "340   Washington Ave & Lafayette Ave at SE corner   \n",
       "1472          Vernon Blvd & 50th Ave at SW corner   \n",
       "905                8th Ave & 16th St at NW corner   \n",
       "1263             10th Ave & 215th St at SE corner   \n",
       "157                8th St & Surf Ave at NW corner   \n",
       "749       Nostrand Ave & Winthrop St at NE corner   \n",
       "1379      Grand Concourse & 149th St at SW corner   \n",
       "738          Powell St & Livonia Ave at SW corner   \n",
       "1264             10th Ave & 207th St at SE corner   \n",
       "353              10th Ave & 207th St at NW corner   \n",
       "\n",
       "                                           the_geom     LINE  \n",
       "340      POINT (-73.965578999989 40.68815700090346)        G  \n",
       "1472   POINT (-73.95425199947056 40.74258800113779)        7  \n",
       "905    POINT (-74.00171500002665 40.74123500071799)  A-C-E-L  \n",
       "1263    POINT (-73.9152159995194 40.86931500046094)        1  \n",
       "157   POINT (-73.97687299966972 40.575499000848396)      F-Q  \n",
       "749     POINT (-73.949976000245 40.657184000991876)      2-5  \n",
       "1379    POINT (-73.92765900041687 40.8182590009951)    2-4-5  \n",
       "738    POINT (-73.90306299985717 40.66336100065182)        3  \n",
       "1264   POINT (-73.91895099988385 40.86423000111228)        1  \n",
       "353    POINT (-73.91886400044963 40.86474500120516)        1  "
      ]
     },
     "execution_count": 18,
     "metadata": {},
     "output_type": "execute_result"
    }
   ],
   "source": [
    "station_entrances.sample(10)"
   ]
  },
  {
   "cell_type": "code",
   "execution_count": 15,
   "metadata": {},
   "outputs": [],
   "source": [
    "with open('../src/data/mta_data_march.pickle', 'rb') as read_file:\n",
    "    mta_data = pickle.load(read_file)"
   ]
  },
  {
   "cell_type": "code",
   "execution_count": 20,
   "metadata": {},
   "outputs": [],
   "source": [
    "stations = pd.read_csv('../src/data/DOITT_SUBWAY_STATION_01_13SEPT2010.csv')"
   ]
  },
  {
   "cell_type": "code",
   "execution_count": 22,
   "metadata": {},
   "outputs": [
    {
     "data": {
      "text/plain": [
       "(473, 6)"
      ]
     },
     "execution_count": 22,
     "metadata": {},
     "output_type": "execute_result"
    }
   ],
   "source": [
    "stations.shape"
   ]
  },
  {
   "cell_type": "code",
   "execution_count": null,
   "metadata": {},
   "outputs": [],
   "source": []
  }
 ],
 "metadata": {
  "kernelspec": {
   "display_name": "Python [conda env:metis] *",
   "language": "python",
   "name": "conda-env-metis-py"
  },
  "language_info": {
   "codemirror_mode": {
    "name": "ipython",
    "version": 3
   },
   "file_extension": ".py",
   "mimetype": "text/x-python",
   "name": "python",
   "nbconvert_exporter": "python",
   "pygments_lexer": "ipython3",
   "version": "3.7.4"
  }
 },
 "nbformat": 4,
 "nbformat_minor": 2
}
