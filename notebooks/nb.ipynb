{
 "cells": [
  {
   "cell_type": "code",
   "execution_count": 267,
   "metadata": {},
   "outputs": [],
   "source": [
    "import pandas as pd\n",
    "import pickle\n",
    "import matplotlib.pyplot as plt\n",
    "import numpy as np\n",
    "# various options in pandas\n",
    "pd.set_option('display.max_columns', None)\n",
    "pd.set_option('display.max_rows', 100)\n",
    "pd.set_option('display.precision', 3)\n",
    "pd.set_option('display.float_format', lambda x: '%.3f' % x)"
   ]
  },
  {
   "cell_type": "markdown",
   "metadata": {},
   "source": [
    "## 1. Load Data"
   ]
  },
  {
   "cell_type": "code",
   "execution_count": 51,
   "metadata": {},
   "outputs": [],
   "source": [
    "from urllib.request import HTTPError\n",
    "\n",
    "def load_turnstile_data(urls):\n",
    "    dfs = []\n",
    "    for url in urls:\n",
    "        try:\n",
    "            df = pd.read_csv(url)\n",
    "            dfs.append(df)\n",
    "        except HTTPError as err:\n",
    "            if err.code == 404:\n",
    "                continue\n",
    "            else:\n",
    "                raise err\n",
    "    return pd.concat(dfs)\n",
    "\n",
    "def format_day_month(num):\n",
    "    return '0' + str(num) if num < 10 else str(num)\n",
    "\n",
    "def format_year(num):\n",
    "    return str(num)[-2:]\n",
    "\n",
    "def generate_url(date):\n",
    "    y = format_year(date.year)\n",
    "    m = format_day_month(date.month)\n",
    "    d = format_day_month(date.day)\n",
    "    return f'http://web.mta.info/developers/data/nyct/turnstile/turnstile_{y}{m}{d}.txt'\n",
    "\n",
    "def fetch_data_for_date_range(start, end):\n",
    "    urls = list(map(generate_url, pd.date_range(start, end, freq=\"D\")))\n",
    "    return load_turnstile_data(urls)\n"
   ]
  },
  {
   "cell_type": "code",
   "execution_count": 83,
   "metadata": {},
   "outputs": [],
   "source": [
    "mta_data = fetch_data_for_date_range('3/1/2019', '4/01/2019')"
   ]
  },
  {
   "cell_type": "code",
   "execution_count": 64,
   "metadata": {},
   "outputs": [],
   "source": [
    "with open('mta_data_march.pickle', 'wb') as write_file:\n",
    "    pickle.dump(mta_data, write_file)"
   ]
  },
  {
   "cell_type": "code",
   "execution_count": 84,
   "metadata": {},
   "outputs": [
    {
     "data": {
      "text/plain": [
       "(1016285, 11)"
      ]
     },
     "execution_count": 84,
     "metadata": {},
     "output_type": "execute_result"
    }
   ],
   "source": [
    "mta_data.shape"
   ]
  },
  {
   "cell_type": "markdown",
   "metadata": {},
   "source": [
    "# 2. Clean Data"
   ]
  },
  {
   "cell_type": "markdown",
   "metadata": {},
   "source": [
    "## 2.1 Subset Data"
   ]
  },
  {
   "cell_type": "code",
   "execution_count": 85,
   "metadata": {},
   "outputs": [
    {
     "data": {
      "text/html": [
       "<div>\n",
       "<style scoped>\n",
       "    .dataframe tbody tr th:only-of-type {\n",
       "        vertical-align: middle;\n",
       "    }\n",
       "\n",
       "    .dataframe tbody tr th {\n",
       "        vertical-align: top;\n",
       "    }\n",
       "\n",
       "    .dataframe thead th {\n",
       "        text-align: right;\n",
       "    }\n",
       "</style>\n",
       "<table border=\"1\" class=\"dataframe\">\n",
       "  <thead>\n",
       "    <tr style=\"text-align: right;\">\n",
       "      <th></th>\n",
       "      <th>C/A</th>\n",
       "      <th>UNIT</th>\n",
       "      <th>SCP</th>\n",
       "      <th>STATION</th>\n",
       "      <th>LINENAME</th>\n",
       "      <th>DIVISION</th>\n",
       "      <th>DATE</th>\n",
       "      <th>TIME</th>\n",
       "      <th>DESC</th>\n",
       "      <th>ENTRIES</th>\n",
       "      <th>EXITS</th>\n",
       "    </tr>\n",
       "  </thead>\n",
       "  <tbody>\n",
       "    <tr>\n",
       "      <th>0</th>\n",
       "      <td>A002</td>\n",
       "      <td>R051</td>\n",
       "      <td>02-00-00</td>\n",
       "      <td>59 ST</td>\n",
       "      <td>NQR456W</td>\n",
       "      <td>BMT</td>\n",
       "      <td>02/23/2019</td>\n",
       "      <td>03:00:00</td>\n",
       "      <td>REGULAR</td>\n",
       "      <td>6955483</td>\n",
       "      <td>2359112</td>\n",
       "    </tr>\n",
       "    <tr>\n",
       "      <th>1</th>\n",
       "      <td>A002</td>\n",
       "      <td>R051</td>\n",
       "      <td>02-00-00</td>\n",
       "      <td>59 ST</td>\n",
       "      <td>NQR456W</td>\n",
       "      <td>BMT</td>\n",
       "      <td>02/23/2019</td>\n",
       "      <td>07:00:00</td>\n",
       "      <td>REGULAR</td>\n",
       "      <td>6955494</td>\n",
       "      <td>2359125</td>\n",
       "    </tr>\n",
       "    <tr>\n",
       "      <th>2</th>\n",
       "      <td>A002</td>\n",
       "      <td>R051</td>\n",
       "      <td>02-00-00</td>\n",
       "      <td>59 ST</td>\n",
       "      <td>NQR456W</td>\n",
       "      <td>BMT</td>\n",
       "      <td>02/23/2019</td>\n",
       "      <td>11:00:00</td>\n",
       "      <td>REGULAR</td>\n",
       "      <td>6955554</td>\n",
       "      <td>2359199</td>\n",
       "    </tr>\n",
       "    <tr>\n",
       "      <th>3</th>\n",
       "      <td>A002</td>\n",
       "      <td>R051</td>\n",
       "      <td>02-00-00</td>\n",
       "      <td>59 ST</td>\n",
       "      <td>NQR456W</td>\n",
       "      <td>BMT</td>\n",
       "      <td>02/23/2019</td>\n",
       "      <td>15:00:00</td>\n",
       "      <td>REGULAR</td>\n",
       "      <td>6955714</td>\n",
       "      <td>2359248</td>\n",
       "    </tr>\n",
       "    <tr>\n",
       "      <th>4</th>\n",
       "      <td>A002</td>\n",
       "      <td>R051</td>\n",
       "      <td>02-00-00</td>\n",
       "      <td>59 ST</td>\n",
       "      <td>NQR456W</td>\n",
       "      <td>BMT</td>\n",
       "      <td>02/23/2019</td>\n",
       "      <td>19:00:00</td>\n",
       "      <td>REGULAR</td>\n",
       "      <td>6956004</td>\n",
       "      <td>2359292</td>\n",
       "    </tr>\n",
       "  </tbody>\n",
       "</table>\n",
       "</div>"
      ],
      "text/plain": [
       "    C/A  UNIT       SCP STATION LINENAME DIVISION        DATE      TIME  \\\n",
       "0  A002  R051  02-00-00   59 ST  NQR456W      BMT  02/23/2019  03:00:00   \n",
       "1  A002  R051  02-00-00   59 ST  NQR456W      BMT  02/23/2019  07:00:00   \n",
       "2  A002  R051  02-00-00   59 ST  NQR456W      BMT  02/23/2019  11:00:00   \n",
       "3  A002  R051  02-00-00   59 ST  NQR456W      BMT  02/23/2019  15:00:00   \n",
       "4  A002  R051  02-00-00   59 ST  NQR456W      BMT  02/23/2019  19:00:00   \n",
       "\n",
       "      DESC  ENTRIES  \\\n",
       "0  REGULAR  6955483   \n",
       "1  REGULAR  6955494   \n",
       "2  REGULAR  6955554   \n",
       "3  REGULAR  6955714   \n",
       "4  REGULAR  6956004   \n",
       "\n",
       "   EXITS                                                                 \n",
       "0                                            2359112                     \n",
       "1                                            2359125                     \n",
       "2                                            2359199                     \n",
       "3                                            2359248                     \n",
       "4                                            2359292                     "
      ]
     },
     "execution_count": 85,
     "metadata": {},
     "output_type": "execute_result"
    }
   ],
   "source": [
    "mta_data.head()"
   ]
  },
  {
   "cell_type": "code",
   "execution_count": 86,
   "metadata": {},
   "outputs": [],
   "source": [
    "subset = mta_data[['C/A', 'UNIT', 'SCP', 'STATION', 'DATE', 'TIME', 'ENTRIES']].copy()"
   ]
  },
  {
   "cell_type": "markdown",
   "metadata": {},
   "source": [
    "## 2.2 Convert Dates"
   ]
  },
  {
   "cell_type": "code",
   "execution_count": 87,
   "metadata": {},
   "outputs": [],
   "source": [
    "subset['datetime'] = pd.to_datetime(subset.DATE + ' ' + subset.TIME)\n",
    "subset['DATE'] = pd.to_datetime(subset.DATE)\n",
    "subset['TIME'] = pd.to_datetime(subset.TIME).dt.time"
   ]
  },
  {
   "cell_type": "markdown",
   "metadata": {},
   "source": [
    "## 2.3 Calculate Entries for Each Time Interval"
   ]
  },
  {
   "cell_type": "code",
   "execution_count": 97,
   "metadata": {},
   "outputs": [],
   "source": [
    "sorted_data = subset.sort_values(['C/A', 'UNIT', 'SCP', 'STATION', 'datetime'])"
   ]
  },
  {
   "cell_type": "code",
   "execution_count": 98,
   "metadata": {},
   "outputs": [],
   "source": [
    "sorted_data['entries_since_last_record'] = sorted_data.groupby(['C/A', 'UNIT', 'SCP', 'STATION'])['ENTRIES'].diff(1)\n"
   ]
  },
  {
   "cell_type": "code",
   "execution_count": 100,
   "metadata": {},
   "outputs": [],
   "source": [
    "sorted_data['time_interval'] = sorted_data.groupby(['C/A', 'UNIT', 'SCP', 'STATION'])['datetime'].diff(1)"
   ]
  },
  {
   "cell_type": "code",
   "execution_count": 454,
   "metadata": {},
   "outputs": [
    {
     "data": {
      "text/html": [
       "<div>\n",
       "<style scoped>\n",
       "    .dataframe tbody tr th:only-of-type {\n",
       "        vertical-align: middle;\n",
       "    }\n",
       "\n",
       "    .dataframe tbody tr th {\n",
       "        vertical-align: top;\n",
       "    }\n",
       "\n",
       "    .dataframe thead th {\n",
       "        text-align: right;\n",
       "    }\n",
       "</style>\n",
       "<table border=\"1\" class=\"dataframe\">\n",
       "  <thead>\n",
       "    <tr style=\"text-align: right;\">\n",
       "      <th></th>\n",
       "      <th>C/A</th>\n",
       "      <th>UNIT</th>\n",
       "      <th>SCP</th>\n",
       "      <th>STATION</th>\n",
       "      <th>DATE</th>\n",
       "      <th>TIME</th>\n",
       "      <th>ENTRIES</th>\n",
       "      <th>datetime</th>\n",
       "      <th>entries_since_last_record</th>\n",
       "      <th>time_interval</th>\n",
       "      <th>mad</th>\n",
       "      <th>unit_mean</th>\n",
       "      <th>unit_std</th>\n",
       "      <th>deviations</th>\n",
       "    </tr>\n",
       "  </thead>\n",
       "  <tbody>\n",
       "    <tr>\n",
       "      <th>0</th>\n",
       "      <td>A002</td>\n",
       "      <td>R051</td>\n",
       "      <td>02-00-00</td>\n",
       "      <td>59 ST</td>\n",
       "      <td>2019-02-23</td>\n",
       "      <td>03:00:00</td>\n",
       "      <td>6955483</td>\n",
       "      <td>2019-02-23 03:00:00</td>\n",
       "      <td>nan</td>\n",
       "      <td>NaT</td>\n",
       "      <td>A002</td>\n",
       "      <td>202.453</td>\n",
       "      <td>225.514</td>\n",
       "      <td>nan</td>\n",
       "    </tr>\n",
       "    <tr>\n",
       "      <th>1</th>\n",
       "      <td>A002</td>\n",
       "      <td>R051</td>\n",
       "      <td>02-00-00</td>\n",
       "      <td>59 ST</td>\n",
       "      <td>2019-02-23</td>\n",
       "      <td>07:00:00</td>\n",
       "      <td>6955494</td>\n",
       "      <td>2019-02-23 07:00:00</td>\n",
       "      <td>11.000</td>\n",
       "      <td>04:00:00</td>\n",
       "      <td>A002</td>\n",
       "      <td>202.453</td>\n",
       "      <td>225.514</td>\n",
       "      <td>-0.849</td>\n",
       "    </tr>\n",
       "    <tr>\n",
       "      <th>2</th>\n",
       "      <td>A002</td>\n",
       "      <td>R051</td>\n",
       "      <td>02-00-00</td>\n",
       "      <td>59 ST</td>\n",
       "      <td>2019-02-23</td>\n",
       "      <td>11:00:00</td>\n",
       "      <td>6955554</td>\n",
       "      <td>2019-02-23 11:00:00</td>\n",
       "      <td>60.000</td>\n",
       "      <td>04:00:00</td>\n",
       "      <td>A002</td>\n",
       "      <td>202.453</td>\n",
       "      <td>225.514</td>\n",
       "      <td>-0.632</td>\n",
       "    </tr>\n",
       "    <tr>\n",
       "      <th>3</th>\n",
       "      <td>A002</td>\n",
       "      <td>R051</td>\n",
       "      <td>02-00-00</td>\n",
       "      <td>59 ST</td>\n",
       "      <td>2019-02-23</td>\n",
       "      <td>15:00:00</td>\n",
       "      <td>6955714</td>\n",
       "      <td>2019-02-23 15:00:00</td>\n",
       "      <td>160.000</td>\n",
       "      <td>04:00:00</td>\n",
       "      <td>A002</td>\n",
       "      <td>202.453</td>\n",
       "      <td>225.514</td>\n",
       "      <td>-0.188</td>\n",
       "    </tr>\n",
       "    <tr>\n",
       "      <th>4</th>\n",
       "      <td>A002</td>\n",
       "      <td>R051</td>\n",
       "      <td>02-00-00</td>\n",
       "      <td>59 ST</td>\n",
       "      <td>2019-02-23</td>\n",
       "      <td>19:00:00</td>\n",
       "      <td>6956004</td>\n",
       "      <td>2019-02-23 19:00:00</td>\n",
       "      <td>290.000</td>\n",
       "      <td>04:00:00</td>\n",
       "      <td>A002</td>\n",
       "      <td>202.453</td>\n",
       "      <td>225.514</td>\n",
       "      <td>0.388</td>\n",
       "    </tr>\n",
       "    <tr>\n",
       "      <th>5</th>\n",
       "      <td>A002</td>\n",
       "      <td>R051</td>\n",
       "      <td>02-00-00</td>\n",
       "      <td>59 ST</td>\n",
       "      <td>2019-02-23</td>\n",
       "      <td>23:00:00</td>\n",
       "      <td>6956147</td>\n",
       "      <td>2019-02-23 23:00:00</td>\n",
       "      <td>143.000</td>\n",
       "      <td>04:00:00</td>\n",
       "      <td>A002</td>\n",
       "      <td>202.453</td>\n",
       "      <td>225.514</td>\n",
       "      <td>-0.264</td>\n",
       "    </tr>\n",
       "    <tr>\n",
       "      <th>6</th>\n",
       "      <td>A002</td>\n",
       "      <td>R051</td>\n",
       "      <td>02-00-00</td>\n",
       "      <td>59 ST</td>\n",
       "      <td>2019-02-24</td>\n",
       "      <td>03:00:00</td>\n",
       "      <td>6956177</td>\n",
       "      <td>2019-02-24 03:00:00</td>\n",
       "      <td>30.000</td>\n",
       "      <td>04:00:00</td>\n",
       "      <td>A002</td>\n",
       "      <td>202.453</td>\n",
       "      <td>225.514</td>\n",
       "      <td>-0.765</td>\n",
       "    </tr>\n",
       "    <tr>\n",
       "      <th>7</th>\n",
       "      <td>A002</td>\n",
       "      <td>R051</td>\n",
       "      <td>02-00-00</td>\n",
       "      <td>59 ST</td>\n",
       "      <td>2019-02-24</td>\n",
       "      <td>07:00:00</td>\n",
       "      <td>6956184</td>\n",
       "      <td>2019-02-24 07:00:00</td>\n",
       "      <td>7.000</td>\n",
       "      <td>04:00:00</td>\n",
       "      <td>A002</td>\n",
       "      <td>202.453</td>\n",
       "      <td>225.514</td>\n",
       "      <td>-0.867</td>\n",
       "    </tr>\n",
       "    <tr>\n",
       "      <th>8</th>\n",
       "      <td>A002</td>\n",
       "      <td>R051</td>\n",
       "      <td>02-00-00</td>\n",
       "      <td>59 ST</td>\n",
       "      <td>2019-02-24</td>\n",
       "      <td>11:00:00</td>\n",
       "      <td>6956215</td>\n",
       "      <td>2019-02-24 11:00:00</td>\n",
       "      <td>31.000</td>\n",
       "      <td>04:00:00</td>\n",
       "      <td>A002</td>\n",
       "      <td>202.453</td>\n",
       "      <td>225.514</td>\n",
       "      <td>-0.760</td>\n",
       "    </tr>\n",
       "    <tr>\n",
       "      <th>9</th>\n",
       "      <td>A002</td>\n",
       "      <td>R051</td>\n",
       "      <td>02-00-00</td>\n",
       "      <td>59 ST</td>\n",
       "      <td>2019-02-24</td>\n",
       "      <td>15:00:00</td>\n",
       "      <td>6956315</td>\n",
       "      <td>2019-02-24 15:00:00</td>\n",
       "      <td>100.000</td>\n",
       "      <td>04:00:00</td>\n",
       "      <td>A002</td>\n",
       "      <td>202.453</td>\n",
       "      <td>225.514</td>\n",
       "      <td>-0.454</td>\n",
       "    </tr>\n",
       "    <tr>\n",
       "      <th>10</th>\n",
       "      <td>A002</td>\n",
       "      <td>R051</td>\n",
       "      <td>02-00-00</td>\n",
       "      <td>59 ST</td>\n",
       "      <td>2019-02-24</td>\n",
       "      <td>19:00:00</td>\n",
       "      <td>6956472</td>\n",
       "      <td>2019-02-24 19:00:00</td>\n",
       "      <td>157.000</td>\n",
       "      <td>04:00:00</td>\n",
       "      <td>A002</td>\n",
       "      <td>202.453</td>\n",
       "      <td>225.514</td>\n",
       "      <td>-0.202</td>\n",
       "    </tr>\n",
       "    <tr>\n",
       "      <th>11</th>\n",
       "      <td>A002</td>\n",
       "      <td>R051</td>\n",
       "      <td>02-00-00</td>\n",
       "      <td>59 ST</td>\n",
       "      <td>2019-02-24</td>\n",
       "      <td>23:00:00</td>\n",
       "      <td>6956566</td>\n",
       "      <td>2019-02-24 23:00:00</td>\n",
       "      <td>94.000</td>\n",
       "      <td>04:00:00</td>\n",
       "      <td>A002</td>\n",
       "      <td>202.453</td>\n",
       "      <td>225.514</td>\n",
       "      <td>-0.481</td>\n",
       "    </tr>\n",
       "    <tr>\n",
       "      <th>12</th>\n",
       "      <td>A002</td>\n",
       "      <td>R051</td>\n",
       "      <td>02-00-00</td>\n",
       "      <td>59 ST</td>\n",
       "      <td>2019-02-25</td>\n",
       "      <td>03:00:00</td>\n",
       "      <td>6956582</td>\n",
       "      <td>2019-02-25 03:00:00</td>\n",
       "      <td>16.000</td>\n",
       "      <td>04:00:00</td>\n",
       "      <td>A006</td>\n",
       "      <td>202.453</td>\n",
       "      <td>225.514</td>\n",
       "      <td>-0.827</td>\n",
       "    </tr>\n",
       "    <tr>\n",
       "      <th>13</th>\n",
       "      <td>A002</td>\n",
       "      <td>R051</td>\n",
       "      <td>02-00-00</td>\n",
       "      <td>59 ST</td>\n",
       "      <td>2019-02-25</td>\n",
       "      <td>07:00:00</td>\n",
       "      <td>6956590</td>\n",
       "      <td>2019-02-25 07:00:00</td>\n",
       "      <td>8.000</td>\n",
       "      <td>04:00:00</td>\n",
       "      <td>A006</td>\n",
       "      <td>202.453</td>\n",
       "      <td>225.514</td>\n",
       "      <td>-0.862</td>\n",
       "    </tr>\n",
       "    <tr>\n",
       "      <th>14</th>\n",
       "      <td>A002</td>\n",
       "      <td>R051</td>\n",
       "      <td>02-00-00</td>\n",
       "      <td>59 ST</td>\n",
       "      <td>2019-02-25</td>\n",
       "      <td>11:00:00</td>\n",
       "      <td>6956705</td>\n",
       "      <td>2019-02-25 11:00:00</td>\n",
       "      <td>115.000</td>\n",
       "      <td>04:00:00</td>\n",
       "      <td>A006</td>\n",
       "      <td>202.453</td>\n",
       "      <td>225.514</td>\n",
       "      <td>-0.388</td>\n",
       "    </tr>\n",
       "    <tr>\n",
       "      <th>15</th>\n",
       "      <td>A002</td>\n",
       "      <td>R051</td>\n",
       "      <td>02-00-00</td>\n",
       "      <td>59 ST</td>\n",
       "      <td>2019-02-25</td>\n",
       "      <td>15:00:00</td>\n",
       "      <td>6956905</td>\n",
       "      <td>2019-02-25 15:00:00</td>\n",
       "      <td>200.000</td>\n",
       "      <td>04:00:00</td>\n",
       "      <td>A006</td>\n",
       "      <td>202.453</td>\n",
       "      <td>225.514</td>\n",
       "      <td>-0.011</td>\n",
       "    </tr>\n",
       "    <tr>\n",
       "      <th>16</th>\n",
       "      <td>A002</td>\n",
       "      <td>R051</td>\n",
       "      <td>02-00-00</td>\n",
       "      <td>59 ST</td>\n",
       "      <td>2019-02-25</td>\n",
       "      <td>19:00:00</td>\n",
       "      <td>6957645</td>\n",
       "      <td>2019-02-25 19:00:00</td>\n",
       "      <td>740.000</td>\n",
       "      <td>04:00:00</td>\n",
       "      <td>A006</td>\n",
       "      <td>202.453</td>\n",
       "      <td>225.514</td>\n",
       "      <td>2.384</td>\n",
       "    </tr>\n",
       "    <tr>\n",
       "      <th>17</th>\n",
       "      <td>A002</td>\n",
       "      <td>R051</td>\n",
       "      <td>02-00-00</td>\n",
       "      <td>59 ST</td>\n",
       "      <td>2019-02-25</td>\n",
       "      <td>23:00:00</td>\n",
       "      <td>6957918</td>\n",
       "      <td>2019-02-25 23:00:00</td>\n",
       "      <td>273.000</td>\n",
       "      <td>04:00:00</td>\n",
       "      <td>A006</td>\n",
       "      <td>202.453</td>\n",
       "      <td>225.514</td>\n",
       "      <td>0.313</td>\n",
       "    </tr>\n",
       "    <tr>\n",
       "      <th>18</th>\n",
       "      <td>A002</td>\n",
       "      <td>R051</td>\n",
       "      <td>02-00-00</td>\n",
       "      <td>59 ST</td>\n",
       "      <td>2019-02-26</td>\n",
       "      <td>03:00:00</td>\n",
       "      <td>6957937</td>\n",
       "      <td>2019-02-26 03:00:00</td>\n",
       "      <td>19.000</td>\n",
       "      <td>04:00:00</td>\n",
       "      <td>A006</td>\n",
       "      <td>202.453</td>\n",
       "      <td>225.514</td>\n",
       "      <td>-0.813</td>\n",
       "    </tr>\n",
       "    <tr>\n",
       "      <th>19</th>\n",
       "      <td>A002</td>\n",
       "      <td>R051</td>\n",
       "      <td>02-00-00</td>\n",
       "      <td>59 ST</td>\n",
       "      <td>2019-02-26</td>\n",
       "      <td>07:00:00</td>\n",
       "      <td>6957947</td>\n",
       "      <td>2019-02-26 07:00:00</td>\n",
       "      <td>10.000</td>\n",
       "      <td>04:00:00</td>\n",
       "      <td>A006</td>\n",
       "      <td>202.453</td>\n",
       "      <td>225.514</td>\n",
       "      <td>-0.853</td>\n",
       "    </tr>\n",
       "  </tbody>\n",
       "</table>\n",
       "</div>"
      ],
      "text/plain": [
       "     C/A  UNIT       SCP STATION       DATE      TIME  ENTRIES  \\\n",
       "0   A002  R051  02-00-00   59 ST 2019-02-23  03:00:00  6955483   \n",
       "1   A002  R051  02-00-00   59 ST 2019-02-23  07:00:00  6955494   \n",
       "2   A002  R051  02-00-00   59 ST 2019-02-23  11:00:00  6955554   \n",
       "3   A002  R051  02-00-00   59 ST 2019-02-23  15:00:00  6955714   \n",
       "4   A002  R051  02-00-00   59 ST 2019-02-23  19:00:00  6956004   \n",
       "5   A002  R051  02-00-00   59 ST 2019-02-23  23:00:00  6956147   \n",
       "6   A002  R051  02-00-00   59 ST 2019-02-24  03:00:00  6956177   \n",
       "7   A002  R051  02-00-00   59 ST 2019-02-24  07:00:00  6956184   \n",
       "8   A002  R051  02-00-00   59 ST 2019-02-24  11:00:00  6956215   \n",
       "9   A002  R051  02-00-00   59 ST 2019-02-24  15:00:00  6956315   \n",
       "10  A002  R051  02-00-00   59 ST 2019-02-24  19:00:00  6956472   \n",
       "11  A002  R051  02-00-00   59 ST 2019-02-24  23:00:00  6956566   \n",
       "12  A002  R051  02-00-00   59 ST 2019-02-25  03:00:00  6956582   \n",
       "13  A002  R051  02-00-00   59 ST 2019-02-25  07:00:00  6956590   \n",
       "14  A002  R051  02-00-00   59 ST 2019-02-25  11:00:00  6956705   \n",
       "15  A002  R051  02-00-00   59 ST 2019-02-25  15:00:00  6956905   \n",
       "16  A002  R051  02-00-00   59 ST 2019-02-25  19:00:00  6957645   \n",
       "17  A002  R051  02-00-00   59 ST 2019-02-25  23:00:00  6957918   \n",
       "18  A002  R051  02-00-00   59 ST 2019-02-26  03:00:00  6957937   \n",
       "19  A002  R051  02-00-00   59 ST 2019-02-26  07:00:00  6957947   \n",
       "\n",
       "              datetime  entries_since_last_record time_interval   mad  \\\n",
       "0  2019-02-23 03:00:00                        nan           NaT  A002   \n",
       "1  2019-02-23 07:00:00                     11.000      04:00:00  A002   \n",
       "2  2019-02-23 11:00:00                     60.000      04:00:00  A002   \n",
       "3  2019-02-23 15:00:00                    160.000      04:00:00  A002   \n",
       "4  2019-02-23 19:00:00                    290.000      04:00:00  A002   \n",
       "5  2019-02-23 23:00:00                    143.000      04:00:00  A002   \n",
       "6  2019-02-24 03:00:00                     30.000      04:00:00  A002   \n",
       "7  2019-02-24 07:00:00                      7.000      04:00:00  A002   \n",
       "8  2019-02-24 11:00:00                     31.000      04:00:00  A002   \n",
       "9  2019-02-24 15:00:00                    100.000      04:00:00  A002   \n",
       "10 2019-02-24 19:00:00                    157.000      04:00:00  A002   \n",
       "11 2019-02-24 23:00:00                     94.000      04:00:00  A002   \n",
       "12 2019-02-25 03:00:00                     16.000      04:00:00  A006   \n",
       "13 2019-02-25 07:00:00                      8.000      04:00:00  A006   \n",
       "14 2019-02-25 11:00:00                    115.000      04:00:00  A006   \n",
       "15 2019-02-25 15:00:00                    200.000      04:00:00  A006   \n",
       "16 2019-02-25 19:00:00                    740.000      04:00:00  A006   \n",
       "17 2019-02-25 23:00:00                    273.000      04:00:00  A006   \n",
       "18 2019-02-26 03:00:00                     19.000      04:00:00  A006   \n",
       "19 2019-02-26 07:00:00                     10.000      04:00:00  A006   \n",
       "\n",
       "    unit_mean  unit_std  deviations  \n",
       "0     202.453   225.514         nan  \n",
       "1     202.453   225.514      -0.849  \n",
       "2     202.453   225.514      -0.632  \n",
       "3     202.453   225.514      -0.188  \n",
       "4     202.453   225.514       0.388  \n",
       "5     202.453   225.514      -0.264  \n",
       "6     202.453   225.514      -0.765  \n",
       "7     202.453   225.514      -0.867  \n",
       "8     202.453   225.514      -0.760  \n",
       "9     202.453   225.514      -0.454  \n",
       "10    202.453   225.514      -0.202  \n",
       "11    202.453   225.514      -0.481  \n",
       "12    202.453   225.514      -0.827  \n",
       "13    202.453   225.514      -0.862  \n",
       "14    202.453   225.514      -0.388  \n",
       "15    202.453   225.514      -0.011  \n",
       "16    202.453   225.514       2.384  \n",
       "17    202.453   225.514       0.313  \n",
       "18    202.453   225.514      -0.813  \n",
       "19    202.453   225.514      -0.853  "
      ]
     },
     "execution_count": 454,
     "metadata": {},
     "output_type": "execute_result"
    }
   ],
   "source": [
    "sorted_data.head(20)"
   ]
  },
  {
   "cell_type": "markdown",
   "metadata": {},
   "source": [
    "## 2.4 Visualize Outliers"
   ]
  },
  {
   "cell_type": "code",
   "execution_count": 112,
   "metadata": {},
   "outputs": [
    {
     "data": {
      "text/plain": [
       "Text(0, 0.5, 'Number of Entries')"
      ]
     },
     "execution_count": 112,
     "metadata": {},
     "output_type": "execute_result"
    },
    {
     "data": {
      "image/png": "[encoded data removed]",
      "text/plain": [
       "<Figure size 432x288 with 1 Axes>"
      ]
     },
     "metadata": {
      "needs_background": "light"
     },
     "output_type": "display_data"
    }
   ],
   "source": [
    "interval_in_hours = sorted_data.time_interval.dt.total_seconds() / 3600\n",
    "\n",
    "plt.scatter(interval_in_hours, sorted_data.entries_since_last_record, alpha=0.1)\n",
    "plt.xlabel('Hours in the interval')\n",
    "plt.ylabel('Number of Entries')\n",
    "plt.title('Raw')"
   ]
  },
  {
   "cell_type": "code",
   "execution_count": 114,
   "metadata": {},
   "outputs": [
    {
     "data": {
      "text/plain": [
       "(-3000, 5000)"
      ]
     },
     "execution_count": 114,
     "metadata": {},
     "output_type": "execute_result"
    },
    {
     "data": {
      "image/png": "[encoded data removed]",
      "text/plain": [
       "<Figure size 432x288 with 1 Axes>"
      ]
     },
     "metadata": {
      "needs_background": "light"
     },
     "output_type": "display_data"
    }
   ],
   "source": [
    "plt.scatter(hours, sorted_data.entries_since_last_record, alpha=0.1)\n",
    "plt.xlabel('Hours in the interval')\n",
    "plt.ylabel('Number of Entries')\n",
    "plt.title('Zoomed In')\n",
    "plt.xlim([0,150])\n",
    "plt.ylim([-3000, 5000])"
   ]
  },
  {
   "cell_type": "markdown",
   "metadata": {},
   "source": [
    "Conclusion: high entries values are not due to long time intervals for counting"
   ]
  },
  {
   "cell_type": "code",
   "execution_count": 118,
   "metadata": {},
   "outputs": [
    {
     "data": {
      "text/plain": [
       "8.0"
      ]
     },
     "execution_count": 118,
     "metadata": {},
     "output_type": "execute_result"
    }
   ],
   "source": [
    "sorted_data.time_interval.quantile(0.999).total_seconds() / 3600"
   ]
  },
  {
   "cell_type": "code",
   "execution_count": 119,
   "metadata": {},
   "outputs": [
    {
     "data": {
      "text/plain": [
       "1913.0"
      ]
     },
     "execution_count": 119,
     "metadata": {},
     "output_type": "execute_result"
    }
   ],
   "source": [
    "sorted_data.entries_since_last_record.quantile(0.999)"
   ]
  },
  {
   "cell_type": "code",
   "execution_count": 137,
   "metadata": {},
   "outputs": [
    {
     "data": {
      "text/plain": [
       "-1.0"
      ]
     },
     "execution_count": 137,
     "metadata": {},
     "output_type": "execute_result"
    }
   ],
   "source": [
    "sorted_data.entries_since_last_record.quantile(0.0091)"
   ]
  },
  {
   "cell_type": "markdown",
   "metadata": {},
   "source": [
    "Conclusion: Could remove all intervals above 8 hrs, all negative entries values, and all entries values above 1913 and still only remove ~1.1% of the data set"
   ]
  },
  {
   "cell_type": "markdown",
   "metadata": {},
   "source": [
    "## 2.5 Calculate Outliers Within A Turnstile"
   ]
  },
  {
   "cell_type": "code",
   "execution_count": 164,
   "metadata": {},
   "outputs": [],
   "source": [
    "sorted_data['unit_mean'] = sorted_data.groupby(['C/A', 'UNIT', 'SCP', 'STATION'])['entries_since_last_record'].transform('mean')"
   ]
  },
  {
   "cell_type": "code",
   "execution_count": 165,
   "metadata": {},
   "outputs": [],
   "source": [
    "sorted_data['unit_std'] = sorted_data.groupby(['C/A', 'UNIT', 'SCP', 'STATION'])['entries_since_last_record'].transform('std')"
   ]
  },
  {
   "cell_type": "code",
   "execution_count": 169,
   "metadata": {},
   "outputs": [],
   "source": [
    "sorted_data['deviations'] = (sorted_data['entries_since_last_record'] - sorted_data['unit_mean']) / sorted_data['unit_std']\n"
   ]
  },
  {
   "cell_type": "code",
   "execution_count": 173,
   "metadata": {},
   "outputs": [
    {
     "data": {
      "text/html": [
       "<div>\n",
       "<style scoped>\n",
       "    .dataframe tbody tr th:only-of-type {\n",
       "        vertical-align: middle;\n",
       "    }\n",
       "\n",
       "    .dataframe tbody tr th {\n",
       "        vertical-align: top;\n",
       "    }\n",
       "\n",
       "    .dataframe thead th {\n",
       "        text-align: right;\n",
       "    }\n",
       "</style>\n",
       "<table border=\"1\" class=\"dataframe\">\n",
       "  <thead>\n",
       "    <tr style=\"text-align: right;\">\n",
       "      <th></th>\n",
       "      <th>ENTRIES</th>\n",
       "      <th>entries_since_last_record</th>\n",
       "      <th>time_interval</th>\n",
       "      <th>unit_mean</th>\n",
       "      <th>unit_std</th>\n",
       "      <th>deviations</th>\n",
       "    </tr>\n",
       "  </thead>\n",
       "  <tbody>\n",
       "    <tr>\n",
       "      <th>count</th>\n",
       "      <td>1016285.000</td>\n",
       "      <td>1011402.000</td>\n",
       "      <td>1011402</td>\n",
       "      <td>1016271.000</td>\n",
       "      <td>1016265.000</td>\n",
       "      <td>960222.000</td>\n",
       "    </tr>\n",
       "    <tr>\n",
       "      <th>mean</th>\n",
       "      <td>40529956.499</td>\n",
       "      <td>2066.048</td>\n",
       "      <td>0 days 03:59:39.541903</td>\n",
       "      <td>2064.916</td>\n",
       "      <td>151249.407</td>\n",
       "      <td>0.000</td>\n",
       "    </tr>\n",
       "    <tr>\n",
       "      <th>std</th>\n",
       "      <td>208311278.270</td>\n",
       "      <td>3421941.072</td>\n",
       "      <td>0 days 01:36:09.342946</td>\n",
       "      <td>234270.500</td>\n",
       "      <td>3418951.384</td>\n",
       "      <td>0.998</td>\n",
       "    </tr>\n",
       "    <tr>\n",
       "      <th>min</th>\n",
       "      <td>0.000</td>\n",
       "      <td>-1428035580.000</td>\n",
       "      <td>0 days 00:00:00</td>\n",
       "      <td>-7069372.589</td>\n",
       "      <td>0.000</td>\n",
       "      <td>-14.933</td>\n",
       "    </tr>\n",
       "    <tr>\n",
       "      <th>0.01%</th>\n",
       "      <td>0.000</td>\n",
       "      <td>-1791052.851</td>\n",
       "      <td>0 days 00:00:08</td>\n",
       "      <td>-7069372.589</td>\n",
       "      <td>0.000</td>\n",
       "      <td>-13.711</td>\n",
       "    </tr>\n",
       "    <tr>\n",
       "      <th>0.1%</th>\n",
       "      <td>0.000</td>\n",
       "      <td>-825.000</td>\n",
       "      <td>0 days 00:01:20</td>\n",
       "      <td>-642517.976</td>\n",
       "      <td>0.000</td>\n",
       "      <td>-1.785</td>\n",
       "    </tr>\n",
       "    <tr>\n",
       "      <th>1%</th>\n",
       "      <td>0.000</td>\n",
       "      <td>0.000</td>\n",
       "      <td>0 days 01:20:56</td>\n",
       "      <td>-9349.700</td>\n",
       "      <td>0.000</td>\n",
       "      <td>-1.351</td>\n",
       "    </tr>\n",
       "    <tr>\n",
       "      <th>10%</th>\n",
       "      <td>18391.000</td>\n",
       "      <td>0.000</td>\n",
       "      <td>0 days 04:00:00</td>\n",
       "      <td>0.048</td>\n",
       "      <td>0.951</td>\n",
       "      <td>-0.991</td>\n",
       "    </tr>\n",
       "    <tr>\n",
       "      <th>50%</th>\n",
       "      <td>2285667.000</td>\n",
       "      <td>68.000</td>\n",
       "      <td>0 days 04:00:00</td>\n",
       "      <td>137.986</td>\n",
       "      <td>143.202</td>\n",
       "      <td>-0.186</td>\n",
       "    </tr>\n",
       "    <tr>\n",
       "      <th>90%</th>\n",
       "      <td>15417265.600</td>\n",
       "      <td>479.000</td>\n",
       "      <td>0 days 04:00:00</td>\n",
       "      <td>364.577</td>\n",
       "      <td>380.190</td>\n",
       "      <td>1.428</td>\n",
       "    </tr>\n",
       "    <tr>\n",
       "      <th>99%</th>\n",
       "      <td>1382615084.480</td>\n",
       "      <td>1189.000</td>\n",
       "      <td>0 days 04:12:00</td>\n",
       "      <td>670.319</td>\n",
       "      <td>511519.184</td>\n",
       "      <td>2.798</td>\n",
       "    </tr>\n",
       "    <tr>\n",
       "      <th>99.9%</th>\n",
       "      <td>2029836069.024</td>\n",
       "      <td>1913.000</td>\n",
       "      <td>0 days 08:00:00</td>\n",
       "      <td>819485.627</td>\n",
       "      <td>54764093.658</td>\n",
       "      <td>4.552</td>\n",
       "    </tr>\n",
       "    <tr>\n",
       "      <th>99.99%</th>\n",
       "      <td>2129430119.571</td>\n",
       "      <td>3273.743</td>\n",
       "      <td>1 days 16:00:00</td>\n",
       "      <td>9805281.690</td>\n",
       "      <td>143101877.154</td>\n",
       "      <td>11.843</td>\n",
       "    </tr>\n",
       "    <tr>\n",
       "      <th>max</th>\n",
       "      <td>2129458754.000</td>\n",
       "      <td>2088503242.000</td>\n",
       "      <td>24 days 05:00:00</td>\n",
       "      <td>9805281.690</td>\n",
       "      <td>143101877.154</td>\n",
       "      <td>14.560</td>\n",
       "    </tr>\n",
       "  </tbody>\n",
       "</table>\n",
       "</div>"
      ],
      "text/plain": [
       "              ENTRIES  entries_since_last_record           time_interval  \\\n",
       "count     1016285.000                1011402.000                 1011402   \n",
       "mean     40529956.499                   2066.048  0 days 03:59:39.541903   \n",
       "std     208311278.270                3421941.072  0 days 01:36:09.342946   \n",
       "min             0.000            -1428035580.000         0 days 00:00:00   \n",
       "0.01%           0.000               -1791052.851         0 days 00:00:08   \n",
       "0.1%            0.000                   -825.000         0 days 00:01:20   \n",
       "1%              0.000                      0.000         0 days 01:20:56   \n",
       "10%         18391.000                      0.000         0 days 04:00:00   \n",
       "50%       2285667.000                     68.000         0 days 04:00:00   \n",
       "90%      15417265.600                    479.000         0 days 04:00:00   \n",
       "99%    1382615084.480                   1189.000         0 days 04:12:00   \n",
       "99.9%  2029836069.024                   1913.000         0 days 08:00:00   \n",
       "99.99% 2129430119.571                   3273.743         1 days 16:00:00   \n",
       "max    2129458754.000             2088503242.000        24 days 05:00:00   \n",
       "\n",
       "          unit_mean      unit_std  deviations  \n",
       "count   1016271.000   1016265.000  960222.000  \n",
       "mean       2064.916    151249.407       0.000  \n",
       "std      234270.500   3418951.384       0.998  \n",
       "min    -7069372.589         0.000     -14.933  \n",
       "0.01%  -7069372.589         0.000     -13.711  \n",
       "0.1%    -642517.976         0.000      -1.785  \n",
       "1%        -9349.700         0.000      -1.351  \n",
       "10%           0.048         0.951      -0.991  \n",
       "50%         137.986       143.202      -0.186  \n",
       "90%         364.577       380.190       1.428  \n",
       "99%         670.319    511519.184       2.798  \n",
       "99.9%    819485.627  54764093.658       4.552  \n",
       "99.99%  9805281.690 143101877.154      11.843  \n",
       "max     9805281.690 143101877.154      14.560  "
      ]
     },
     "execution_count": 173,
     "metadata": {},
     "output_type": "execute_result"
    }
   ],
   "source": [
    "sorted_data.describe([0.0001, 0.001, 0.01, 0.1, 0.9, 0.99, 0.999, 0.9999])"
   ]
  },
  {
   "cell_type": "markdown",
   "metadata": {},
   "source": [
    "## 2.6 Remove Within Unit Outliers"
   ]
  },
  {
   "cell_type": "code",
   "execution_count": 207,
   "metadata": {},
   "outputs": [],
   "source": [
    "no_unit_outliers = sorted_data[((sorted_data.deviations > -5) & (sorted_data.deviations < 5)) | sorted_data.deviations.isna()]"
   ]
  },
  {
   "cell_type": "code",
   "execution_count": 208,
   "metadata": {},
   "outputs": [
    {
     "data": {
      "text/plain": [
       "0.9990711267016634"
      ]
     },
     "execution_count": 208,
     "metadata": {},
     "output_type": "execute_result"
    }
   ],
   "source": [
    "no_unit_outliers.shape[0] / sorted_data.shape[0]"
   ]
  },
  {
   "cell_type": "markdown",
   "metadata": {},
   "source": [
    "## 2.7 Visualize Without Unit Outliers"
   ]
  },
  {
   "cell_type": "code",
   "execution_count": 456,
   "metadata": {},
   "outputs": [
    {
     "data": {
      "text/plain": [
       "Text(0.5, 1.0, 'Raw')"
      ]
     },
     "execution_count": 456,
     "metadata": {},
     "output_type": "execute_result"
    },
    {
     "data": {
      "image/png": "[encoded data removed]",
      "text/plain": [
       "<Figure size 432x288 with 1 Axes>"
      ]
     },
     "metadata": {
      "needs_background": "light"
     },
     "output_type": "display_data"
    }
   ],
   "source": [
    "interval_in_hours = no_unit_outliers.time_interval.dt.total_seconds() / 3600\n",
    "\n",
    "plt.scatter(interval_in_hours, no_unit_outliers.entries_since_last_record, alpha=0.2)\n",
    "plt.xlabel('Hours in the interval')\n",
    "plt.ylabel('Number of Entries')\n",
    "plt.title('Raw')\n"
   ]
  },
  {
   "cell_type": "code",
   "execution_count": 210,
   "metadata": {},
   "outputs": [
    {
     "data": {
      "text/html": [
       "<div>\n",
       "<style scoped>\n",
       "    .dataframe tbody tr th:only-of-type {\n",
       "        vertical-align: middle;\n",
       "    }\n",
       "\n",
       "    .dataframe tbody tr th {\n",
       "        vertical-align: top;\n",
       "    }\n",
       "\n",
       "    .dataframe thead th {\n",
       "        text-align: right;\n",
       "    }\n",
       "</style>\n",
       "<table border=\"1\" class=\"dataframe\">\n",
       "  <thead>\n",
       "    <tr style=\"text-align: right;\">\n",
       "      <th></th>\n",
       "      <th>ENTRIES</th>\n",
       "      <th>entries_since_last_record</th>\n",
       "      <th>time_interval</th>\n",
       "      <th>unit_mean</th>\n",
       "      <th>unit_std</th>\n",
       "      <th>deviations</th>\n",
       "    </tr>\n",
       "  </thead>\n",
       "  <tbody>\n",
       "    <tr>\n",
       "      <th>count</th>\n",
       "      <td>1015341.000</td>\n",
       "      <td>1010458.000</td>\n",
       "      <td>1010458</td>\n",
       "      <td>1015327.000</td>\n",
       "      <td>1015321.000</td>\n",
       "      <td>959278.000</td>\n",
       "    </tr>\n",
       "    <tr>\n",
       "      <th>mean</th>\n",
       "      <td>40537504.316</td>\n",
       "      <td>217.006</td>\n",
       "      <td>0 days 03:59:14.722463</td>\n",
       "      <td>2058.965</td>\n",
       "      <td>150540.900</td>\n",
       "      <td>-0.004</td>\n",
       "    </tr>\n",
       "    <tr>\n",
       "      <th>std</th>\n",
       "      <td>208328233.072</td>\n",
       "      <td>82970.949</td>\n",
       "      <td>0 days 01:16:05.855198</td>\n",
       "      <td>233812.099</td>\n",
       "      <td>3411897.994</td>\n",
       "      <td>0.955</td>\n",
       "    </tr>\n",
       "    <tr>\n",
       "      <th>min</th>\n",
       "      <td>0.000</td>\n",
       "      <td>-10314855.000</td>\n",
       "      <td>0 days 00:00:00</td>\n",
       "      <td>-7069372.589</td>\n",
       "      <td>0.000</td>\n",
       "      <td>-4.948</td>\n",
       "    </tr>\n",
       "    <tr>\n",
       "      <th>0.01%</th>\n",
       "      <td>0.000</td>\n",
       "      <td>-1658.954</td>\n",
       "      <td>0 days 00:00:18</td>\n",
       "      <td>-7069372.589</td>\n",
       "      <td>0.000</td>\n",
       "      <td>-2.750</td>\n",
       "    </tr>\n",
       "    <tr>\n",
       "      <th>0.1%</th>\n",
       "      <td>0.000</td>\n",
       "      <td>-727.000</td>\n",
       "      <td>0 days 00:01:20</td>\n",
       "      <td>-642517.976</td>\n",
       "      <td>0.000</td>\n",
       "      <td>-1.665</td>\n",
       "    </tr>\n",
       "    <tr>\n",
       "      <th>1%</th>\n",
       "      <td>0.000</td>\n",
       "      <td>0.000</td>\n",
       "      <td>0 days 01:20:59</td>\n",
       "      <td>-9349.700</td>\n",
       "      <td>0.000</td>\n",
       "      <td>-1.349</td>\n",
       "    </tr>\n",
       "    <tr>\n",
       "      <th>10%</th>\n",
       "      <td>18646.000</td>\n",
       "      <td>0.000</td>\n",
       "      <td>0 days 04:00:00</td>\n",
       "      <td>0.048</td>\n",
       "      <td>0.968</td>\n",
       "      <td>-0.991</td>\n",
       "    </tr>\n",
       "    <tr>\n",
       "      <th>50%</th>\n",
       "      <td>2290987.000</td>\n",
       "      <td>68.000</td>\n",
       "      <td>0 days 04:00:00</td>\n",
       "      <td>138.129</td>\n",
       "      <td>143.222</td>\n",
       "      <td>-0.187</td>\n",
       "    </tr>\n",
       "    <tr>\n",
       "      <th>90%</th>\n",
       "      <td>15416988.000</td>\n",
       "      <td>478.000</td>\n",
       "      <td>0 days 04:00:00</td>\n",
       "      <td>364.577</td>\n",
       "      <td>380.190</td>\n",
       "      <td>1.420</td>\n",
       "    </tr>\n",
       "    <tr>\n",
       "      <th>99%</th>\n",
       "      <td>1382615103.200</td>\n",
       "      <td>1186.000</td>\n",
       "      <td>0 days 04:12:00</td>\n",
       "      <td>670.319</td>\n",
       "      <td>511519.184</td>\n",
       "      <td>2.771</td>\n",
       "    </tr>\n",
       "    <tr>\n",
       "      <th>99.9%</th>\n",
       "      <td>2029836054.240</td>\n",
       "      <td>1889.000</td>\n",
       "      <td>0 days 08:00:00</td>\n",
       "      <td>819485.627</td>\n",
       "      <td>44410163.637</td>\n",
       "      <td>3.748</td>\n",
       "    </tr>\n",
       "    <tr>\n",
       "      <th>99.99%</th>\n",
       "      <td>2129430134.958</td>\n",
       "      <td>2492.817</td>\n",
       "      <td>0 days 20:00:00</td>\n",
       "      <td>9805281.690</td>\n",
       "      <td>143101877.154</td>\n",
       "      <td>4.746</td>\n",
       "    </tr>\n",
       "    <tr>\n",
       "      <th>max</th>\n",
       "      <td>2129458754.000</td>\n",
       "      <td>49872891.000</td>\n",
       "      <td>24 days 05:00:00</td>\n",
       "      <td>9805281.690</td>\n",
       "      <td>143101877.154</td>\n",
       "      <td>4.999</td>\n",
       "    </tr>\n",
       "  </tbody>\n",
       "</table>\n",
       "</div>"
      ],
      "text/plain": [
       "              ENTRIES  entries_since_last_record           time_interval  \\\n",
       "count     1015341.000                1010458.000                 1010458   \n",
       "mean     40537504.316                    217.006  0 days 03:59:14.722463   \n",
       "std     208328233.072                  82970.949  0 days 01:16:05.855198   \n",
       "min             0.000              -10314855.000         0 days 00:00:00   \n",
       "0.01%           0.000                  -1658.954         0 days 00:00:18   \n",
       "0.1%            0.000                   -727.000         0 days 00:01:20   \n",
       "1%              0.000                      0.000         0 days 01:20:59   \n",
       "10%         18646.000                      0.000         0 days 04:00:00   \n",
       "50%       2290987.000                     68.000         0 days 04:00:00   \n",
       "90%      15416988.000                    478.000         0 days 04:00:00   \n",
       "99%    1382615103.200                   1186.000         0 days 04:12:00   \n",
       "99.9%  2029836054.240                   1889.000         0 days 08:00:00   \n",
       "99.99% 2129430134.958                   2492.817         0 days 20:00:00   \n",
       "max    2129458754.000               49872891.000        24 days 05:00:00   \n",
       "\n",
       "          unit_mean      unit_std  deviations  \n",
       "count   1015327.000   1015321.000  959278.000  \n",
       "mean       2058.965    150540.900      -0.004  \n",
       "std      233812.099   3411897.994       0.955  \n",
       "min    -7069372.589         0.000      -4.948  \n",
       "0.01%  -7069372.589         0.000      -2.750  \n",
       "0.1%    -642517.976         0.000      -1.665  \n",
       "1%        -9349.700         0.000      -1.349  \n",
       "10%           0.048         0.968      -0.991  \n",
       "50%         138.129       143.222      -0.187  \n",
       "90%         364.577       380.190       1.420  \n",
       "99%         670.319    511519.184       2.771  \n",
       "99.9%    819485.627  44410163.637       3.748  \n",
       "99.99%  9805281.690 143101877.154       4.746  \n",
       "max     9805281.690 143101877.154       4.999  "
      ]
     },
     "execution_count": 210,
     "metadata": {},
     "output_type": "execute_result"
    }
   ],
   "source": [
    "no_unit_outliers.describe([0.0001, 0.001, 0.01, 0.1, 0.9, 0.99, 0.999, 0.9999])"
   ]
  },
  {
   "cell_type": "markdown",
   "metadata": {},
   "source": [
    "## 2.8 Remove Extreme Entries Outliers"
   ]
  },
  {
   "cell_type": "code",
   "execution_count": 217,
   "metadata": {},
   "outputs": [],
   "source": [
    "no_extreme_outliers = no_unit_outliers[\n",
    "    (no_unit_outliers.entries_since_last_record < no_unit_outliers.entries_since_last_record.quantile(0.99995)) & \n",
    "    (no_unit_outliers.entries_since_last_record > no_unit_outliers.entries_since_last_record.quantile(0.00005))]"
   ]
  },
  {
   "cell_type": "code",
   "execution_count": 218,
   "metadata": {},
   "outputs": [
    {
     "data": {
      "text/plain": [
       "Text(0.5, 1.0, 'Raw')"
      ]
     },
     "execution_count": 218,
     "metadata": {},
     "output_type": "execute_result"
    },
    {
     "data": {
      "image/png": "[encoded data removed]",
      "text/plain": [
       "<Figure size 432x288 with 1 Axes>"
      ]
     },
     "metadata": {
      "needs_background": "light"
     },
     "output_type": "display_data"
    }
   ],
   "source": [
    "interval_in_hours = no_extreme_outliers.time_interval.dt.total_seconds() / 3600\n",
    "\n",
    "plt.scatter(interval_in_hours, no_extreme_outliers.entries_since_last_record, alpha=0.1)\n",
    "plt.xlabel('Hours in the interval')\n",
    "plt.ylabel('Number of Entries')\n",
    "plt.title('Raw')"
   ]
  },
  {
   "cell_type": "markdown",
   "metadata": {},
   "source": [
    "## 2.9 Remove Extreme Interval Outliers"
   ]
  },
  {
   "cell_type": "code",
   "execution_count": 220,
   "metadata": {},
   "outputs": [
    {
     "data": {
      "text/html": [
       "<div>\n",
       "<style scoped>\n",
       "    .dataframe tbody tr th:only-of-type {\n",
       "        vertical-align: middle;\n",
       "    }\n",
       "\n",
       "    .dataframe tbody tr th {\n",
       "        vertical-align: top;\n",
       "    }\n",
       "\n",
       "    .dataframe thead th {\n",
       "        text-align: right;\n",
       "    }\n",
       "</style>\n",
       "<table border=\"1\" class=\"dataframe\">\n",
       "  <thead>\n",
       "    <tr style=\"text-align: right;\">\n",
       "      <th></th>\n",
       "      <th>ENTRIES</th>\n",
       "      <th>entries_since_last_record</th>\n",
       "      <th>time_interval</th>\n",
       "      <th>unit_mean</th>\n",
       "      <th>unit_std</th>\n",
       "      <th>deviations</th>\n",
       "    </tr>\n",
       "  </thead>\n",
       "  <tbody>\n",
       "    <tr>\n",
       "      <th>count</th>\n",
       "      <td>1010356.000</td>\n",
       "      <td>1010356.000</td>\n",
       "      <td>1010356</td>\n",
       "      <td>1010356.000</td>\n",
       "      <td>1010353.000</td>\n",
       "      <td>959176.000</td>\n",
       "    </tr>\n",
       "    <tr>\n",
       "      <th>mean</th>\n",
       "      <td>40529168.748</td>\n",
       "      <td>167.707</td>\n",
       "      <td>0 days 03:59:13.490501</td>\n",
       "      <td>2044.986</td>\n",
       "      <td>150125.708</td>\n",
       "      <td>-0.004</td>\n",
       "    </tr>\n",
       "    <tr>\n",
       "      <th>std</th>\n",
       "      <td>208302536.217</td>\n",
       "      <td>257.439</td>\n",
       "      <td>0 days 01:15:26.454563</td>\n",
       "      <td>233540.788</td>\n",
       "      <td>3408202.641</td>\n",
       "      <td>0.955</td>\n",
       "    </tr>\n",
       "    <tr>\n",
       "      <th>min</th>\n",
       "      <td>0.000</td>\n",
       "      <td>-2092.000</td>\n",
       "      <td>0 days 00:00:00</td>\n",
       "      <td>-7069372.589</td>\n",
       "      <td>0.000</td>\n",
       "      <td>-4.530</td>\n",
       "    </tr>\n",
       "    <tr>\n",
       "      <th>0.01%</th>\n",
       "      <td>0.000</td>\n",
       "      <td>-1505.929</td>\n",
       "      <td>0 days 00:00:31</td>\n",
       "      <td>-7069372.589</td>\n",
       "      <td>0.000</td>\n",
       "      <td>-2.689</td>\n",
       "    </tr>\n",
       "    <tr>\n",
       "      <th>0.1%</th>\n",
       "      <td>0.000</td>\n",
       "      <td>-706.645</td>\n",
       "      <td>0 days 00:01:20</td>\n",
       "      <td>-642517.976</td>\n",
       "      <td>0.000</td>\n",
       "      <td>-1.652</td>\n",
       "    </tr>\n",
       "    <tr>\n",
       "      <th>1%</th>\n",
       "      <td>0.000</td>\n",
       "      <td>0.000</td>\n",
       "      <td>0 days 01:21:15</td>\n",
       "      <td>-9349.700</td>\n",
       "      <td>0.000</td>\n",
       "      <td>-1.349</td>\n",
       "    </tr>\n",
       "    <tr>\n",
       "      <th>10%</th>\n",
       "      <td>18664.000</td>\n",
       "      <td>0.000</td>\n",
       "      <td>0 days 04:00:00</td>\n",
       "      <td>0.048</td>\n",
       "      <td>0.968</td>\n",
       "      <td>-0.991</td>\n",
       "    </tr>\n",
       "    <tr>\n",
       "      <th>50%</th>\n",
       "      <td>2290595.000</td>\n",
       "      <td>68.000</td>\n",
       "      <td>0 days 04:00:00</td>\n",
       "      <td>138.129</td>\n",
       "      <td>143.222</td>\n",
       "      <td>-0.187</td>\n",
       "    </tr>\n",
       "    <tr>\n",
       "      <th>90%</th>\n",
       "      <td>15413273.500</td>\n",
       "      <td>478.000</td>\n",
       "      <td>0 days 04:00:00</td>\n",
       "      <td>364.577</td>\n",
       "      <td>379.898</td>\n",
       "      <td>1.419</td>\n",
       "    </tr>\n",
       "    <tr>\n",
       "      <th>99%</th>\n",
       "      <td>1382614716.900</td>\n",
       "      <td>1184.000</td>\n",
       "      <td>0 days 04:12:00</td>\n",
       "      <td>670.319</td>\n",
       "      <td>511519.184</td>\n",
       "      <td>2.771</td>\n",
       "    </tr>\n",
       "    <tr>\n",
       "      <th>99.9%</th>\n",
       "      <td>2029836050.280</td>\n",
       "      <td>1878.000</td>\n",
       "      <td>0 days 08:00:00</td>\n",
       "      <td>819485.627</td>\n",
       "      <td>44410163.637</td>\n",
       "      <td>3.743</td>\n",
       "    </tr>\n",
       "    <tr>\n",
       "      <th>99.99%</th>\n",
       "      <td>2129430058.113</td>\n",
       "      <td>2403.000</td>\n",
       "      <td>0 days 20:00:00</td>\n",
       "      <td>9805281.690</td>\n",
       "      <td>143101877.154</td>\n",
       "      <td>4.745</td>\n",
       "    </tr>\n",
       "    <tr>\n",
       "      <th>max</th>\n",
       "      <td>2129458679.000</td>\n",
       "      <td>2622.000</td>\n",
       "      <td>24 days 05:00:00</td>\n",
       "      <td>9805281.690</td>\n",
       "      <td>143101877.154</td>\n",
       "      <td>4.999</td>\n",
       "    </tr>\n",
       "  </tbody>\n",
       "</table>\n",
       "</div>"
      ],
      "text/plain": [
       "              ENTRIES  entries_since_last_record           time_interval  \\\n",
       "count     1010356.000                1010356.000                 1010356   \n",
       "mean     40529168.748                    167.707  0 days 03:59:13.490501   \n",
       "std     208302536.217                    257.439  0 days 01:15:26.454563   \n",
       "min             0.000                  -2092.000         0 days 00:00:00   \n",
       "0.01%           0.000                  -1505.929         0 days 00:00:31   \n",
       "0.1%            0.000                   -706.645         0 days 00:01:20   \n",
       "1%              0.000                      0.000         0 days 01:21:15   \n",
       "10%         18664.000                      0.000         0 days 04:00:00   \n",
       "50%       2290595.000                     68.000         0 days 04:00:00   \n",
       "90%      15413273.500                    478.000         0 days 04:00:00   \n",
       "99%    1382614716.900                   1184.000         0 days 04:12:00   \n",
       "99.9%  2029836050.280                   1878.000         0 days 08:00:00   \n",
       "99.99% 2129430058.113                   2403.000         0 days 20:00:00   \n",
       "max    2129458679.000                   2622.000        24 days 05:00:00   \n",
       "\n",
       "          unit_mean      unit_std  deviations  \n",
       "count   1010356.000   1010353.000  959176.000  \n",
       "mean       2044.986    150125.708      -0.004  \n",
       "std      233540.788   3408202.641       0.955  \n",
       "min    -7069372.589         0.000      -4.530  \n",
       "0.01%  -7069372.589         0.000      -2.689  \n",
       "0.1%    -642517.976         0.000      -1.652  \n",
       "1%        -9349.700         0.000      -1.349  \n",
       "10%           0.048         0.968      -0.991  \n",
       "50%         138.129       143.222      -0.187  \n",
       "90%         364.577       379.898       1.419  \n",
       "99%         670.319    511519.184       2.771  \n",
       "99.9%    819485.627  44410163.637       3.743  \n",
       "99.99%  9805281.690 143101877.154       4.745  \n",
       "max     9805281.690 143101877.154       4.999  "
      ]
     },
     "execution_count": 220,
     "metadata": {},
     "output_type": "execute_result"
    }
   ],
   "source": [
    "no_extreme_outliers.describe([0.0001, 0.001, 0.01, 0.1, 0.9, 0.99, 0.999, 0.9999])"
   ]
  },
  {
   "cell_type": "code",
   "execution_count": 222,
   "metadata": {},
   "outputs": [],
   "source": [
    "no_extreme_interval_outliers = no_extreme_outliers[no_extreme_outliers.time_interval < no_extreme_outliers.time_interval.quantile(0.99995)]"
   ]
  },
  {
   "cell_type": "code",
   "execution_count": 223,
   "metadata": {},
   "outputs": [
    {
     "data": {
      "text/plain": [
       "0.9999495227424788"
      ]
     },
     "execution_count": 223,
     "metadata": {},
     "output_type": "execute_result"
    }
   ],
   "source": [
    "no_extreme_interval_outliers.shape[0] / no_extreme_outliers.shape[0]"
   ]
  },
  {
   "cell_type": "code",
   "execution_count": 224,
   "metadata": {},
   "outputs": [
    {
     "data": {
      "text/plain": [
       "Text(0.5, 1.0, 'Raw')"
      ]
     },
     "execution_count": 224,
     "metadata": {},
     "output_type": "execute_result"
    },
    {
     "data": {
      "image/png": "[encoded data removed]",
      "text/plain": [
       "<Figure size 432x288 with 1 Axes>"
      ]
     },
     "metadata": {
      "needs_background": "light"
     },
     "output_type": "display_data"
    }
   ],
   "source": [
    "interval_in_hours = no_extreme_interval_outliers.time_interval.dt.total_seconds() / 3600\n",
    "\n",
    "plt.scatter(interval_in_hours, no_extreme_interval_outliers.entries_since_last_record, alpha=0.1)\n",
    "plt.xlabel('Hours in the interval')\n",
    "plt.ylabel('Number of Entries')\n",
    "plt.title('Raw')"
   ]
  },
  {
   "cell_type": "code",
   "execution_count": 227,
   "metadata": {},
   "outputs": [
    {
     "data": {
      "text/plain": [
       "0.005884176190733892"
      ]
     },
     "execution_count": 227,
     "metadata": {},
     "output_type": "execute_result"
    }
   ],
   "source": [
    "# Status - the percent we've removed thus far\n",
    "1 - (no_extreme_interval_outliers.shape[0] / mta_data.shape[0])"
   ]
  },
  {
   "cell_type": "markdown",
   "metadata": {},
   "source": [
    "## 2.10 Investigate Negatives"
   ]
  },
  {
   "cell_type": "code",
   "execution_count": 237,
   "metadata": {},
   "outputs": [
    {
     "name": "stderr",
     "output_type": "stream",
     "text": [
      "/Users/willyraedy/anaconda3/envs/metis/lib/python3.7/site-packages/ipykernel_launcher.py:1: SettingWithCopyWarning: \n",
      "A value is trying to be set on a copy of a slice from a DataFrame.\n",
      "Try using .loc[row_indexer,col_indexer] = value instead\n",
      "\n",
      "See the caveats in the documentation: http://pandas.pydata.org/pandas-docs/stable/user_guide/indexing.html#returning-a-view-versus-a-copy\n",
      "  \"\"\"Entry point for launching an IPython kernel.\n"
     ]
    }
   ],
   "source": [
    "no_extreme_interval_outliers['always_decreasing'] = no_extreme_interval_outliers.groupby(['C/A', 'UNIT', 'SCP', 'STATION']).transform(lambda s: s.is_monotonic_decreasing)['ENTRIES']\n"
   ]
  },
  {
   "cell_type": "code",
   "execution_count": 259,
   "metadata": {},
   "outputs": [],
   "source": [
    "always_decreasing = no_extreme_interval_outliers[\n",
    "    (no_extreme_interval_outliers.entries_since_last_record < 0) &\n",
    "    no_extreme_interval_outliers.always_decreasing &\n",
    "    no_extreme_interval_outliers.unit_mean != 0\n",
    "]"
   ]
  },
  {
   "cell_type": "code",
   "execution_count": 264,
   "metadata": {},
   "outputs": [
    {
     "data": {
      "text/html": [
       "<div>\n",
       "<style scoped>\n",
       "    .dataframe tbody tr th:only-of-type {\n",
       "        vertical-align: middle;\n",
       "    }\n",
       "\n",
       "    .dataframe tbody tr th {\n",
       "        vertical-align: top;\n",
       "    }\n",
       "\n",
       "    .dataframe thead th {\n",
       "        text-align: right;\n",
       "    }\n",
       "</style>\n",
       "<table border=\"1\" class=\"dataframe\">\n",
       "  <thead>\n",
       "    <tr style=\"text-align: right;\">\n",
       "      <th></th>\n",
       "      <th>ENTRIES</th>\n",
       "      <th>entries_since_last_record</th>\n",
       "      <th>time_interval</th>\n",
       "      <th>unit_mean</th>\n",
       "      <th>unit_std</th>\n",
       "      <th>deviations</th>\n",
       "    </tr>\n",
       "  </thead>\n",
       "  <tbody>\n",
       "    <tr>\n",
       "      <th>count</th>\n",
       "      <td>8607.000</td>\n",
       "      <td>8607.000</td>\n",
       "      <td>8607</td>\n",
       "      <td>8607.000</td>\n",
       "      <td>8607.000</td>\n",
       "      <td>8607.000</td>\n",
       "    </tr>\n",
       "    <tr>\n",
       "      <th>mean</th>\n",
       "      <td>1198984225.002</td>\n",
       "      <td>-294.060</td>\n",
       "      <td>0 days 03:57:03.137911</td>\n",
       "      <td>-290.659</td>\n",
       "      <td>269.349</td>\n",
       "      <td>-0.031</td>\n",
       "    </tr>\n",
       "    <tr>\n",
       "      <th>std</th>\n",
       "      <td>661311811.510</td>\n",
       "      <td>331.913</td>\n",
       "      <td>0 days 00:29:02.202133</td>\n",
       "      <td>156.279</td>\n",
       "      <td>140.238</td>\n",
       "      <td>0.996</td>\n",
       "    </tr>\n",
       "    <tr>\n",
       "      <th>min</th>\n",
       "      <td>8695.000</td>\n",
       "      <td>-2092.000</td>\n",
       "      <td>0 days 00:00:56</td>\n",
       "      <td>-660.356</td>\n",
       "      <td>0.591</td>\n",
       "      <td>-4.530</td>\n",
       "    </tr>\n",
       "    <tr>\n",
       "      <th>0.01%</th>\n",
       "      <td>8976.416</td>\n",
       "      <td>-2082.533</td>\n",
       "      <td>0 days 00:01:14.933200</td>\n",
       "      <td>-660.356</td>\n",
       "      <td>0.591</td>\n",
       "      <td>-4.530</td>\n",
       "    </tr>\n",
       "    <tr>\n",
       "      <th>0.1%</th>\n",
       "      <td>10617.356</td>\n",
       "      <td>-1884.970</td>\n",
       "      <td>0 days 00:01:20</td>\n",
       "      <td>-660.356</td>\n",
       "      <td>0.591</td>\n",
       "      <td>-3.487</td>\n",
       "    </tr>\n",
       "    <tr>\n",
       "      <th>1%</th>\n",
       "      <td>25203.800</td>\n",
       "      <td>-1537.940</td>\n",
       "      <td>0 days 00:31:36.320000</td>\n",
       "      <td>-660.356</td>\n",
       "      <td>43.866</td>\n",
       "      <td>-2.711</td>\n",
       "    </tr>\n",
       "    <tr>\n",
       "      <th>10%</th>\n",
       "      <td>98304563.000</td>\n",
       "      <td>-715.400</td>\n",
       "      <td>0 days 04:00:00</td>\n",
       "      <td>-549.857</td>\n",
       "      <td>83.564</td>\n",
       "      <td>-1.566</td>\n",
       "    </tr>\n",
       "    <tr>\n",
       "      <th>50%</th>\n",
       "      <td>1291172679.000</td>\n",
       "      <td>-186.000</td>\n",
       "      <td>0 days 04:00:00</td>\n",
       "      <td>-279.582</td>\n",
       "      <td>262.773</td>\n",
       "      <td>0.218</td>\n",
       "    </tr>\n",
       "    <tr>\n",
       "      <th>90%</th>\n",
       "      <td>1942995409.400</td>\n",
       "      <td>-14.000</td>\n",
       "      <td>0 days 04:00:00</td>\n",
       "      <td>-84.701</td>\n",
       "      <td>492.438</td>\n",
       "      <td>1.007</td>\n",
       "    </tr>\n",
       "    <tr>\n",
       "      <th>99%</th>\n",
       "      <td>2129433747.740</td>\n",
       "      <td>-1.000</td>\n",
       "      <td>0 days 04:00:00</td>\n",
       "      <td>-44.519</td>\n",
       "      <td>553.630</td>\n",
       "      <td>1.298</td>\n",
       "    </tr>\n",
       "    <tr>\n",
       "      <th>99.9%</th>\n",
       "      <td>2129457452.738</td>\n",
       "      <td>-1.000</td>\n",
       "      <td>0 days 08:00:00</td>\n",
       "      <td>-0.321</td>\n",
       "      <td>553.630</td>\n",
       "      <td>1.448</td>\n",
       "    </tr>\n",
       "    <tr>\n",
       "      <th>99.99%</th>\n",
       "      <td>2129458655.764</td>\n",
       "      <td>-1.000</td>\n",
       "      <td>0 days 08:33:27.360000</td>\n",
       "      <td>-0.321</td>\n",
       "      <td>553.630</td>\n",
       "      <td>1.460</td>\n",
       "    </tr>\n",
       "    <tr>\n",
       "      <th>max</th>\n",
       "      <td>2129458679.000</td>\n",
       "      <td>-1.000</td>\n",
       "      <td>0 days 12:00:00</td>\n",
       "      <td>-0.321</td>\n",
       "      <td>553.630</td>\n",
       "      <td>1.464</td>\n",
       "    </tr>\n",
       "  </tbody>\n",
       "</table>\n",
       "</div>"
      ],
      "text/plain": [
       "              ENTRIES  entries_since_last_record           time_interval  \\\n",
       "count        8607.000                   8607.000                    8607   \n",
       "mean   1198984225.002                   -294.060  0 days 03:57:03.137911   \n",
       "std     661311811.510                    331.913  0 days 00:29:02.202133   \n",
       "min          8695.000                  -2092.000         0 days 00:00:56   \n",
       "0.01%        8976.416                  -2082.533  0 days 00:01:14.933200   \n",
       "0.1%        10617.356                  -1884.970         0 days 00:01:20   \n",
       "1%          25203.800                  -1537.940  0 days 00:31:36.320000   \n",
       "10%      98304563.000                   -715.400         0 days 04:00:00   \n",
       "50%    1291172679.000                   -186.000         0 days 04:00:00   \n",
       "90%    1942995409.400                    -14.000         0 days 04:00:00   \n",
       "99%    2129433747.740                     -1.000         0 days 04:00:00   \n",
       "99.9%  2129457452.738                     -1.000         0 days 08:00:00   \n",
       "99.99% 2129458655.764                     -1.000  0 days 08:33:27.360000   \n",
       "max    2129458679.000                     -1.000         0 days 12:00:00   \n",
       "\n",
       "        unit_mean  unit_std  deviations  \n",
       "count    8607.000  8607.000    8607.000  \n",
       "mean     -290.659   269.349      -0.031  \n",
       "std       156.279   140.238       0.996  \n",
       "min      -660.356     0.591      -4.530  \n",
       "0.01%    -660.356     0.591      -4.530  \n",
       "0.1%     -660.356     0.591      -3.487  \n",
       "1%       -660.356    43.866      -2.711  \n",
       "10%      -549.857    83.564      -1.566  \n",
       "50%      -279.582   262.773       0.218  \n",
       "90%       -84.701   492.438       1.007  \n",
       "99%       -44.519   553.630       1.298  \n",
       "99.9%      -0.321   553.630       1.448  \n",
       "99.99%     -0.321   553.630       1.460  \n",
       "max        -0.321   553.630       1.464  "
      ]
     },
     "execution_count": 264,
     "metadata": {},
     "output_type": "execute_result"
    }
   ],
   "source": [
    "always_decreasing.describe([0.0001, 0.001, 0.01, 0.1, 0.9, 0.99, 0.999, 0.9999])"
   ]
  },
  {
   "cell_type": "code",
   "execution_count": 261,
   "metadata": {},
   "outputs": [
    {
     "data": {
      "text/plain": [
       "Text(0.5, 1.0, 'Raw')"
      ]
     },
     "execution_count": 261,
     "metadata": {},
     "output_type": "execute_result"
    },
    {
     "data": {
      "image/png": "[encoded data removed]",
      "text/plain": [
       "<Figure size 432x288 with 1 Axes>"
      ]
     },
     "metadata": {
      "needs_background": "light"
     },
     "output_type": "display_data"
    }
   ],
   "source": [
    "interval_in_hours = always_decreasing.time_interval.dt.total_seconds() / 3600\n",
    "\n",
    "plt.scatter(interval_in_hours, always_decreasing.entries_since_last_record, alpha=0.1)\n",
    "plt.xlabel('Hours in the interval')\n",
    "plt.ylabel('Number of Entries')\n",
    "plt.title('Raw')"
   ]
  },
  {
   "cell_type": "code",
   "execution_count": 263,
   "metadata": {},
   "outputs": [
    {
     "data": {
      "text/plain": [
       "0.9518911745189117"
      ]
     },
     "execution_count": 263,
     "metadata": {},
     "output_type": "execute_result"
    }
   ],
   "source": [
    "always_decreasing.shape[0] / no_extreme_interval_outliers[no_extreme_interval_outliers.entries_since_last_record < 0].shape[0]"
   ]
  },
  {
   "cell_type": "markdown",
   "metadata": {},
   "source": [
    "95% of negative values are in turnstiles that are always decreasing"
   ]
  },
  {
   "cell_type": "markdown",
   "metadata": {},
   "source": [
    "## 2.11 Flip Reasonable Negatives"
   ]
  },
  {
   "cell_type": "code",
   "execution_count": 265,
   "metadata": {},
   "outputs": [],
   "source": [
    "copy = no_extreme_interval_outliers.copy()"
   ]
  },
  {
   "cell_type": "code",
   "execution_count": 290,
   "metadata": {},
   "outputs": [
    {
     "data": {
      "text/plain": [
       "-1537.94"
      ]
     },
     "execution_count": 290,
     "metadata": {},
     "output_type": "execute_result"
    }
   ],
   "source": [
    "always_decreasing.entries_since_last_record.quantile(0.01)"
   ]
  },
  {
   "cell_type": "code",
   "execution_count": 296,
   "metadata": {},
   "outputs": [],
   "source": [
    "copy['corrected_entries_since_last_record'] = np.where(\n",
    "    (\n",
    "        (copy.entries_since_last_record < 0) &\n",
    "        copy.always_decreasing &\n",
    "        copy.unit_mean != 0 &\n",
    "        (copy.entries_since_last_record > always_decreasing.entries_since_last_record.quantile(0.01))\n",
    "    ),\n",
    "    np.abs(copy.entries_since_last_record),\n",
    "    copy.entries_since_last_record\n",
    ")"
   ]
  },
  {
   "cell_type": "markdown",
   "metadata": {},
   "source": [
    "## 2.12 Drop Remaining Negatives"
   ]
  },
  {
   "cell_type": "code",
   "execution_count": 308,
   "metadata": {},
   "outputs": [],
   "source": [
    "cleaned = copy[copy.corrected_entries_since_last_record >= 0]"
   ]
  },
  {
   "cell_type": "code",
   "execution_count": 311,
   "metadata": {},
   "outputs": [
    {
     "data": {
      "text/plain": [
       "0.9936877942703081"
      ]
     },
     "execution_count": 311,
     "metadata": {},
     "output_type": "execute_result"
    }
   ],
   "source": [
    "cleaned.shape[0] / mta_data.shape[0]"
   ]
  },
  {
   "cell_type": "markdown",
   "metadata": {},
   "source": [
    "We removed 0.7% of the data"
   ]
  },
  {
   "cell_type": "code",
   "execution_count": 313,
   "metadata": {},
   "outputs": [
    {
     "data": {
      "text/plain": [
       "Text(0.5, 1.0, 'Cleaned')"
      ]
     },
     "execution_count": 313,
     "metadata": {},
     "output_type": "execute_result"
    },
    {
     "data": {
      "image/png": "[encoded data removed]",
      "text/plain": [
       "<Figure size 432x288 with 1 Axes>"
      ]
     },
     "metadata": {
      "needs_background": "light"
     },
     "output_type": "display_data"
    }
   ],
   "source": [
    "interval_in_hours = cleaned.time_interval.dt.total_seconds() / 3600\n",
    "\n",
    "plt.scatter(interval_in_hours, cleaned.corrected_entries_since_last_record, alpha=0.1)\n",
    "plt.xlabel('Hours in the interval')\n",
    "plt.ylabel('Number of Entries')\n",
    "plt.title('Cleaned')"
   ]
  },
  {
   "cell_type": "markdown",
   "metadata": {},
   "source": [
    "## 2.13 Select Relevant Columns"
   ]
  },
  {
   "cell_type": "code",
   "execution_count": 315,
   "metadata": {},
   "outputs": [],
   "source": [
    "relevant = cleaned[['C/A', 'UNIT', 'SCP', 'STATION', 'DATE', 'TIME', 'datetime', 'corrected_entries_since_last_record', 'time_interval']]\n",
    "                   "
   ]
  },
  {
   "cell_type": "code",
   "execution_count": 317,
   "metadata": {},
   "outputs": [],
   "source": [
    "relevant = relevant.rename(columns={'corrected_entries_since_last_record': 'entries'})"
   ]
  },
  {
   "cell_type": "code",
   "execution_count": 319,
   "metadata": {},
   "outputs": [
    {
     "name": "stdout",
     "output_type": "stream",
     "text": [
      "<class 'pandas.core.frame.DataFrame'>\n",
      "Int64Index: 1009870 entries, 1 to 204594\n",
      "Data columns (total 9 columns):\n",
      "C/A              1009870 non-null object\n",
      "UNIT             1009870 non-null object\n",
      "SCP              1009870 non-null object\n",
      "STATION          1009870 non-null object\n",
      "DATE             1009870 non-null datetime64[ns]\n",
      "TIME             1009870 non-null object\n",
      "datetime         1009870 non-null datetime64[ns]\n",
      "entries          1009870 non-null float64\n",
      "time_interval    1009870 non-null timedelta64[ns]\n",
      "dtypes: datetime64[ns](2), float64(1), object(5), timedelta64[ns](1)\n",
      "memory usage: 77.0+ MB\n"
     ]
    }
   ],
   "source": [
    "relevant.info()"
   ]
  },
  {
   "cell_type": "code",
   "execution_count": 457,
   "metadata": {},
   "outputs": [
    {
     "data": {
      "text/html": [
       "<div>\n",
       "<style scoped>\n",
       "    .dataframe tbody tr th:only-of-type {\n",
       "        vertical-align: middle;\n",
       "    }\n",
       "\n",
       "    .dataframe tbody tr th {\n",
       "        vertical-align: top;\n",
       "    }\n",
       "\n",
       "    .dataframe thead th {\n",
       "        text-align: right;\n",
       "    }\n",
       "</style>\n",
       "<table border=\"1\" class=\"dataframe\">\n",
       "  <thead>\n",
       "    <tr style=\"text-align: right;\">\n",
       "      <th></th>\n",
       "      <th>C/A</th>\n",
       "      <th>UNIT</th>\n",
       "      <th>SCP</th>\n",
       "      <th>STATION</th>\n",
       "      <th>DATE</th>\n",
       "      <th>TIME</th>\n",
       "      <th>datetime</th>\n",
       "      <th>entries</th>\n",
       "      <th>time_interval</th>\n",
       "    </tr>\n",
       "  </thead>\n",
       "  <tbody>\n",
       "    <tr>\n",
       "      <th>1</th>\n",
       "      <td>A002</td>\n",
       "      <td>R051</td>\n",
       "      <td>02-00-00</td>\n",
       "      <td>59 ST</td>\n",
       "      <td>2019-02-23</td>\n",
       "      <td>07:00:00</td>\n",
       "      <td>2019-02-23 07:00:00</td>\n",
       "      <td>11.000</td>\n",
       "      <td>04:00:00</td>\n",
       "    </tr>\n",
       "    <tr>\n",
       "      <th>2</th>\n",
       "      <td>A002</td>\n",
       "      <td>R051</td>\n",
       "      <td>02-00-00</td>\n",
       "      <td>59 ST</td>\n",
       "      <td>2019-02-23</td>\n",
       "      <td>11:00:00</td>\n",
       "      <td>2019-02-23 11:00:00</td>\n",
       "      <td>60.000</td>\n",
       "      <td>04:00:00</td>\n",
       "    </tr>\n",
       "    <tr>\n",
       "      <th>3</th>\n",
       "      <td>A002</td>\n",
       "      <td>R051</td>\n",
       "      <td>02-00-00</td>\n",
       "      <td>59 ST</td>\n",
       "      <td>2019-02-23</td>\n",
       "      <td>15:00:00</td>\n",
       "      <td>2019-02-23 15:00:00</td>\n",
       "      <td>160.000</td>\n",
       "      <td>04:00:00</td>\n",
       "    </tr>\n",
       "    <tr>\n",
       "      <th>4</th>\n",
       "      <td>A002</td>\n",
       "      <td>R051</td>\n",
       "      <td>02-00-00</td>\n",
       "      <td>59 ST</td>\n",
       "      <td>2019-02-23</td>\n",
       "      <td>19:00:00</td>\n",
       "      <td>2019-02-23 19:00:00</td>\n",
       "      <td>290.000</td>\n",
       "      <td>04:00:00</td>\n",
       "    </tr>\n",
       "    <tr>\n",
       "      <th>5</th>\n",
       "      <td>A002</td>\n",
       "      <td>R051</td>\n",
       "      <td>02-00-00</td>\n",
       "      <td>59 ST</td>\n",
       "      <td>2019-02-23</td>\n",
       "      <td>23:00:00</td>\n",
       "      <td>2019-02-23 23:00:00</td>\n",
       "      <td>143.000</td>\n",
       "      <td>04:00:00</td>\n",
       "    </tr>\n",
       "  </tbody>\n",
       "</table>\n",
       "</div>"
      ],
      "text/plain": [
       "    C/A  UNIT       SCP STATION       DATE      TIME            datetime  \\\n",
       "1  A002  R051  02-00-00   59 ST 2019-02-23  07:00:00 2019-02-23 07:00:00   \n",
       "2  A002  R051  02-00-00   59 ST 2019-02-23  11:00:00 2019-02-23 11:00:00   \n",
       "3  A002  R051  02-00-00   59 ST 2019-02-23  15:00:00 2019-02-23 15:00:00   \n",
       "4  A002  R051  02-00-00   59 ST 2019-02-23  19:00:00 2019-02-23 19:00:00   \n",
       "5  A002  R051  02-00-00   59 ST 2019-02-23  23:00:00 2019-02-23 23:00:00   \n",
       "\n",
       "   entries time_interval  \n",
       "1   11.000      04:00:00  \n",
       "2   60.000      04:00:00  \n",
       "3  160.000      04:00:00  \n",
       "4  290.000      04:00:00  \n",
       "5  143.000      04:00:00  "
      ]
     },
     "execution_count": 457,
     "metadata": {},
     "output_type": "execute_result"
    }
   ],
   "source": [
    "relevant.head()"
   ]
  },
  {
   "cell_type": "markdown",
   "metadata": {},
   "source": [
    "# 3. Store Data"
   ]
  },
  {
   "cell_type": "code",
   "execution_count": 321,
   "metadata": {},
   "outputs": [],
   "source": [
    "with open('cleaned_mta_data_march.pickle', 'wb') as write_file:\n",
    "    pickle.dump(relevant, write_file)"
   ]
  },
  {
   "cell_type": "markdown",
   "metadata": {},
   "source": [
    "# 4. Adjust Intervals That Cross Days"
   ]
  },
  {
   "cell_type": "markdown",
   "metadata": {},
   "source": [
    "## 4.1 Explore Intervals "
   ]
  },
  {
   "cell_type": "code",
   "execution_count": 340,
   "metadata": {},
   "outputs": [
    {
     "data": {
      "text/plain": [
       "04:00:00    76541\n",
       "08:00:00    76492\n",
       "20:00:00    76428\n",
       "16:00:00    76403\n",
       "12:00:00    76385\n",
       "00:00:00    73916\n",
       "11:00:00    37790\n",
       "07:00:00    37784\n",
       "23:00:00    37764\n",
       "15:00:00    37737\n",
       "19:00:00    37703\n",
       "05:00:00    37650\n",
       "09:00:00    37650\n",
       "21:00:00    37610\n",
       "17:00:00    37605\n",
       "13:00:00    37573\n",
       "01:00:00    35824\n",
       "03:00:00    35308\n",
       "14:00:00     2820\n",
       "22:00:00     2817\n",
       "Name: TIME, dtype: int64"
      ]
     },
     "execution_count": 340,
     "metadata": {},
     "output_type": "execute_result"
    }
   ],
   "source": [
    "counts = relevant.TIME.value_counts()\n",
    "counts.head(20)"
   ]
  },
  {
   "cell_type": "code",
   "execution_count": 343,
   "metadata": {},
   "outputs": [
    {
     "data": {
      "text/plain": [
       "datetime.time(7, 0)"
      ]
     },
     "execution_count": 343,
     "metadata": {},
     "output_type": "execute_result"
    }
   ],
   "source": [
    "relevant.iloc[0].TIME"
   ]
  },
  {
   "cell_type": "code",
   "execution_count": 345,
   "metadata": {},
   "outputs": [
    {
     "data": {
      "text/html": [
       "<div>\n",
       "<style scoped>\n",
       "    .dataframe tbody tr th:only-of-type {\n",
       "        vertical-align: middle;\n",
       "    }\n",
       "\n",
       "    .dataframe tbody tr th {\n",
       "        vertical-align: top;\n",
       "    }\n",
       "\n",
       "    .dataframe thead th {\n",
       "        text-align: right;\n",
       "    }\n",
       "</style>\n",
       "<table border=\"1\" class=\"dataframe\">\n",
       "  <thead>\n",
       "    <tr style=\"text-align: right;\">\n",
       "      <th></th>\n",
       "      <th>C/A</th>\n",
       "      <th>UNIT</th>\n",
       "      <th>SCP</th>\n",
       "      <th>STATION</th>\n",
       "      <th>DATE</th>\n",
       "      <th>TIME</th>\n",
       "      <th>datetime</th>\n",
       "      <th>entries</th>\n",
       "      <th>time_interval</th>\n",
       "    </tr>\n",
       "  </thead>\n",
       "  <tbody>\n",
       "    <tr>\n",
       "      <th>11</th>\n",
       "      <td>A002</td>\n",
       "      <td>R051</td>\n",
       "      <td>02-00-00</td>\n",
       "      <td>59 ST</td>\n",
       "      <td>2019-03-11</td>\n",
       "      <td>00:00:00</td>\n",
       "      <td>2019-03-11</td>\n",
       "      <td>80.000</td>\n",
       "      <td>04:00:00</td>\n",
       "    </tr>\n",
       "    <tr>\n",
       "      <th>17</th>\n",
       "      <td>A002</td>\n",
       "      <td>R051</td>\n",
       "      <td>02-00-00</td>\n",
       "      <td>59 ST</td>\n",
       "      <td>2019-03-12</td>\n",
       "      <td>00:00:00</td>\n",
       "      <td>2019-03-12</td>\n",
       "      <td>175.000</td>\n",
       "      <td>04:00:00</td>\n",
       "    </tr>\n",
       "    <tr>\n",
       "      <th>23</th>\n",
       "      <td>A002</td>\n",
       "      <td>R051</td>\n",
       "      <td>02-00-00</td>\n",
       "      <td>59 ST</td>\n",
       "      <td>2019-03-13</td>\n",
       "      <td>00:00:00</td>\n",
       "      <td>2019-03-13</td>\n",
       "      <td>229.000</td>\n",
       "      <td>04:00:00</td>\n",
       "    </tr>\n",
       "    <tr>\n",
       "      <th>32</th>\n",
       "      <td>A002</td>\n",
       "      <td>R051</td>\n",
       "      <td>02-00-00</td>\n",
       "      <td>59 ST</td>\n",
       "      <td>2019-03-14</td>\n",
       "      <td>00:00:00</td>\n",
       "      <td>2019-03-14</td>\n",
       "      <td>217.000</td>\n",
       "      <td>04:00:00</td>\n",
       "    </tr>\n",
       "    <tr>\n",
       "      <th>39</th>\n",
       "      <td>A002</td>\n",
       "      <td>R051</td>\n",
       "      <td>02-00-00</td>\n",
       "      <td>59 ST</td>\n",
       "      <td>2019-03-15</td>\n",
       "      <td>00:00:00</td>\n",
       "      <td>2019-03-15</td>\n",
       "      <td>249.000</td>\n",
       "      <td>04:00:00</td>\n",
       "    </tr>\n",
       "    <tr>\n",
       "      <th>...</th>\n",
       "      <td>...</td>\n",
       "      <td>...</td>\n",
       "      <td>...</td>\n",
       "      <td>...</td>\n",
       "      <td>...</td>\n",
       "      <td>...</td>\n",
       "      <td>...</td>\n",
       "      <td>...</td>\n",
       "      <td>...</td>\n",
       "    </tr>\n",
       "    <tr>\n",
       "      <th>203968</th>\n",
       "      <td>TRAM2</td>\n",
       "      <td>R469</td>\n",
       "      <td>00-05-01</td>\n",
       "      <td>RIT-ROOSEVELT</td>\n",
       "      <td>2019-03-06</td>\n",
       "      <td>00:00:00</td>\n",
       "      <td>2019-03-06</td>\n",
       "      <td>0.000</td>\n",
       "      <td>04:00:00</td>\n",
       "    </tr>\n",
       "    <tr>\n",
       "      <th>203974</th>\n",
       "      <td>TRAM2</td>\n",
       "      <td>R469</td>\n",
       "      <td>00-05-01</td>\n",
       "      <td>RIT-ROOSEVELT</td>\n",
       "      <td>2019-03-07</td>\n",
       "      <td>00:00:00</td>\n",
       "      <td>2019-03-07</td>\n",
       "      <td>0.000</td>\n",
       "      <td>04:00:00</td>\n",
       "    </tr>\n",
       "    <tr>\n",
       "      <th>203981</th>\n",
       "      <td>TRAM2</td>\n",
       "      <td>R469</td>\n",
       "      <td>00-05-01</td>\n",
       "      <td>RIT-ROOSEVELT</td>\n",
       "      <td>2019-03-08</td>\n",
       "      <td>00:00:00</td>\n",
       "      <td>2019-03-08</td>\n",
       "      <td>0.000</td>\n",
       "      <td>04:00:00</td>\n",
       "    </tr>\n",
       "    <tr>\n",
       "      <th>201750</th>\n",
       "      <td>TRAM2</td>\n",
       "      <td>R469</td>\n",
       "      <td>00-05-01</td>\n",
       "      <td>RIT-ROOSEVELT</td>\n",
       "      <td>2019-03-09</td>\n",
       "      <td>00:00:00</td>\n",
       "      <td>2019-03-09</td>\n",
       "      <td>0.000</td>\n",
       "      <td>04:00:00</td>\n",
       "    </tr>\n",
       "    <tr>\n",
       "      <th>201756</th>\n",
       "      <td>TRAM2</td>\n",
       "      <td>R469</td>\n",
       "      <td>00-05-01</td>\n",
       "      <td>RIT-ROOSEVELT</td>\n",
       "      <td>2019-03-10</td>\n",
       "      <td>00:00:00</td>\n",
       "      <td>2019-03-10</td>\n",
       "      <td>0.000</td>\n",
       "      <td>04:00:00</td>\n",
       "    </tr>\n",
       "  </tbody>\n",
       "</table>\n",
       "<p>73916 rows × 9 columns</p>\n",
       "</div>"
      ],
      "text/plain": [
       "          C/A  UNIT       SCP        STATION       DATE      TIME   datetime  \\\n",
       "11       A002  R051  02-00-00          59 ST 2019-03-11  00:00:00 2019-03-11   \n",
       "17       A002  R051  02-00-00          59 ST 2019-03-12  00:00:00 2019-03-12   \n",
       "23       A002  R051  02-00-00          59 ST 2019-03-13  00:00:00 2019-03-13   \n",
       "32       A002  R051  02-00-00          59 ST 2019-03-14  00:00:00 2019-03-14   \n",
       "39       A002  R051  02-00-00          59 ST 2019-03-15  00:00:00 2019-03-15   \n",
       "...       ...   ...       ...            ...        ...       ...        ...   \n",
       "203968  TRAM2  R469  00-05-01  RIT-ROOSEVELT 2019-03-06  00:00:00 2019-03-06   \n",
       "203974  TRAM2  R469  00-05-01  RIT-ROOSEVELT 2019-03-07  00:00:00 2019-03-07   \n",
       "203981  TRAM2  R469  00-05-01  RIT-ROOSEVELT 2019-03-08  00:00:00 2019-03-08   \n",
       "201750  TRAM2  R469  00-05-01  RIT-ROOSEVELT 2019-03-09  00:00:00 2019-03-09   \n",
       "201756  TRAM2  R469  00-05-01  RIT-ROOSEVELT 2019-03-10  00:00:00 2019-03-10   \n",
       "\n",
       "        entries time_interval  \n",
       "11       80.000      04:00:00  \n",
       "17      175.000      04:00:00  \n",
       "23      229.000      04:00:00  \n",
       "32      217.000      04:00:00  \n",
       "39      249.000      04:00:00  \n",
       "...         ...           ...  \n",
       "203968    0.000      04:00:00  \n",
       "203974    0.000      04:00:00  \n",
       "203981    0.000      04:00:00  \n",
       "201750    0.000      04:00:00  \n",
       "201756    0.000      04:00:00  \n",
       "\n",
       "[73916 rows x 9 columns]"
      ]
     },
     "execution_count": 345,
     "metadata": {},
     "output_type": "execute_result"
    }
   ],
   "source": [
    "relevant[relevant.TIME == datetime.time(0, 0)]"
   ]
  },
  {
   "cell_type": "code",
   "execution_count": 332,
   "metadata": {},
   "outputs": [],
   "source": [
    "import datetime\n",
    "\n",
    "d1 = pd.to_datetime('1/2/2019 03:00')\n",
    "d2 = d1 - pd.Timedelta('4 hours')"
   ]
  },
  {
   "cell_type": "code",
   "execution_count": 330,
   "metadata": {},
   "outputs": [
    {
     "data": {
      "text/plain": [
       "2"
      ]
     },
     "execution_count": 330,
     "metadata": {},
     "output_type": "execute_result"
    }
   ],
   "source": [
    "d1.day"
   ]
  },
  {
   "cell_type": "code",
   "execution_count": 333,
   "metadata": {},
   "outputs": [
    {
     "data": {
      "text/plain": [
       "1"
      ]
     },
     "execution_count": 333,
     "metadata": {},
     "output_type": "execute_result"
    }
   ],
   "source": [
    "d2.day"
   ]
  },
  {
   "cell_type": "code",
   "execution_count": 346,
   "metadata": {},
   "outputs": [
    {
     "data": {
      "text/plain": [
       "4.0"
      ]
     },
     "execution_count": 346,
     "metadata": {},
     "output_type": "execute_result"
    }
   ],
   "source": [
    "td = pd.Timedelta('4 hours')\n",
    "td.total_seconds() / 3600"
   ]
  },
  {
   "cell_type": "code",
   "execution_count": 348,
   "metadata": {},
   "outputs": [
    {
     "data": {
      "text/plain": [
       "3"
      ]
     },
     "execution_count": 348,
     "metadata": {},
     "output_type": "execute_result"
    }
   ],
   "source": [
    "pd.to_datetime('1/2/2019 03:00').hour"
   ]
  },
  {
   "cell_type": "code",
   "execution_count": 365,
   "metadata": {},
   "outputs": [
    {
     "data": {
      "text/plain": [
       "0.16440333904363927"
      ]
     },
     "execution_count": 365,
     "metadata": {},
     "output_type": "execute_result"
    }
   ],
   "source": [
    "more_than_one_day = relevant[relevant.datetime.dt.hour < (relevant.time_interval.dt.total_seconds() / 3600)]\n",
    "\n",
    "more_than_one_day.shape[0] / relevant.shape[0]"
   ]
  },
  {
   "cell_type": "markdown",
   "metadata": {},
   "source": [
    "16% of the records are overlapping a day"
   ]
  },
  {
   "cell_type": "code",
   "execution_count": 367,
   "metadata": {},
   "outputs": [
    {
     "data": {
      "text/plain": [
       "0.44520737715779457"
      ]
     },
     "execution_count": 367,
     "metadata": {},
     "output_type": "execute_result"
    }
   ],
   "source": [
    "and_at_midnight = more_than_one_day[more_than_one_day.TIME == datetime.time(0, 0)]\n",
    "and_at_midnight.shape[0] / more_than_one_day.shape[0]"
   ]
  },
  {
   "cell_type": "markdown",
   "metadata": {},
   "source": [
    "Of that 16%, almost half of them are at midnight"
   ]
  },
  {
   "cell_type": "code",
   "execution_count": 364,
   "metadata": {},
   "outputs": [
    {
     "data": {
      "text/plain": [
       "0.0028716567478982444"
      ]
     },
     "execution_count": 364,
     "metadata": {},
     "output_type": "execute_result"
    }
   ],
   "source": [
    "(relevant[relevant.time_interval.dt.total_seconds() >= (24 * 3600)].shape[0] / relevant.shape[0]) * 100"
   ]
  },
  {
   "cell_type": "markdown",
   "metadata": {},
   "source": [
    "Less than 0.001% of the records are larger than 1 day. Perhaps remove"
   ]
  },
  {
   "cell_type": "markdown",
   "metadata": {},
   "source": [
    "Plan Below:"
   ]
  },
  {
   "cell_type": "code",
   "execution_count": 368,
   "metadata": {},
   "outputs": [],
   "source": [
    "# remove records with intervals >= 24 hours\n",
    "# add a starting datetime field\n",
    "    # start_datetime = datetime - time_interval\n",
    "    # rename datetime -> 'end_datetime'\n",
    "# drop DATE, TIME\n",
    "# replace all datetime values of 00:00 with 23:59 of the prev day\n",
    " \n",
    "# if starting_datetime and end_datetime are on different days\n",
    "    # insert tomorrow's record:\n",
    "        # station values: same\n",
    "        # start_datetime: 00:00\n",
    "        # end_datetime: end_datetime from record\n",
    "        # entries: proportional\n",
    "        # time_interval: end_datetime - start_datetime\n",
    "    # ajust values:\n",
    "        # entries: proportion of interval on the starting day\n",
    "        # end_datetime: 23:59\n",
    "        # time_interval: end_datetime - start_datetime\n",
    "        "
   ]
  },
  {
   "cell_type": "markdown",
   "metadata": {},
   "source": [
    "## 4.2 Clean Datetime Fields"
   ]
  },
  {
   "cell_type": "code",
   "execution_count": 369,
   "metadata": {},
   "outputs": [],
   "source": [
    "less_than_24 = relevant[relevant.time_interval < pd.Timedelta('24 hours')].copy()"
   ]
  },
  {
   "cell_type": "code",
   "execution_count": 372,
   "metadata": {},
   "outputs": [],
   "source": [
    "less_than_24['start_datetime'] = less_than_24.datetime - less_than_24.time_interval"
   ]
  },
  {
   "cell_type": "code",
   "execution_count": 373,
   "metadata": {},
   "outputs": [],
   "source": [
    "less_than_24 = less_than_24.rename(columns={ 'datetime': 'end_datetime'})"
   ]
  },
  {
   "cell_type": "code",
   "execution_count": 375,
   "metadata": {},
   "outputs": [],
   "source": [
    "less_than_24 = less_than_24.drop(columns=['DATE', 'TIME'])"
   ]
  },
  {
   "cell_type": "code",
   "execution_count": 383,
   "metadata": {},
   "outputs": [],
   "source": [
    "less_than_24['end_datetime'] = np.where(\n",
    "    less_than_24.end_datetime.dt.hour == 0,\n",
    "    less_than_24.end_datetime - pd.Timedelta('1 second'),\n",
    "    less_than_24.end_datetime\n",
    ")"
   ]
  },
  {
   "cell_type": "markdown",
   "metadata": {},
   "source": [
    "## 4.3 Split Entries That Overlap Days"
   ]
  },
  {
   "cell_type": "markdown",
   "metadata": {},
   "source": [
    "### 4.3.1 Append Records for Next Day's Entries"
   ]
  },
  {
   "cell_type": "code",
   "execution_count": 416,
   "metadata": {},
   "outputs": [
    {
     "data": {
      "text/html": [
       "<div>\n",
       "<style scoped>\n",
       "    .dataframe tbody tr th:only-of-type {\n",
       "        vertical-align: middle;\n",
       "    }\n",
       "\n",
       "    .dataframe tbody tr th {\n",
       "        vertical-align: top;\n",
       "    }\n",
       "\n",
       "    .dataframe thead th {\n",
       "        text-align: right;\n",
       "    }\n",
       "</style>\n",
       "<table border=\"1\" class=\"dataframe\">\n",
       "  <thead>\n",
       "    <tr style=\"text-align: right;\">\n",
       "      <th></th>\n",
       "      <th>C/A</th>\n",
       "      <th>UNIT</th>\n",
       "      <th>SCP</th>\n",
       "      <th>STATION</th>\n",
       "      <th>end_datetime</th>\n",
       "      <th>entries</th>\n",
       "      <th>time_interval</th>\n",
       "      <th>start_datetime</th>\n",
       "    </tr>\n",
       "  </thead>\n",
       "  <tbody>\n",
       "    <tr>\n",
       "      <th>1</th>\n",
       "      <td>A002</td>\n",
       "      <td>R051</td>\n",
       "      <td>02-00-00</td>\n",
       "      <td>59 ST</td>\n",
       "      <td>2019-02-23 07:00:00</td>\n",
       "      <td>11.000</td>\n",
       "      <td>04:00:00</td>\n",
       "      <td>2019-02-23 03:00:00</td>\n",
       "    </tr>\n",
       "    <tr>\n",
       "      <th>2</th>\n",
       "      <td>A002</td>\n",
       "      <td>R051</td>\n",
       "      <td>02-00-00</td>\n",
       "      <td>59 ST</td>\n",
       "      <td>2019-02-23 11:00:00</td>\n",
       "      <td>60.000</td>\n",
       "      <td>04:00:00</td>\n",
       "      <td>2019-02-23 07:00:00</td>\n",
       "    </tr>\n",
       "    <tr>\n",
       "      <th>3</th>\n",
       "      <td>A002</td>\n",
       "      <td>R051</td>\n",
       "      <td>02-00-00</td>\n",
       "      <td>59 ST</td>\n",
       "      <td>2019-02-23 15:00:00</td>\n",
       "      <td>160.000</td>\n",
       "      <td>04:00:00</td>\n",
       "      <td>2019-02-23 11:00:00</td>\n",
       "    </tr>\n",
       "    <tr>\n",
       "      <th>4</th>\n",
       "      <td>A002</td>\n",
       "      <td>R051</td>\n",
       "      <td>02-00-00</td>\n",
       "      <td>59 ST</td>\n",
       "      <td>2019-02-23 19:00:00</td>\n",
       "      <td>290.000</td>\n",
       "      <td>04:00:00</td>\n",
       "      <td>2019-02-23 15:00:00</td>\n",
       "    </tr>\n",
       "    <tr>\n",
       "      <th>5</th>\n",
       "      <td>A002</td>\n",
       "      <td>R051</td>\n",
       "      <td>02-00-00</td>\n",
       "      <td>59 ST</td>\n",
       "      <td>2019-02-23 23:00:00</td>\n",
       "      <td>143.000</td>\n",
       "      <td>04:00:00</td>\n",
       "      <td>2019-02-23 19:00:00</td>\n",
       "    </tr>\n",
       "  </tbody>\n",
       "</table>\n",
       "</div>"
      ],
      "text/plain": [
       "    C/A  UNIT       SCP STATION        end_datetime  entries time_interval  \\\n",
       "1  A002  R051  02-00-00   59 ST 2019-02-23 07:00:00   11.000      04:00:00   \n",
       "2  A002  R051  02-00-00   59 ST 2019-02-23 11:00:00   60.000      04:00:00   \n",
       "3  A002  R051  02-00-00   59 ST 2019-02-23 15:00:00  160.000      04:00:00   \n",
       "4  A002  R051  02-00-00   59 ST 2019-02-23 19:00:00  290.000      04:00:00   \n",
       "5  A002  R051  02-00-00   59 ST 2019-02-23 23:00:00  143.000      04:00:00   \n",
       "\n",
       "       start_datetime  \n",
       "1 2019-02-23 03:00:00  \n",
       "2 2019-02-23 07:00:00  \n",
       "3 2019-02-23 11:00:00  \n",
       "4 2019-02-23 15:00:00  \n",
       "5 2019-02-23 19:00:00  "
      ]
     },
     "execution_count": 416,
     "metadata": {},
     "output_type": "execute_result"
    }
   ],
   "source": [
    "less_than_24.head()"
   ]
  },
  {
   "cell_type": "code",
   "execution_count": 403,
   "metadata": {},
   "outputs": [],
   "source": [
    "def set_datetime_to_midnight(date):\n",
    "    return date.replace(hour=0, minute=0, second=0)"
   ]
  },
  {
   "cell_type": "code",
   "execution_count": 412,
   "metadata": {},
   "outputs": [],
   "source": [
    "new_records = less_than_24[less_than_24.start_datetime.dt.day != less_than_24.end_datetime.dt.day].copy()\n",
    "new_records['new_start_datetime'] = new_records.end_datetime.map(set_datetime_to_midnight)\n",
    "new_records['interval_on_that_day'] = new_records.end_datetime - new_records.new_start_datetime"
   ]
  },
  {
   "cell_type": "code",
   "execution_count": 414,
   "metadata": {},
   "outputs": [],
   "source": [
    "new_records['proportional_entries'] = new_records.entries * (new_records.interval_on_that_day / new_records.time_interval)"
   ]
  },
  {
   "cell_type": "code",
   "execution_count": 418,
   "metadata": {},
   "outputs": [],
   "source": [
    "new_records['entries'] = new_records['proportional_entries']\n",
    "new_records['time_interval'] = new_records['interval_on_that_day']\n",
    "new_records['start_datetime'] = new_records['new_start_datetime']\n",
    "records_to_add = new_records[['C/A','UNIT','SCP','STATION','end_datetime','entries','time_interval','start_datetime']]"
   ]
  },
  {
   "cell_type": "code",
   "execution_count": 434,
   "metadata": {},
   "outputs": [],
   "source": [
    "with_split = less_than_24.append(records_to_add)"
   ]
  },
  {
   "cell_type": "markdown",
   "metadata": {},
   "source": [
    "### 4.3.2 Reset Records With Only Today's Value"
   ]
  },
  {
   "cell_type": "code",
   "execution_count": 436,
   "metadata": {},
   "outputs": [],
   "source": [
    "with_split['new_end_datetime'] = np.where(\n",
    "    with_split.start_datetime.dt.day != with_split.end_datetime.dt.day,\n",
    "    with_split.end_datetime.map(lambda date: (date - pd.Timedelta('1 day')).replace(hour=23, minute=59, second=59)),\n",
    "    with_split.end_datetime\n",
    ")"
   ]
  },
  {
   "cell_type": "code",
   "execution_count": 437,
   "metadata": {},
   "outputs": [
    {
     "data": {
      "text/plain": [
       "array(['2019-02-23T23:59:59.000000000', '2019-02-24T23:59:59.000000000',\n",
       "       '2019-02-25T23:59:59.000000000', '2019-02-26T23:59:59.000000000',\n",
       "       '2019-02-27T23:59:59.000000000', '2019-02-28T23:59:59.000000000',\n",
       "       '2019-03-01T23:59:59.000000000', '2019-03-02T23:59:59.000000000',\n",
       "       '2019-03-03T23:59:59.000000000', '2019-03-04T23:59:59.000000000',\n",
       "       '2019-03-05T23:59:59.000000000', '2019-03-06T23:59:59.000000000',\n",
       "       '2019-03-07T23:59:59.000000000', '2019-03-08T23:59:59.000000000',\n",
       "       '2019-03-09T23:59:59.000000000', '2019-03-10T23:59:59.000000000',\n",
       "       '2019-03-11T23:59:59.000000000', '2019-03-12T23:59:59.000000000',\n",
       "       '2019-03-13T23:59:59.000000000', '2019-03-14T23:59:59.000000000',\n",
       "       '2019-03-15T23:59:59.000000000', '2019-03-16T23:59:59.000000000',\n",
       "       '2019-03-17T23:59:59.000000000', '2019-03-18T23:59:59.000000000',\n",
       "       '2019-03-19T23:59:59.000000000', '2019-03-20T23:59:59.000000000',\n",
       "       '2019-03-21T23:59:59.000000000', '2019-03-22T23:59:59.000000000',\n",
       "       '2019-03-23T23:59:59.000000000', '2019-03-24T23:59:59.000000000',\n",
       "       '2019-03-25T23:59:59.000000000', '2019-03-26T23:59:59.000000000',\n",
       "       '2019-03-27T23:59:59.000000000', '2019-03-28T23:59:59.000000000'],\n",
       "      dtype='datetime64[ns]')"
      ]
     },
     "execution_count": 437,
     "metadata": {},
     "output_type": "execute_result"
    }
   ],
   "source": [
    "with_split[with_split.end_datetime != with_split.new_end_datetime].new_end_datetime.unique()"
   ]
  },
  {
   "cell_type": "code",
   "execution_count": 438,
   "metadata": {},
   "outputs": [],
   "source": [
    "with_split['interval_on_that_day'] = with_split.new_end_datetime - with_split.start_datetime"
   ]
  },
  {
   "cell_type": "code",
   "execution_count": 439,
   "metadata": {},
   "outputs": [
    {
     "name": "stderr",
     "output_type": "stream",
     "text": [
      "/Users/willyraedy/anaconda3/envs/metis/lib/python3.7/site-packages/pandas/core/arrays/timedeltas.py:597: RuntimeWarning: invalid value encountered in true_divide\n",
      "  return other / self._data\n"
     ]
    }
   ],
   "source": [
    "with_split['adjusted_entries'] = np.where(\n",
    "    with_split.start_datetime.dt.day != with_split.end_datetime.dt.day,\n",
    "    with_split.entries * (with_split.interval_on_that_day / with_split.time_interval),\n",
    "    with_split.entries\n",
    ")"
   ]
  },
  {
   "cell_type": "code",
   "execution_count": 443,
   "metadata": {},
   "outputs": [
    {
     "data": {
      "text/html": [
       "<div>\n",
       "<style scoped>\n",
       "    .dataframe tbody tr th:only-of-type {\n",
       "        vertical-align: middle;\n",
       "    }\n",
       "\n",
       "    .dataframe tbody tr th {\n",
       "        vertical-align: top;\n",
       "    }\n",
       "\n",
       "    .dataframe thead th {\n",
       "        text-align: right;\n",
       "    }\n",
       "</style>\n",
       "<table border=\"1\" class=\"dataframe\">\n",
       "  <thead>\n",
       "    <tr style=\"text-align: right;\">\n",
       "      <th></th>\n",
       "      <th>C/A</th>\n",
       "      <th>UNIT</th>\n",
       "      <th>SCP</th>\n",
       "      <th>STATION</th>\n",
       "      <th>end_datetime</th>\n",
       "      <th>entries</th>\n",
       "      <th>time_interval</th>\n",
       "      <th>start_datetime</th>\n",
       "      <th>new_end_datetime</th>\n",
       "      <th>interval_on_that_day</th>\n",
       "      <th>adjusted_entries</th>\n",
       "    </tr>\n",
       "  </thead>\n",
       "  <tbody>\n",
       "    <tr>\n",
       "      <th>55123</th>\n",
       "      <td>N073</td>\n",
       "      <td>R013</td>\n",
       "      <td>02-00-04</td>\n",
       "      <td>34 ST-PENN STA</td>\n",
       "      <td>2019-03-03 03:00:00</td>\n",
       "      <td>43.000</td>\n",
       "      <td>04:00:00</td>\n",
       "      <td>2019-03-02 23:00:00</td>\n",
       "      <td>2019-03-02 23:59:59</td>\n",
       "      <td>00:59:59</td>\n",
       "      <td>10.747</td>\n",
       "    </tr>\n",
       "    <tr>\n",
       "      <th>89356</th>\n",
       "      <td>N340A</td>\n",
       "      <td>R115</td>\n",
       "      <td>01-03-00</td>\n",
       "      <td>169 ST</td>\n",
       "      <td>2019-03-04 03:00:00</td>\n",
       "      <td>14.000</td>\n",
       "      <td>04:00:00</td>\n",
       "      <td>2019-03-03 23:00:00</td>\n",
       "      <td>2019-03-03 23:59:59</td>\n",
       "      <td>00:59:59</td>\n",
       "      <td>3.499</td>\n",
       "    </tr>\n",
       "    <tr>\n",
       "      <th>149897</th>\n",
       "      <td>R203</td>\n",
       "      <td>R043</td>\n",
       "      <td>00-03-00</td>\n",
       "      <td>WALL ST</td>\n",
       "      <td>2019-03-23 02:00:00</td>\n",
       "      <td>43.000</td>\n",
       "      <td>04:00:00</td>\n",
       "      <td>2019-03-22 22:00:00</td>\n",
       "      <td>2019-03-22 23:59:59</td>\n",
       "      <td>01:59:59</td>\n",
       "      <td>21.497</td>\n",
       "    </tr>\n",
       "    <tr>\n",
       "      <th>102343</th>\n",
       "      <td>N529</td>\n",
       "      <td>R257</td>\n",
       "      <td>00-00-02</td>\n",
       "      <td>EAST BROADWAY</td>\n",
       "      <td>2019-03-03 03:00:00</td>\n",
       "      <td>18.000</td>\n",
       "      <td>04:00:00</td>\n",
       "      <td>2019-03-02 23:00:00</td>\n",
       "      <td>2019-03-02 23:59:59</td>\n",
       "      <td>00:59:59</td>\n",
       "      <td>4.499</td>\n",
       "    </tr>\n",
       "    <tr>\n",
       "      <th>38986</th>\n",
       "      <td>J023</td>\n",
       "      <td>R436</td>\n",
       "      <td>00-00-00</td>\n",
       "      <td>NORWOOD AV</td>\n",
       "      <td>2019-03-16 01:00:00</td>\n",
       "      <td>57.000</td>\n",
       "      <td>04:00:00</td>\n",
       "      <td>2019-03-15 21:00:00</td>\n",
       "      <td>2019-03-15 23:59:59</td>\n",
       "      <td>02:59:59</td>\n",
       "      <td>42.746</td>\n",
       "    </tr>\n",
       "    <tr>\n",
       "      <th>588</th>\n",
       "      <td>A006</td>\n",
       "      <td>R079</td>\n",
       "      <td>00-00-01</td>\n",
       "      <td>5 AV/59 ST</td>\n",
       "      <td>2019-03-10 01:00:00</td>\n",
       "      <td>109.000</td>\n",
       "      <td>04:00:00</td>\n",
       "      <td>2019-03-09 21:00:00</td>\n",
       "      <td>2019-03-09 23:59:59</td>\n",
       "      <td>02:59:59</td>\n",
       "      <td>81.742</td>\n",
       "    </tr>\n",
       "    <tr>\n",
       "      <th>103263</th>\n",
       "      <td>N533</td>\n",
       "      <td>R129</td>\n",
       "      <td>02-06-02</td>\n",
       "      <td>BERGEN ST</td>\n",
       "      <td>2019-03-26 01:00:00</td>\n",
       "      <td>60.000</td>\n",
       "      <td>04:00:00</td>\n",
       "      <td>2019-03-25 21:00:00</td>\n",
       "      <td>2019-03-25 23:59:59</td>\n",
       "      <td>02:59:59</td>\n",
       "      <td>44.996</td>\n",
       "    </tr>\n",
       "    <tr>\n",
       "      <th>14178</th>\n",
       "      <td>B014</td>\n",
       "      <td>R148</td>\n",
       "      <td>00-00-01</td>\n",
       "      <td>PARKSIDE AV</td>\n",
       "      <td>2019-03-19 01:00:00</td>\n",
       "      <td>86.000</td>\n",
       "      <td>04:00:00</td>\n",
       "      <td>2019-03-18 21:00:00</td>\n",
       "      <td>2019-03-18 23:59:59</td>\n",
       "      <td>02:59:59</td>\n",
       "      <td>64.494</td>\n",
       "    </tr>\n",
       "    <tr>\n",
       "      <th>13716</th>\n",
       "      <td>B004</td>\n",
       "      <td>R171</td>\n",
       "      <td>00-00-00</td>\n",
       "      <td>7 AV</td>\n",
       "      <td>2019-03-25 01:00:00</td>\n",
       "      <td>89.000</td>\n",
       "      <td>04:00:00</td>\n",
       "      <td>2019-03-24 21:00:00</td>\n",
       "      <td>2019-03-24 23:59:59</td>\n",
       "      <td>02:59:59</td>\n",
       "      <td>66.744</td>\n",
       "    </tr>\n",
       "    <tr>\n",
       "      <th>109251</th>\n",
       "      <td>N603</td>\n",
       "      <td>R303</td>\n",
       "      <td>00-00-00</td>\n",
       "      <td>21 ST-QNSBRIDGE</td>\n",
       "      <td>2019-02-27 03:00:00</td>\n",
       "      <td>14.000</td>\n",
       "      <td>04:00:00</td>\n",
       "      <td>2019-02-26 23:00:00</td>\n",
       "      <td>2019-02-26 23:59:59</td>\n",
       "      <td>00:59:59</td>\n",
       "      <td>3.499</td>\n",
       "    </tr>\n",
       "  </tbody>\n",
       "</table>\n",
       "</div>"
      ],
      "text/plain": [
       "          C/A  UNIT       SCP          STATION        end_datetime  entries  \\\n",
       "55123    N073  R013  02-00-04   34 ST-PENN STA 2019-03-03 03:00:00   43.000   \n",
       "89356   N340A  R115  01-03-00           169 ST 2019-03-04 03:00:00   14.000   \n",
       "149897   R203  R043  00-03-00          WALL ST 2019-03-23 02:00:00   43.000   \n",
       "102343   N529  R257  00-00-02    EAST BROADWAY 2019-03-03 03:00:00   18.000   \n",
       "38986    J023  R436  00-00-00       NORWOOD AV 2019-03-16 01:00:00   57.000   \n",
       "588      A006  R079  00-00-01       5 AV/59 ST 2019-03-10 01:00:00  109.000   \n",
       "103263   N533  R129  02-06-02        BERGEN ST 2019-03-26 01:00:00   60.000   \n",
       "14178    B014  R148  00-00-01      PARKSIDE AV 2019-03-19 01:00:00   86.000   \n",
       "13716    B004  R171  00-00-00             7 AV 2019-03-25 01:00:00   89.000   \n",
       "109251   N603  R303  00-00-00  21 ST-QNSBRIDGE 2019-02-27 03:00:00   14.000   \n",
       "\n",
       "       time_interval      start_datetime    new_end_datetime  \\\n",
       "55123       04:00:00 2019-03-02 23:00:00 2019-03-02 23:59:59   \n",
       "89356       04:00:00 2019-03-03 23:00:00 2019-03-03 23:59:59   \n",
       "149897      04:00:00 2019-03-22 22:00:00 2019-03-22 23:59:59   \n",
       "102343      04:00:00 2019-03-02 23:00:00 2019-03-02 23:59:59   \n",
       "38986       04:00:00 2019-03-15 21:00:00 2019-03-15 23:59:59   \n",
       "588         04:00:00 2019-03-09 21:00:00 2019-03-09 23:59:59   \n",
       "103263      04:00:00 2019-03-25 21:00:00 2019-03-25 23:59:59   \n",
       "14178       04:00:00 2019-03-18 21:00:00 2019-03-18 23:59:59   \n",
       "13716       04:00:00 2019-03-24 21:00:00 2019-03-24 23:59:59   \n",
       "109251      04:00:00 2019-02-26 23:00:00 2019-02-26 23:59:59   \n",
       "\n",
       "       interval_on_that_day  adjusted_entries  \n",
       "55123              00:59:59            10.747  \n",
       "89356              00:59:59             3.499  \n",
       "149897             01:59:59            21.497  \n",
       "102343             00:59:59             4.499  \n",
       "38986              02:59:59            42.746  \n",
       "588                02:59:59            81.742  \n",
       "103263             02:59:59            44.996  \n",
       "14178              02:59:59            64.494  \n",
       "13716              02:59:59            66.744  \n",
       "109251             00:59:59             3.499  "
      ]
     },
     "execution_count": 443,
     "metadata": {},
     "output_type": "execute_result"
    }
   ],
   "source": [
    "with_split[with_split.entries != with_split.adjusted_entries].sample(10)"
   ]
  },
  {
   "cell_type": "code",
   "execution_count": 442,
   "metadata": {},
   "outputs": [
    {
     "data": {
      "text/html": [
       "<div>\n",
       "<style scoped>\n",
       "    .dataframe tbody tr th:only-of-type {\n",
       "        vertical-align: middle;\n",
       "    }\n",
       "\n",
       "    .dataframe tbody tr th {\n",
       "        vertical-align: top;\n",
       "    }\n",
       "\n",
       "    .dataframe thead th {\n",
       "        text-align: right;\n",
       "    }\n",
       "</style>\n",
       "<table border=\"1\" class=\"dataframe\">\n",
       "  <thead>\n",
       "    <tr style=\"text-align: right;\">\n",
       "      <th></th>\n",
       "      <th>C/A</th>\n",
       "      <th>UNIT</th>\n",
       "      <th>SCP</th>\n",
       "      <th>STATION</th>\n",
       "      <th>end_datetime</th>\n",
       "      <th>entries</th>\n",
       "      <th>time_interval</th>\n",
       "      <th>start_datetime</th>\n",
       "      <th>new_end_datetime</th>\n",
       "      <th>interval_on_that_day</th>\n",
       "      <th>adjusted_entries</th>\n",
       "    </tr>\n",
       "  </thead>\n",
       "  <tbody>\n",
       "  </tbody>\n",
       "</table>\n",
       "</div>"
      ],
      "text/plain": [
       "Empty DataFrame\n",
       "Columns: [C/A, UNIT, SCP, STATION, end_datetime, entries, time_interval, start_datetime, new_end_datetime, interval_on_that_day, adjusted_entries]\n",
       "Index: []"
      ]
     },
     "execution_count": 442,
     "metadata": {},
     "output_type": "execute_result"
    }
   ],
   "source": [
    "with_split[with_split.start_datetime.dt.day != with_split.new_end_datetime.dt.day]"
   ]
  },
  {
   "cell_type": "code",
   "execution_count": 444,
   "metadata": {},
   "outputs": [],
   "source": [
    "clean_columns = with_split[['C/A', 'UNIT', 'SCP', 'STATION', 'start_datetime', 'new_end_datetime', 'interval_on_that_day', 'adjusted_entries']]"
   ]
  },
  {
   "cell_type": "code",
   "execution_count": 446,
   "metadata": {},
   "outputs": [],
   "source": [
    "clean_columns = clean_columns.rename(columns={ 'new_end_datetime': 'end_datetime', 'adjusted_entries': 'entries' })\n"
   ]
  },
  {
   "cell_type": "code",
   "execution_count": 448,
   "metadata": {},
   "outputs": [
    {
     "data": {
      "text/html": [
       "<div>\n",
       "<style scoped>\n",
       "    .dataframe tbody tr th:only-of-type {\n",
       "        vertical-align: middle;\n",
       "    }\n",
       "\n",
       "    .dataframe tbody tr th {\n",
       "        vertical-align: top;\n",
       "    }\n",
       "\n",
       "    .dataframe thead th {\n",
       "        text-align: right;\n",
       "    }\n",
       "</style>\n",
       "<table border=\"1\" class=\"dataframe\">\n",
       "  <thead>\n",
       "    <tr style=\"text-align: right;\">\n",
       "      <th></th>\n",
       "      <th>C/A</th>\n",
       "      <th>UNIT</th>\n",
       "      <th>SCP</th>\n",
       "      <th>STATION</th>\n",
       "      <th>start_datetime</th>\n",
       "      <th>end_datetime</th>\n",
       "      <th>interval_on_that_day</th>\n",
       "      <th>entries</th>\n",
       "    </tr>\n",
       "  </thead>\n",
       "  <tbody>\n",
       "    <tr>\n",
       "      <th>191048</th>\n",
       "      <td>R551</td>\n",
       "      <td>R072</td>\n",
       "      <td>01-03-03</td>\n",
       "      <td>34 ST-HUDSON YD</td>\n",
       "      <td>2019-03-01 07:00:00</td>\n",
       "      <td>2019-03-01 11:00:00</td>\n",
       "      <td>04:00:00</td>\n",
       "      <td>79.000</td>\n",
       "    </tr>\n",
       "    <tr>\n",
       "      <th>55974</th>\n",
       "      <td>N077</td>\n",
       "      <td>R111</td>\n",
       "      <td>02-06-02</td>\n",
       "      <td>23 ST</td>\n",
       "      <td>2019-03-05 23:00:00</td>\n",
       "      <td>2019-03-05 23:59:59</td>\n",
       "      <td>00:59:59</td>\n",
       "      <td>3.749</td>\n",
       "    </tr>\n",
       "    <tr>\n",
       "      <th>167920</th>\n",
       "      <td>R291</td>\n",
       "      <td>R183</td>\n",
       "      <td>00-00-02</td>\n",
       "      <td>BEDFORD PK BLVD</td>\n",
       "      <td>2019-03-07 15:00:00</td>\n",
       "      <td>2019-03-07 19:00:00</td>\n",
       "      <td>04:00:00</td>\n",
       "      <td>601.000</td>\n",
       "    </tr>\n",
       "    <tr>\n",
       "      <th>162152</th>\n",
       "      <td>R250</td>\n",
       "      <td>R179</td>\n",
       "      <td>00-00-02</td>\n",
       "      <td>86 ST</td>\n",
       "      <td>2019-03-17 04:00:00</td>\n",
       "      <td>2019-03-17 08:00:00</td>\n",
       "      <td>04:00:00</td>\n",
       "      <td>33.000</td>\n",
       "    </tr>\n",
       "    <tr>\n",
       "      <th>35494</th>\n",
       "      <td>H038</td>\n",
       "      <td>R350</td>\n",
       "      <td>00-00-02</td>\n",
       "      <td>LIVONIA AV</td>\n",
       "      <td>2019-03-24 17:00:00</td>\n",
       "      <td>2019-03-24 21:00:00</td>\n",
       "      <td>04:00:00</td>\n",
       "      <td>109.000</td>\n",
       "    </tr>\n",
       "    <tr>\n",
       "      <th>79403</th>\n",
       "      <td>N316A</td>\n",
       "      <td>R267</td>\n",
       "      <td>01-03-01</td>\n",
       "      <td>46 ST</td>\n",
       "      <td>2019-03-11 01:00:00</td>\n",
       "      <td>2019-03-11 05:00:00</td>\n",
       "      <td>04:00:00</td>\n",
       "      <td>4.000</td>\n",
       "    </tr>\n",
       "    <tr>\n",
       "      <th>189334</th>\n",
       "      <td>R550</td>\n",
       "      <td>R072</td>\n",
       "      <td>00-03-09</td>\n",
       "      <td>34 ST-HUDSON YD</td>\n",
       "      <td>2019-03-14 08:00:00</td>\n",
       "      <td>2019-03-14 12:00:00</td>\n",
       "      <td>04:00:00</td>\n",
       "      <td>50.000</td>\n",
       "    </tr>\n",
       "    <tr>\n",
       "      <th>22655</th>\n",
       "      <td>C016</td>\n",
       "      <td>R278</td>\n",
       "      <td>00-00-01</td>\n",
       "      <td>25 ST</td>\n",
       "      <td>2019-03-29 08:00:00</td>\n",
       "      <td>2019-03-29 12:00:00</td>\n",
       "      <td>04:00:00</td>\n",
       "      <td>282.000</td>\n",
       "    </tr>\n",
       "    <tr>\n",
       "      <th>59045</th>\n",
       "      <td>N092</td>\n",
       "      <td>R029</td>\n",
       "      <td>03-03-00</td>\n",
       "      <td>CHAMBERS ST</td>\n",
       "      <td>2019-03-27 12:00:00</td>\n",
       "      <td>2019-03-27 16:00:00</td>\n",
       "      <td>04:00:00</td>\n",
       "      <td>466.000</td>\n",
       "    </tr>\n",
       "    <tr>\n",
       "      <th>19734</th>\n",
       "      <td>B032</td>\n",
       "      <td>R264</td>\n",
       "      <td>00-00-02</td>\n",
       "      <td>OCEAN PKWY</td>\n",
       "      <td>2019-03-28 08:00:00</td>\n",
       "      <td>2019-03-28 12:00:00</td>\n",
       "      <td>04:00:00</td>\n",
       "      <td>229.000</td>\n",
       "    </tr>\n",
       "  </tbody>\n",
       "</table>\n",
       "</div>"
      ],
      "text/plain": [
       "          C/A  UNIT       SCP          STATION      start_datetime  \\\n",
       "191048   R551  R072  01-03-03  34 ST-HUDSON YD 2019-03-01 07:00:00   \n",
       "55974    N077  R111  02-06-02            23 ST 2019-03-05 23:00:00   \n",
       "167920   R291  R183  00-00-02  BEDFORD PK BLVD 2019-03-07 15:00:00   \n",
       "162152   R250  R179  00-00-02            86 ST 2019-03-17 04:00:00   \n",
       "35494    H038  R350  00-00-02       LIVONIA AV 2019-03-24 17:00:00   \n",
       "79403   N316A  R267  01-03-01            46 ST 2019-03-11 01:00:00   \n",
       "189334   R550  R072  00-03-09  34 ST-HUDSON YD 2019-03-14 08:00:00   \n",
       "22655    C016  R278  00-00-01            25 ST 2019-03-29 08:00:00   \n",
       "59045    N092  R029  03-03-00      CHAMBERS ST 2019-03-27 12:00:00   \n",
       "19734    B032  R264  00-00-02       OCEAN PKWY 2019-03-28 08:00:00   \n",
       "\n",
       "              end_datetime interval_on_that_day  entries  \n",
       "191048 2019-03-01 11:00:00             04:00:00   79.000  \n",
       "55974  2019-03-05 23:59:59             00:59:59    3.749  \n",
       "167920 2019-03-07 19:00:00             04:00:00  601.000  \n",
       "162152 2019-03-17 08:00:00             04:00:00   33.000  \n",
       "35494  2019-03-24 21:00:00             04:00:00  109.000  \n",
       "79403  2019-03-11 05:00:00             04:00:00    4.000  \n",
       "189334 2019-03-14 12:00:00             04:00:00   50.000  \n",
       "22655  2019-03-29 12:00:00             04:00:00  282.000  \n",
       "59045  2019-03-27 16:00:00             04:00:00  466.000  \n",
       "19734  2019-03-28 12:00:00             04:00:00  229.000  "
      ]
     },
     "execution_count": 448,
     "metadata": {},
     "output_type": "execute_result"
    }
   ],
   "source": [
    "clean_columns.sample(10)"
   ]
  },
  {
   "cell_type": "markdown",
   "metadata": {},
   "source": [
    "### 4.3.3 Validation"
   ]
  },
  {
   "cell_type": "code",
   "execution_count": 450,
   "metadata": {},
   "outputs": [
    {
     "data": {
      "text/plain": [
       "True"
      ]
     },
     "execution_count": 450,
     "metadata": {},
     "output_type": "execute_result"
    }
   ],
   "source": [
    "num_in_less_than_24 = less_than_24.shape[0]\n",
    "num_across_days = less_than_24[less_than_24.start_datetime.dt.day != less_than_24.end_datetime.dt.day].shape[0]\n",
    "num_in_clean_cols = clean_columns.shape[0]\n",
    "\n",
    "num_in_clean_cols == (num_in_less_than_24 + num_across_days)"
   ]
  },
  {
   "cell_type": "code",
   "execution_count": 451,
   "metadata": {},
   "outputs": [
    {
     "data": {
      "text/plain": [
       "0"
      ]
     },
     "execution_count": 451,
     "metadata": {},
     "output_type": "execute_result"
    }
   ],
   "source": [
    "clean_columns[clean_columns.start_datetime.dt.day != clean_columns.end_datetime.dt.day].shape[0]"
   ]
  },
  {
   "cell_type": "code",
   "execution_count": 453,
   "metadata": {},
   "outputs": [
    {
     "data": {
      "text/plain": [
       "1.0821472323216421"
      ]
     },
     "execution_count": 453,
     "metadata": {},
     "output_type": "execute_result"
    }
   ],
   "source": [
    "clean_columns.shape[0] / mta_data.shape[0]"
   ]
  },
  {
   "cell_type": "markdown",
   "metadata": {},
   "source": [
    "## 4.4 Store Data"
   ]
  },
  {
   "cell_type": "code",
   "execution_count": 452,
   "metadata": {},
   "outputs": [],
   "source": [
    "with open('super_cleaned_mta_data_march.pickle', 'wb') as write_file:\n",
    "    pickle.dump(clean_columns, write_file)"
   ]
  },
  {
   "cell_type": "code",
   "execution_count": 459,
   "metadata": {},
   "outputs": [
    {
     "name": "stdout",
     "output_type": "stream",
     "text": [
      "<class 'pandas.core.frame.DataFrame'>\n",
      "Int64Index: 1099770 entries, 1 to 204589\n",
      "Data columns (total 8 columns):\n",
      "C/A                     1099770 non-null object\n",
      "UNIT                    1099770 non-null object\n",
      "SCP                     1099770 non-null object\n",
      "STATION                 1099770 non-null object\n",
      "start_datetime          1099770 non-null datetime64[ns]\n",
      "end_datetime            1099770 non-null datetime64[ns]\n",
      "interval_on_that_day    1099770 non-null timedelta64[ns]\n",
      "entries                 1099770 non-null float64\n",
      "dtypes: datetime64[ns](2), float64(1), object(4), timedelta64[ns](1)\n",
      "memory usage: 75.5+ MB\n"
     ]
    }
   ],
   "source": [
    "clean_columns.info()"
   ]
  },
  {
   "cell_type": "code",
   "execution_count": null,
   "metadata": {},
   "outputs": [],
   "source": []
  },
  {
   "cell_type": "markdown",
   "metadata": {},
   "source": [
    "# Explore"
   ]
  },
  {
   "cell_type": "code",
   "execution_count": 466,
   "metadata": {},
   "outputs": [],
   "source": [
    "res = clean_columns.groupby(['C/A', 'UNIT', 'SCP', 'STATION', clean_columns.start_datetime.dt.strftime('%m/%d/%y')]).agg({ 'entries': 'sum'})"
   ]
  },
  {
   "cell_type": "code",
   "execution_count": 463,
   "metadata": {},
   "outputs": [
    {
     "data": {
      "text/plain": [
       "'01/01/19'"
      ]
     },
     "execution_count": 463,
     "metadata": {},
     "output_type": "execute_result"
    }
   ],
   "source": [
    "pd.to_datetime('1/1/2019').strftime('%m/%d/%y')"
   ]
  },
  {
   "cell_type": "code",
   "execution_count": 467,
   "metadata": {},
   "outputs": [
    {
     "data": {
      "text/html": [
       "<div>\n",
       "<style scoped>\n",
       "    .dataframe tbody tr th:only-of-type {\n",
       "        vertical-align: middle;\n",
       "    }\n",
       "\n",
       "    .dataframe tbody tr th {\n",
       "        vertical-align: top;\n",
       "    }\n",
       "\n",
       "    .dataframe thead th {\n",
       "        text-align: right;\n",
       "    }\n",
       "</style>\n",
       "<table border=\"1\" class=\"dataframe\">\n",
       "  <thead>\n",
       "    <tr style=\"text-align: right;\">\n",
       "      <th></th>\n",
       "      <th>entries</th>\n",
       "    </tr>\n",
       "  </thead>\n",
       "  <tbody>\n",
       "    <tr>\n",
       "      <th>count</th>\n",
       "      <td>168953.000</td>\n",
       "    </tr>\n",
       "    <tr>\n",
       "      <th>mean</th>\n",
       "      <td>1033.929</td>\n",
       "    </tr>\n",
       "    <tr>\n",
       "      <th>std</th>\n",
       "      <td>995.819</td>\n",
       "    </tr>\n",
       "    <tr>\n",
       "      <th>min</th>\n",
       "      <td>0.000</td>\n",
       "    </tr>\n",
       "    <tr>\n",
       "      <th>25%</th>\n",
       "      <td>243.000</td>\n",
       "    </tr>\n",
       "    <tr>\n",
       "      <th>50%</th>\n",
       "      <td>784.000</td>\n",
       "    </tr>\n",
       "    <tr>\n",
       "      <th>75%</th>\n",
       "      <td>1556.490</td>\n",
       "    </tr>\n",
       "    <tr>\n",
       "      <th>max</th>\n",
       "      <td>8188.000</td>\n",
       "    </tr>\n",
       "  </tbody>\n",
       "</table>\n",
       "</div>"
      ],
      "text/plain": [
       "         entries\n",
       "count 168953.000\n",
       "mean    1033.929\n",
       "std      995.819\n",
       "min        0.000\n",
       "25%      243.000\n",
       "50%      784.000\n",
       "75%     1556.490\n",
       "max     8188.000"
      ]
     },
     "execution_count": 467,
     "metadata": {},
     "output_type": "execute_result"
    }
   ],
   "source": [
    "res.describe()"
   ]
  },
  {
   "cell_type": "code",
   "execution_count": null,
   "metadata": {},
   "outputs": [],
   "source": []
  },
  {
   "cell_type": "code",
   "execution_count": null,
   "metadata": {},
   "outputs": [],
   "source": []
  }
 ],
 "metadata": {
  "kernelspec": {
   "display_name": "Python [conda env:metis] *",
   "language": "python",
   "name": "conda-env-metis-py"
  },
  "language_info": {
   "codemirror_mode": {
    "name": "ipython",
    "version": 3
   },
   "file_extension": ".py",
   "mimetype": "text/x-python",
   "name": "python",
   "nbconvert_exporter": "python",
   "pygments_lexer": "ipython3",
   "version": "3.7.4"
  }
 },
 "nbformat": 4,
 "nbformat_minor": 2
}
