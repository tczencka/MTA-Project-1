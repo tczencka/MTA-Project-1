{
 "cells": [
  {
   "cell_type": "code",
   "execution_count": 2,
   "metadata": {},
   "outputs": [],
   "source": [
    "import pandas as pd\n",
    "import pickle\n",
    "import matplotlib.pyplot as plt\n",
    "import numpy as np\n",
    "# various options in pandas\n",
    "pd.set_option('display.max_columns', None)\n",
    "pd.set_option('display.max_rows', 100)\n",
    "pd.set_option('display.precision', 3)\n",
    "pd.set_option('display.float_format', lambda x: '%.3f' % x)"
   ]
  },
  {
   "cell_type": "markdown",
   "metadata": {},
   "source": [
    "## 1. Load Data"
   ]
  },
  {
   "cell_type": "code",
   "execution_count": 3,
   "metadata": {},
   "outputs": [],
   "source": [
    "from urllib.request import HTTPError\n",
    "\n",
    "def load_turnstile_data(urls):\n",
    "    dfs = []\n",
    "    for url in urls:\n",
    "        try:\n",
    "            df = pd.read_csv(url)\n",
    "            dfs.append(df)\n",
    "        except HTTPError as err:\n",
    "            if err.code == 404:\n",
    "                continue\n",
    "            else:\n",
    "                raise err\n",
    "    return pd.concat(dfs)\n",
    "\n",
    "def format_day_month(num):\n",
    "    return '0' + str(num) if num < 10 else str(num)\n",
    "\n",
    "def format_year(num):\n",
    "    return str(num)[-2:]\n",
    "\n",
    "def generate_url(date):\n",
    "    y = format_year(date.year)\n",
    "    m = format_day_month(date.month)\n",
    "    d = format_day_month(date.day)\n",
    "    return f'http://web.mta.info/developers/data/nyct/turnstile/turnstile_{y}{m}{d}.txt'\n",
    "\n",
    "def fetch_data_for_date_range(start, end):\n",
    "    urls = list(map(generate_url, pd.date_range(start, end, freq=\"D\")))\n",
    "    return load_turnstile_data(urls)\n"
   ]
  },
  {
   "cell_type": "code",
   "execution_count": 5,
   "metadata": {},
   "outputs": [],
   "source": [
    "mta_data = fetch_data_for_date_range('3/1/2019', '4/01/2019')"
   ]
  },
  {
   "cell_type": "code",
   "execution_count": 6,
   "metadata": {},
   "outputs": [],
   "source": [
    "with open('mta_data_march.pickle', 'wb') as write_file:\n",
    "    pickle.dump(mta_data, write_file)"
   ]
  },
  {
   "cell_type": "code",
   "execution_count": 7,
   "metadata": {},
   "outputs": [
    {
     "data": {
      "text/plain": [
       "(1016285, 11)"
      ]
     },
     "execution_count": 7,
     "metadata": {},
     "output_type": "execute_result"
    }
   ],
   "source": [
    "mta_data.shape"
   ]
  },
  {
   "cell_type": "markdown",
   "metadata": {},
   "source": [
    "# 2. Clean Data"
   ]
  },
  {
   "cell_type": "markdown",
   "metadata": {},
   "source": [
    "## 2.1 Subset Data"
   ]
  },
  {
   "cell_type": "code",
   "execution_count": 8,
   "metadata": {},
   "outputs": [
    {
     "data": {
      "text/html": [
       "<div>\n",
       "<style scoped>\n",
       "    .dataframe tbody tr th:only-of-type {\n",
       "        vertical-align: middle;\n",
       "    }\n",
       "\n",
       "    .dataframe tbody tr th {\n",
       "        vertical-align: top;\n",
       "    }\n",
       "\n",
       "    .dataframe thead th {\n",
       "        text-align: right;\n",
       "    }\n",
       "</style>\n",
       "<table border=\"1\" class=\"dataframe\">\n",
       "  <thead>\n",
       "    <tr style=\"text-align: right;\">\n",
       "      <th></th>\n",
       "      <th>C/A</th>\n",
       "      <th>UNIT</th>\n",
       "      <th>SCP</th>\n",
       "      <th>STATION</th>\n",
       "      <th>LINENAME</th>\n",
       "      <th>DIVISION</th>\n",
       "      <th>DATE</th>\n",
       "      <th>TIME</th>\n",
       "      <th>DESC</th>\n",
       "      <th>ENTRIES</th>\n",
       "      <th>EXITS</th>\n",
       "    </tr>\n",
       "  </thead>\n",
       "  <tbody>\n",
       "    <tr>\n",
       "      <th>0</th>\n",
       "      <td>A002</td>\n",
       "      <td>R051</td>\n",
       "      <td>02-00-00</td>\n",
       "      <td>59 ST</td>\n",
       "      <td>NQR456W</td>\n",
       "      <td>BMT</td>\n",
       "      <td>02/23/2019</td>\n",
       "      <td>03:00:00</td>\n",
       "      <td>REGULAR</td>\n",
       "      <td>6955483</td>\n",
       "      <td>2359112</td>\n",
       "    </tr>\n",
       "    <tr>\n",
       "      <th>1</th>\n",
       "      <td>A002</td>\n",
       "      <td>R051</td>\n",
       "      <td>02-00-00</td>\n",
       "      <td>59 ST</td>\n",
       "      <td>NQR456W</td>\n",
       "      <td>BMT</td>\n",
       "      <td>02/23/2019</td>\n",
       "      <td>07:00:00</td>\n",
       "      <td>REGULAR</td>\n",
       "      <td>6955494</td>\n",
       "      <td>2359125</td>\n",
       "    </tr>\n",
       "    <tr>\n",
       "      <th>2</th>\n",
       "      <td>A002</td>\n",
       "      <td>R051</td>\n",
       "      <td>02-00-00</td>\n",
       "      <td>59 ST</td>\n",
       "      <td>NQR456W</td>\n",
       "      <td>BMT</td>\n",
       "      <td>02/23/2019</td>\n",
       "      <td>11:00:00</td>\n",
       "      <td>REGULAR</td>\n",
       "      <td>6955554</td>\n",
       "      <td>2359199</td>\n",
       "    </tr>\n",
       "    <tr>\n",
       "      <th>3</th>\n",
       "      <td>A002</td>\n",
       "      <td>R051</td>\n",
       "      <td>02-00-00</td>\n",
       "      <td>59 ST</td>\n",
       "      <td>NQR456W</td>\n",
       "      <td>BMT</td>\n",
       "      <td>02/23/2019</td>\n",
       "      <td>15:00:00</td>\n",
       "      <td>REGULAR</td>\n",
       "      <td>6955714</td>\n",
       "      <td>2359248</td>\n",
       "    </tr>\n",
       "    <tr>\n",
       "      <th>4</th>\n",
       "      <td>A002</td>\n",
       "      <td>R051</td>\n",
       "      <td>02-00-00</td>\n",
       "      <td>59 ST</td>\n",
       "      <td>NQR456W</td>\n",
       "      <td>BMT</td>\n",
       "      <td>02/23/2019</td>\n",
       "      <td>19:00:00</td>\n",
       "      <td>REGULAR</td>\n",
       "      <td>6956004</td>\n",
       "      <td>2359292</td>\n",
       "    </tr>\n",
       "  </tbody>\n",
       "</table>\n",
       "</div>"
      ],
      "text/plain": [
       "    C/A  UNIT       SCP STATION LINENAME DIVISION        DATE      TIME  \\\n",
       "0  A002  R051  02-00-00   59 ST  NQR456W      BMT  02/23/2019  03:00:00   \n",
       "1  A002  R051  02-00-00   59 ST  NQR456W      BMT  02/23/2019  07:00:00   \n",
       "2  A002  R051  02-00-00   59 ST  NQR456W      BMT  02/23/2019  11:00:00   \n",
       "3  A002  R051  02-00-00   59 ST  NQR456W      BMT  02/23/2019  15:00:00   \n",
       "4  A002  R051  02-00-00   59 ST  NQR456W      BMT  02/23/2019  19:00:00   \n",
       "\n",
       "      DESC  ENTRIES  \\\n",
       "0  REGULAR  6955483   \n",
       "1  REGULAR  6955494   \n",
       "2  REGULAR  6955554   \n",
       "3  REGULAR  6955714   \n",
       "4  REGULAR  6956004   \n",
       "\n",
       "   EXITS                                                                 \n",
       "0                                            2359112                     \n",
       "1                                            2359125                     \n",
       "2                                            2359199                     \n",
       "3                                            2359248                     \n",
       "4                                            2359292                     "
      ]
     },
     "execution_count": 8,
     "metadata": {},
     "output_type": "execute_result"
    }
   ],
   "source": [
    "mta_data.head()"
   ]
  },
  {
   "cell_type": "code",
   "execution_count": 9,
   "metadata": {},
   "outputs": [],
   "source": [
    "subset = mta_data[['C/A', 'UNIT', 'SCP', 'STATION', 'DATE', 'TIME', 'ENTRIES']].copy()"
   ]
  },
  {
   "cell_type": "markdown",
   "metadata": {},
   "source": [
    "## 2.2 Convert Dates"
   ]
  },
  {
   "cell_type": "code",
   "execution_count": 10,
   "metadata": {},
   "outputs": [],
   "source": [
    "subset['datetime'] = pd.to_datetime(subset.DATE + ' ' + subset.TIME)\n",
    "subset['DATE'] = pd.to_datetime(subset.DATE)\n",
    "subset['TIME'] = pd.to_datetime(subset.TIME).dt.time"
   ]
  },
  {
   "cell_type": "markdown",
   "metadata": {},
   "source": [
    "## 2.3 Calculate Entries for Each Time Interval"
   ]
  },
  {
   "cell_type": "code",
   "execution_count": 11,
   "metadata": {},
   "outputs": [],
   "source": [
    "sorted_data = subset.sort_values(['C/A', 'UNIT', 'SCP', 'STATION', 'datetime'])"
   ]
  },
  {
   "cell_type": "code",
   "execution_count": 12,
   "metadata": {},
   "outputs": [],
   "source": [
    "sorted_data['entries_since_last_record'] = sorted_data.groupby(['C/A', 'UNIT', 'SCP', 'STATION'])['ENTRIES'].diff(1)\n"
   ]
  },
  {
   "cell_type": "code",
   "execution_count": 13,
   "metadata": {},
   "outputs": [],
   "source": [
    "sorted_data['time_interval'] = sorted_data.groupby(['C/A', 'UNIT', 'SCP', 'STATION'])['datetime'].diff(1)"
   ]
  },
  {
   "cell_type": "code",
   "execution_count": 14,
   "metadata": {},
   "outputs": [
    {
     "data": {
      "text/html": [
       "<div>\n",
       "<style scoped>\n",
       "    .dataframe tbody tr th:only-of-type {\n",
       "        vertical-align: middle;\n",
       "    }\n",
       "\n",
       "    .dataframe tbody tr th {\n",
       "        vertical-align: top;\n",
       "    }\n",
       "\n",
       "    .dataframe thead th {\n",
       "        text-align: right;\n",
       "    }\n",
       "</style>\n",
       "<table border=\"1\" class=\"dataframe\">\n",
       "  <thead>\n",
       "    <tr style=\"text-align: right;\">\n",
       "      <th></th>\n",
       "      <th>C/A</th>\n",
       "      <th>UNIT</th>\n",
       "      <th>SCP</th>\n",
       "      <th>STATION</th>\n",
       "      <th>DATE</th>\n",
       "      <th>TIME</th>\n",
       "      <th>ENTRIES</th>\n",
       "      <th>datetime</th>\n",
       "      <th>entries_since_last_record</th>\n",
       "      <th>time_interval</th>\n",
       "    </tr>\n",
       "  </thead>\n",
       "  <tbody>\n",
       "    <tr>\n",
       "      <th>0</th>\n",
       "      <td>A002</td>\n",
       "      <td>R051</td>\n",
       "      <td>02-00-00</td>\n",
       "      <td>59 ST</td>\n",
       "      <td>2019-02-23</td>\n",
       "      <td>03:00:00</td>\n",
       "      <td>6955483</td>\n",
       "      <td>2019-02-23 03:00:00</td>\n",
       "      <td>nan</td>\n",
       "      <td>NaT</td>\n",
       "    </tr>\n",
       "    <tr>\n",
       "      <th>1</th>\n",
       "      <td>A002</td>\n",
       "      <td>R051</td>\n",
       "      <td>02-00-00</td>\n",
       "      <td>59 ST</td>\n",
       "      <td>2019-02-23</td>\n",
       "      <td>07:00:00</td>\n",
       "      <td>6955494</td>\n",
       "      <td>2019-02-23 07:00:00</td>\n",
       "      <td>11.000</td>\n",
       "      <td>04:00:00</td>\n",
       "    </tr>\n",
       "    <tr>\n",
       "      <th>2</th>\n",
       "      <td>A002</td>\n",
       "      <td>R051</td>\n",
       "      <td>02-00-00</td>\n",
       "      <td>59 ST</td>\n",
       "      <td>2019-02-23</td>\n",
       "      <td>11:00:00</td>\n",
       "      <td>6955554</td>\n",
       "      <td>2019-02-23 11:00:00</td>\n",
       "      <td>60.000</td>\n",
       "      <td>04:00:00</td>\n",
       "    </tr>\n",
       "    <tr>\n",
       "      <th>3</th>\n",
       "      <td>A002</td>\n",
       "      <td>R051</td>\n",
       "      <td>02-00-00</td>\n",
       "      <td>59 ST</td>\n",
       "      <td>2019-02-23</td>\n",
       "      <td>15:00:00</td>\n",
       "      <td>6955714</td>\n",
       "      <td>2019-02-23 15:00:00</td>\n",
       "      <td>160.000</td>\n",
       "      <td>04:00:00</td>\n",
       "    </tr>\n",
       "    <tr>\n",
       "      <th>4</th>\n",
       "      <td>A002</td>\n",
       "      <td>R051</td>\n",
       "      <td>02-00-00</td>\n",
       "      <td>59 ST</td>\n",
       "      <td>2019-02-23</td>\n",
       "      <td>19:00:00</td>\n",
       "      <td>6956004</td>\n",
       "      <td>2019-02-23 19:00:00</td>\n",
       "      <td>290.000</td>\n",
       "      <td>04:00:00</td>\n",
       "    </tr>\n",
       "    <tr>\n",
       "      <th>5</th>\n",
       "      <td>A002</td>\n",
       "      <td>R051</td>\n",
       "      <td>02-00-00</td>\n",
       "      <td>59 ST</td>\n",
       "      <td>2019-02-23</td>\n",
       "      <td>23:00:00</td>\n",
       "      <td>6956147</td>\n",
       "      <td>2019-02-23 23:00:00</td>\n",
       "      <td>143.000</td>\n",
       "      <td>04:00:00</td>\n",
       "    </tr>\n",
       "    <tr>\n",
       "      <th>6</th>\n",
       "      <td>A002</td>\n",
       "      <td>R051</td>\n",
       "      <td>02-00-00</td>\n",
       "      <td>59 ST</td>\n",
       "      <td>2019-02-24</td>\n",
       "      <td>03:00:00</td>\n",
       "      <td>6956177</td>\n",
       "      <td>2019-02-24 03:00:00</td>\n",
       "      <td>30.000</td>\n",
       "      <td>04:00:00</td>\n",
       "    </tr>\n",
       "    <tr>\n",
       "      <th>7</th>\n",
       "      <td>A002</td>\n",
       "      <td>R051</td>\n",
       "      <td>02-00-00</td>\n",
       "      <td>59 ST</td>\n",
       "      <td>2019-02-24</td>\n",
       "      <td>07:00:00</td>\n",
       "      <td>6956184</td>\n",
       "      <td>2019-02-24 07:00:00</td>\n",
       "      <td>7.000</td>\n",
       "      <td>04:00:00</td>\n",
       "    </tr>\n",
       "    <tr>\n",
       "      <th>8</th>\n",
       "      <td>A002</td>\n",
       "      <td>R051</td>\n",
       "      <td>02-00-00</td>\n",
       "      <td>59 ST</td>\n",
       "      <td>2019-02-24</td>\n",
       "      <td>11:00:00</td>\n",
       "      <td>6956215</td>\n",
       "      <td>2019-02-24 11:00:00</td>\n",
       "      <td>31.000</td>\n",
       "      <td>04:00:00</td>\n",
       "    </tr>\n",
       "    <tr>\n",
       "      <th>9</th>\n",
       "      <td>A002</td>\n",
       "      <td>R051</td>\n",
       "      <td>02-00-00</td>\n",
       "      <td>59 ST</td>\n",
       "      <td>2019-02-24</td>\n",
       "      <td>15:00:00</td>\n",
       "      <td>6956315</td>\n",
       "      <td>2019-02-24 15:00:00</td>\n",
       "      <td>100.000</td>\n",
       "      <td>04:00:00</td>\n",
       "    </tr>\n",
       "    <tr>\n",
       "      <th>10</th>\n",
       "      <td>A002</td>\n",
       "      <td>R051</td>\n",
       "      <td>02-00-00</td>\n",
       "      <td>59 ST</td>\n",
       "      <td>2019-02-24</td>\n",
       "      <td>19:00:00</td>\n",
       "      <td>6956472</td>\n",
       "      <td>2019-02-24 19:00:00</td>\n",
       "      <td>157.000</td>\n",
       "      <td>04:00:00</td>\n",
       "    </tr>\n",
       "    <tr>\n",
       "      <th>11</th>\n",
       "      <td>A002</td>\n",
       "      <td>R051</td>\n",
       "      <td>02-00-00</td>\n",
       "      <td>59 ST</td>\n",
       "      <td>2019-02-24</td>\n",
       "      <td>23:00:00</td>\n",
       "      <td>6956566</td>\n",
       "      <td>2019-02-24 23:00:00</td>\n",
       "      <td>94.000</td>\n",
       "      <td>04:00:00</td>\n",
       "    </tr>\n",
       "    <tr>\n",
       "      <th>12</th>\n",
       "      <td>A002</td>\n",
       "      <td>R051</td>\n",
       "      <td>02-00-00</td>\n",
       "      <td>59 ST</td>\n",
       "      <td>2019-02-25</td>\n",
       "      <td>03:00:00</td>\n",
       "      <td>6956582</td>\n",
       "      <td>2019-02-25 03:00:00</td>\n",
       "      <td>16.000</td>\n",
       "      <td>04:00:00</td>\n",
       "    </tr>\n",
       "    <tr>\n",
       "      <th>13</th>\n",
       "      <td>A002</td>\n",
       "      <td>R051</td>\n",
       "      <td>02-00-00</td>\n",
       "      <td>59 ST</td>\n",
       "      <td>2019-02-25</td>\n",
       "      <td>07:00:00</td>\n",
       "      <td>6956590</td>\n",
       "      <td>2019-02-25 07:00:00</td>\n",
       "      <td>8.000</td>\n",
       "      <td>04:00:00</td>\n",
       "    </tr>\n",
       "    <tr>\n",
       "      <th>14</th>\n",
       "      <td>A002</td>\n",
       "      <td>R051</td>\n",
       "      <td>02-00-00</td>\n",
       "      <td>59 ST</td>\n",
       "      <td>2019-02-25</td>\n",
       "      <td>11:00:00</td>\n",
       "      <td>6956705</td>\n",
       "      <td>2019-02-25 11:00:00</td>\n",
       "      <td>115.000</td>\n",
       "      <td>04:00:00</td>\n",
       "    </tr>\n",
       "    <tr>\n",
       "      <th>15</th>\n",
       "      <td>A002</td>\n",
       "      <td>R051</td>\n",
       "      <td>02-00-00</td>\n",
       "      <td>59 ST</td>\n",
       "      <td>2019-02-25</td>\n",
       "      <td>15:00:00</td>\n",
       "      <td>6956905</td>\n",
       "      <td>2019-02-25 15:00:00</td>\n",
       "      <td>200.000</td>\n",
       "      <td>04:00:00</td>\n",
       "    </tr>\n",
       "    <tr>\n",
       "      <th>16</th>\n",
       "      <td>A002</td>\n",
       "      <td>R051</td>\n",
       "      <td>02-00-00</td>\n",
       "      <td>59 ST</td>\n",
       "      <td>2019-02-25</td>\n",
       "      <td>19:00:00</td>\n",
       "      <td>6957645</td>\n",
       "      <td>2019-02-25 19:00:00</td>\n",
       "      <td>740.000</td>\n",
       "      <td>04:00:00</td>\n",
       "    </tr>\n",
       "    <tr>\n",
       "      <th>17</th>\n",
       "      <td>A002</td>\n",
       "      <td>R051</td>\n",
       "      <td>02-00-00</td>\n",
       "      <td>59 ST</td>\n",
       "      <td>2019-02-25</td>\n",
       "      <td>23:00:00</td>\n",
       "      <td>6957918</td>\n",
       "      <td>2019-02-25 23:00:00</td>\n",
       "      <td>273.000</td>\n",
       "      <td>04:00:00</td>\n",
       "    </tr>\n",
       "    <tr>\n",
       "      <th>18</th>\n",
       "      <td>A002</td>\n",
       "      <td>R051</td>\n",
       "      <td>02-00-00</td>\n",
       "      <td>59 ST</td>\n",
       "      <td>2019-02-26</td>\n",
       "      <td>03:00:00</td>\n",
       "      <td>6957937</td>\n",
       "      <td>2019-02-26 03:00:00</td>\n",
       "      <td>19.000</td>\n",
       "      <td>04:00:00</td>\n",
       "    </tr>\n",
       "    <tr>\n",
       "      <th>19</th>\n",
       "      <td>A002</td>\n",
       "      <td>R051</td>\n",
       "      <td>02-00-00</td>\n",
       "      <td>59 ST</td>\n",
       "      <td>2019-02-26</td>\n",
       "      <td>07:00:00</td>\n",
       "      <td>6957947</td>\n",
       "      <td>2019-02-26 07:00:00</td>\n",
       "      <td>10.000</td>\n",
       "      <td>04:00:00</td>\n",
       "    </tr>\n",
       "  </tbody>\n",
       "</table>\n",
       "</div>"
      ],
      "text/plain": [
       "     C/A  UNIT       SCP STATION       DATE      TIME  ENTRIES  \\\n",
       "0   A002  R051  02-00-00   59 ST 2019-02-23  03:00:00  6955483   \n",
       "1   A002  R051  02-00-00   59 ST 2019-02-23  07:00:00  6955494   \n",
       "2   A002  R051  02-00-00   59 ST 2019-02-23  11:00:00  6955554   \n",
       "3   A002  R051  02-00-00   59 ST 2019-02-23  15:00:00  6955714   \n",
       "4   A002  R051  02-00-00   59 ST 2019-02-23  19:00:00  6956004   \n",
       "5   A002  R051  02-00-00   59 ST 2019-02-23  23:00:00  6956147   \n",
       "6   A002  R051  02-00-00   59 ST 2019-02-24  03:00:00  6956177   \n",
       "7   A002  R051  02-00-00   59 ST 2019-02-24  07:00:00  6956184   \n",
       "8   A002  R051  02-00-00   59 ST 2019-02-24  11:00:00  6956215   \n",
       "9   A002  R051  02-00-00   59 ST 2019-02-24  15:00:00  6956315   \n",
       "10  A002  R051  02-00-00   59 ST 2019-02-24  19:00:00  6956472   \n",
       "11  A002  R051  02-00-00   59 ST 2019-02-24  23:00:00  6956566   \n",
       "12  A002  R051  02-00-00   59 ST 2019-02-25  03:00:00  6956582   \n",
       "13  A002  R051  02-00-00   59 ST 2019-02-25  07:00:00  6956590   \n",
       "14  A002  R051  02-00-00   59 ST 2019-02-25  11:00:00  6956705   \n",
       "15  A002  R051  02-00-00   59 ST 2019-02-25  15:00:00  6956905   \n",
       "16  A002  R051  02-00-00   59 ST 2019-02-25  19:00:00  6957645   \n",
       "17  A002  R051  02-00-00   59 ST 2019-02-25  23:00:00  6957918   \n",
       "18  A002  R051  02-00-00   59 ST 2019-02-26  03:00:00  6957937   \n",
       "19  A002  R051  02-00-00   59 ST 2019-02-26  07:00:00  6957947   \n",
       "\n",
       "              datetime  entries_since_last_record time_interval  \n",
       "0  2019-02-23 03:00:00                        nan           NaT  \n",
       "1  2019-02-23 07:00:00                     11.000      04:00:00  \n",
       "2  2019-02-23 11:00:00                     60.000      04:00:00  \n",
       "3  2019-02-23 15:00:00                    160.000      04:00:00  \n",
       "4  2019-02-23 19:00:00                    290.000      04:00:00  \n",
       "5  2019-02-23 23:00:00                    143.000      04:00:00  \n",
       "6  2019-02-24 03:00:00                     30.000      04:00:00  \n",
       "7  2019-02-24 07:00:00                      7.000      04:00:00  \n",
       "8  2019-02-24 11:00:00                     31.000      04:00:00  \n",
       "9  2019-02-24 15:00:00                    100.000      04:00:00  \n",
       "10 2019-02-24 19:00:00                    157.000      04:00:00  \n",
       "11 2019-02-24 23:00:00                     94.000      04:00:00  \n",
       "12 2019-02-25 03:00:00                     16.000      04:00:00  \n",
       "13 2019-02-25 07:00:00                      8.000      04:00:00  \n",
       "14 2019-02-25 11:00:00                    115.000      04:00:00  \n",
       "15 2019-02-25 15:00:00                    200.000      04:00:00  \n",
       "16 2019-02-25 19:00:00                    740.000      04:00:00  \n",
       "17 2019-02-25 23:00:00                    273.000      04:00:00  \n",
       "18 2019-02-26 03:00:00                     19.000      04:00:00  \n",
       "19 2019-02-26 07:00:00                     10.000      04:00:00  "
      ]
     },
     "execution_count": 14,
     "metadata": {},
     "output_type": "execute_result"
    }
   ],
   "source": [
    "sorted_data.head(20)"
   ]
  },
  {
   "cell_type": "markdown",
   "metadata": {},
   "source": [
    "## 2.4 Visualize Outliers"
   ]
  },
  {
   "cell_type": "code",
   "execution_count": 22,
   "metadata": {},
   "outputs": [
    {
     "data": {
      "text/plain": [
       "Text(0.5, 1.0, 'Raw')"
      ]
     },
     "execution_count": 22,
     "metadata": {},
     "output_type": "execute_result"
    },
    {
     "data": {
      "image/png": "[encoded data removed]",
      "text/plain": [
       "<Figure size 432x288 with 1 Axes>"
      ]
     },
     "metadata": {
      "needs_background": "light"
     },
     "output_type": "display_data"
    }
   ],
   "source": [
    "interval_in_hours = sorted_data.time_interval.dt.total_seconds() / 3600\n",
    "\n",
    "plt.scatter(interval_in_hours, sorted_data.entries_since_last_record, alpha=0.1)\n",
    "plt.xlabel('Hours in the interval')\n",
    "plt.ylabel('Number of Entries')\n",
    "plt.title('Raw')"
   ]
  },
  {
   "cell_type": "code",
   "execution_count": 24,
   "metadata": {},
   "outputs": [
    {
     "data": {
      "text/plain": [
       "(-3000, 5000)"
      ]
     },
     "execution_count": 24,
     "metadata": {},
     "output_type": "execute_result"
    },
    {
     "data": {
      "image/png": "[encoded data removed]",
      "text/plain": [
       "<Figure size 432x288 with 1 Axes>"
      ]
     },
     "metadata": {
      "needs_background": "light"
     },
     "output_type": "display_data"
    }
   ],
   "source": [
    "plt.scatter(interval_in_hours, sorted_data.entries_since_last_record, alpha=0.1)\n",
    "plt.xlabel('Hours in the interval')\n",
    "plt.ylabel('Number of Entries')\n",
    "plt.title('Zoomed In')\n",
    "plt.xlim([0,150])\n",
    "plt.ylim([-3000, 5000])"
   ]
  },
  {
   "cell_type": "markdown",
   "metadata": {},
   "source": [
    "Conclusion: high entries values are not due to long time intervals for counting"
   ]
  },
  {
   "cell_type": "code",
   "execution_count": 25,
   "metadata": {},
   "outputs": [
    {
     "data": {
      "text/plain": [
       "8.0"
      ]
     },
     "execution_count": 25,
     "metadata": {},
     "output_type": "execute_result"
    }
   ],
   "source": [
    "sorted_data.time_interval.quantile(0.999).total_seconds() / 3600"
   ]
  },
  {
   "cell_type": "code",
   "execution_count": 26,
   "metadata": {},
   "outputs": [
    {
     "data": {
      "text/plain": [
       "1913.0"
      ]
     },
     "execution_count": 26,
     "metadata": {},
     "output_type": "execute_result"
    }
   ],
   "source": [
    "sorted_data.entries_since_last_record.quantile(0.999)"
   ]
  },
  {
   "cell_type": "code",
   "execution_count": 27,
   "metadata": {},
   "outputs": [
    {
     "data": {
      "text/plain": [
       "-1.0"
      ]
     },
     "execution_count": 27,
     "metadata": {},
     "output_type": "execute_result"
    }
   ],
   "source": [
    "sorted_data.entries_since_last_record.quantile(0.0091)"
   ]
  },
  {
   "cell_type": "markdown",
   "metadata": {},
   "source": [
    "Conclusion: Could remove all intervals above 8 hrs, all negative entries values, and all entries values above 1913 and still only remove ~1.1% of the data set"
   ]
  },
  {
   "cell_type": "markdown",
   "metadata": {},
   "source": [
    "## 2.5 Calculate Outliers Within A Turnstile"
   ]
  },
  {
   "cell_type": "code",
   "execution_count": 28,
   "metadata": {},
   "outputs": [],
   "source": [
    "sorted_data['unit_mean'] = sorted_data.groupby(['C/A', 'UNIT', 'SCP', 'STATION'])['entries_since_last_record'].transform('mean')"
   ]
  },
  {
   "cell_type": "code",
   "execution_count": 29,
   "metadata": {},
   "outputs": [],
   "source": [
    "sorted_data['unit_std'] = sorted_data.groupby(['C/A', 'UNIT', 'SCP', 'STATION'])['entries_since_last_record'].transform('std')"
   ]
  },
  {
   "cell_type": "code",
   "execution_count": 30,
   "metadata": {},
   "outputs": [],
   "source": [
    "sorted_data['deviations'] = (sorted_data['entries_since_last_record'] - sorted_data['unit_mean']) / sorted_data['unit_std']\n"
   ]
  },
  {
   "cell_type": "code",
   "execution_count": 31,
   "metadata": {},
   "outputs": [
    {
     "data": {
      "text/html": [
       "<div>\n",
       "<style scoped>\n",
       "    .dataframe tbody tr th:only-of-type {\n",
       "        vertical-align: middle;\n",
       "    }\n",
       "\n",
       "    .dataframe tbody tr th {\n",
       "        vertical-align: top;\n",
       "    }\n",
       "\n",
       "    .dataframe thead th {\n",
       "        text-align: right;\n",
       "    }\n",
       "</style>\n",
       "<table border=\"1\" class=\"dataframe\">\n",
       "  <thead>\n",
       "    <tr style=\"text-align: right;\">\n",
       "      <th></th>\n",
       "      <th>ENTRIES</th>\n",
       "      <th>entries_since_last_record</th>\n",
       "      <th>time_interval</th>\n",
       "      <th>unit_mean</th>\n",
       "      <th>unit_std</th>\n",
       "      <th>deviations</th>\n",
       "    </tr>\n",
       "  </thead>\n",
       "  <tbody>\n",
       "    <tr>\n",
       "      <th>count</th>\n",
       "      <td>1016285.000</td>\n",
       "      <td>1011402.000</td>\n",
       "      <td>1011402</td>\n",
       "      <td>1016271.000</td>\n",
       "      <td>1016265.000</td>\n",
       "      <td>960222.000</td>\n",
       "    </tr>\n",
       "    <tr>\n",
       "      <th>mean</th>\n",
       "      <td>40529956.499</td>\n",
       "      <td>2066.048</td>\n",
       "      <td>0 days 03:59:39.541903</td>\n",
       "      <td>2064.916</td>\n",
       "      <td>151249.407</td>\n",
       "      <td>0.000</td>\n",
       "    </tr>\n",
       "    <tr>\n",
       "      <th>std</th>\n",
       "      <td>208311278.270</td>\n",
       "      <td>3421941.072</td>\n",
       "      <td>0 days 01:36:09.342946</td>\n",
       "      <td>234270.500</td>\n",
       "      <td>3418951.384</td>\n",
       "      <td>0.998</td>\n",
       "    </tr>\n",
       "    <tr>\n",
       "      <th>min</th>\n",
       "      <td>0.000</td>\n",
       "      <td>-1428035580.000</td>\n",
       "      <td>0 days 00:00:00</td>\n",
       "      <td>-7069372.589</td>\n",
       "      <td>0.000</td>\n",
       "      <td>-14.933</td>\n",
       "    </tr>\n",
       "    <tr>\n",
       "      <th>0.01%</th>\n",
       "      <td>0.000</td>\n",
       "      <td>-1791052.851</td>\n",
       "      <td>0 days 00:00:08</td>\n",
       "      <td>-7069372.589</td>\n",
       "      <td>0.000</td>\n",
       "      <td>-13.711</td>\n",
       "    </tr>\n",
       "    <tr>\n",
       "      <th>0.1%</th>\n",
       "      <td>0.000</td>\n",
       "      <td>-825.000</td>\n",
       "      <td>0 days 00:01:20</td>\n",
       "      <td>-642517.976</td>\n",
       "      <td>0.000</td>\n",
       "      <td>-1.785</td>\n",
       "    </tr>\n",
       "    <tr>\n",
       "      <th>1%</th>\n",
       "      <td>0.000</td>\n",
       "      <td>0.000</td>\n",
       "      <td>0 days 01:20:56</td>\n",
       "      <td>-9349.700</td>\n",
       "      <td>0.000</td>\n",
       "      <td>-1.351</td>\n",
       "    </tr>\n",
       "    <tr>\n",
       "      <th>10%</th>\n",
       "      <td>18391.000</td>\n",
       "      <td>0.000</td>\n",
       "      <td>0 days 04:00:00</td>\n",
       "      <td>0.048</td>\n",
       "      <td>0.951</td>\n",
       "      <td>-0.991</td>\n",
       "    </tr>\n",
       "    <tr>\n",
       "      <th>50%</th>\n",
       "      <td>2285667.000</td>\n",
       "      <td>68.000</td>\n",
       "      <td>0 days 04:00:00</td>\n",
       "      <td>137.986</td>\n",
       "      <td>143.202</td>\n",
       "      <td>-0.186</td>\n",
       "    </tr>\n",
       "    <tr>\n",
       "      <th>90%</th>\n",
       "      <td>15417265.600</td>\n",
       "      <td>479.000</td>\n",
       "      <td>0 days 04:00:00</td>\n",
       "      <td>364.577</td>\n",
       "      <td>380.190</td>\n",
       "      <td>1.428</td>\n",
       "    </tr>\n",
       "    <tr>\n",
       "      <th>99%</th>\n",
       "      <td>1382615084.480</td>\n",
       "      <td>1189.000</td>\n",
       "      <td>0 days 04:12:00</td>\n",
       "      <td>670.319</td>\n",
       "      <td>511519.184</td>\n",
       "      <td>2.798</td>\n",
       "    </tr>\n",
       "    <tr>\n",
       "      <th>99.9%</th>\n",
       "      <td>2029836069.024</td>\n",
       "      <td>1913.000</td>\n",
       "      <td>0 days 08:00:00</td>\n",
       "      <td>819485.627</td>\n",
       "      <td>54764093.658</td>\n",
       "      <td>4.552</td>\n",
       "    </tr>\n",
       "    <tr>\n",
       "      <th>99.99%</th>\n",
       "      <td>2129430119.571</td>\n",
       "      <td>3273.743</td>\n",
       "      <td>1 days 16:00:00</td>\n",
       "      <td>9805281.690</td>\n",
       "      <td>143101877.154</td>\n",
       "      <td>11.843</td>\n",
       "    </tr>\n",
       "    <tr>\n",
       "      <th>max</th>\n",
       "      <td>2129458754.000</td>\n",
       "      <td>2088503242.000</td>\n",
       "      <td>24 days 05:00:00</td>\n",
       "      <td>9805281.690</td>\n",
       "      <td>143101877.154</td>\n",
       "      <td>14.560</td>\n",
       "    </tr>\n",
       "  </tbody>\n",
       "</table>\n",
       "</div>"
      ],
      "text/plain": [
       "              ENTRIES  entries_since_last_record           time_interval  \\\n",
       "count     1016285.000                1011402.000                 1011402   \n",
       "mean     40529956.499                   2066.048  0 days 03:59:39.541903   \n",
       "std     208311278.270                3421941.072  0 days 01:36:09.342946   \n",
       "min             0.000            -1428035580.000         0 days 00:00:00   \n",
       "0.01%           0.000               -1791052.851         0 days 00:00:08   \n",
       "0.1%            0.000                   -825.000         0 days 00:01:20   \n",
       "1%              0.000                      0.000         0 days 01:20:56   \n",
       "10%         18391.000                      0.000         0 days 04:00:00   \n",
       "50%       2285667.000                     68.000         0 days 04:00:00   \n",
       "90%      15417265.600                    479.000         0 days 04:00:00   \n",
       "99%    1382615084.480                   1189.000         0 days 04:12:00   \n",
       "99.9%  2029836069.024                   1913.000         0 days 08:00:00   \n",
       "99.99% 2129430119.571                   3273.743         1 days 16:00:00   \n",
       "max    2129458754.000             2088503242.000        24 days 05:00:00   \n",
       "\n",
       "          unit_mean      unit_std  deviations  \n",
       "count   1016271.000   1016265.000  960222.000  \n",
       "mean       2064.916    151249.407       0.000  \n",
       "std      234270.500   3418951.384       0.998  \n",
       "min    -7069372.589         0.000     -14.933  \n",
       "0.01%  -7069372.589         0.000     -13.711  \n",
       "0.1%    -642517.976         0.000      -1.785  \n",
       "1%        -9349.700         0.000      -1.351  \n",
       "10%           0.048         0.951      -0.991  \n",
       "50%         137.986       143.202      -0.186  \n",
       "90%         364.577       380.190       1.428  \n",
       "99%         670.319    511519.184       2.798  \n",
       "99.9%    819485.627  54764093.658       4.552  \n",
       "99.99%  9805281.690 143101877.154      11.843  \n",
       "max     9805281.690 143101877.154      14.560  "
      ]
     },
     "execution_count": 31,
     "metadata": {},
     "output_type": "execute_result"
    }
   ],
   "source": [
    "sorted_data.describe([0.0001, 0.001, 0.01, 0.1, 0.9, 0.99, 0.999, 0.9999])"
   ]
  },
  {
   "cell_type": "markdown",
   "metadata": {},
   "source": [
    "## 2.6 Remove Within Unit Outliers"
   ]
  },
  {
   "cell_type": "code",
   "execution_count": 32,
   "metadata": {},
   "outputs": [],
   "source": [
    "no_unit_outliers = sorted_data[((sorted_data.deviations > -5) & (sorted_data.deviations < 5)) | sorted_data.deviations.isna()]"
   ]
  },
  {
   "cell_type": "code",
   "execution_count": 33,
   "metadata": {},
   "outputs": [
    {
     "data": {
      "text/plain": [
       "0.9990711267016634"
      ]
     },
     "execution_count": 33,
     "metadata": {},
     "output_type": "execute_result"
    }
   ],
   "source": [
    "no_unit_outliers.shape[0] / sorted_data.shape[0]"
   ]
  },
  {
   "cell_type": "markdown",
   "metadata": {},
   "source": [
    "## 2.7 Visualize Without Unit Outliers"
   ]
  },
  {
   "cell_type": "code",
   "execution_count": 34,
   "metadata": {},
   "outputs": [
    {
     "data": {
      "text/plain": [
       "Text(0.5, 1.0, 'Raw')"
      ]
     },
     "execution_count": 34,
     "metadata": {},
     "output_type": "execute_result"
    },
    {
     "data": {
      "image/png": "[encoded data removed]",
      "text/plain": [
       "<Figure size 432x288 with 1 Axes>"
      ]
     },
     "metadata": {
      "needs_background": "light"
     },
     "output_type": "display_data"
    }
   ],
   "source": [
    "interval_in_hours = no_unit_outliers.time_interval.dt.total_seconds() / 3600\n",
    "\n",
    "plt.scatter(interval_in_hours, no_unit_outliers.entries_since_last_record, alpha=0.2)\n",
    "plt.xlabel('Hours in the interval')\n",
    "plt.ylabel('Number of Entries')\n",
    "plt.title('Raw')\n"
   ]
  },
  {
   "cell_type": "code",
   "execution_count": 35,
   "metadata": {},
   "outputs": [
    {
     "data": {
      "text/html": [
       "<div>\n",
       "<style scoped>\n",
       "    .dataframe tbody tr th:only-of-type {\n",
       "        vertical-align: middle;\n",
       "    }\n",
       "\n",
       "    .dataframe tbody tr th {\n",
       "        vertical-align: top;\n",
       "    }\n",
       "\n",
       "    .dataframe thead th {\n",
       "        text-align: right;\n",
       "    }\n",
       "</style>\n",
       "<table border=\"1\" class=\"dataframe\">\n",
       "  <thead>\n",
       "    <tr style=\"text-align: right;\">\n",
       "      <th></th>\n",
       "      <th>ENTRIES</th>\n",
       "      <th>entries_since_last_record</th>\n",
       "      <th>time_interval</th>\n",
       "      <th>unit_mean</th>\n",
       "      <th>unit_std</th>\n",
       "      <th>deviations</th>\n",
       "    </tr>\n",
       "  </thead>\n",
       "  <tbody>\n",
       "    <tr>\n",
       "      <th>count</th>\n",
       "      <td>1015341.000</td>\n",
       "      <td>1010458.000</td>\n",
       "      <td>1010458</td>\n",
       "      <td>1015327.000</td>\n",
       "      <td>1015321.000</td>\n",
       "      <td>959278.000</td>\n",
       "    </tr>\n",
       "    <tr>\n",
       "      <th>mean</th>\n",
       "      <td>40537504.316</td>\n",
       "      <td>217.006</td>\n",
       "      <td>0 days 03:59:14.722463</td>\n",
       "      <td>2058.965</td>\n",
       "      <td>150540.900</td>\n",
       "      <td>-0.004</td>\n",
       "    </tr>\n",
       "    <tr>\n",
       "      <th>std</th>\n",
       "      <td>208328233.072</td>\n",
       "      <td>82970.949</td>\n",
       "      <td>0 days 01:16:05.855198</td>\n",
       "      <td>233812.099</td>\n",
       "      <td>3411897.994</td>\n",
       "      <td>0.955</td>\n",
       "    </tr>\n",
       "    <tr>\n",
       "      <th>min</th>\n",
       "      <td>0.000</td>\n",
       "      <td>-10314855.000</td>\n",
       "      <td>0 days 00:00:00</td>\n",
       "      <td>-7069372.589</td>\n",
       "      <td>0.000</td>\n",
       "      <td>-4.948</td>\n",
       "    </tr>\n",
       "    <tr>\n",
       "      <th>0.01%</th>\n",
       "      <td>0.000</td>\n",
       "      <td>-1658.954</td>\n",
       "      <td>0 days 00:00:18</td>\n",
       "      <td>-7069372.589</td>\n",
       "      <td>0.000</td>\n",
       "      <td>-2.750</td>\n",
       "    </tr>\n",
       "    <tr>\n",
       "      <th>0.1%</th>\n",
       "      <td>0.000</td>\n",
       "      <td>-727.000</td>\n",
       "      <td>0 days 00:01:20</td>\n",
       "      <td>-642517.976</td>\n",
       "      <td>0.000</td>\n",
       "      <td>-1.665</td>\n",
       "    </tr>\n",
       "    <tr>\n",
       "      <th>1%</th>\n",
       "      <td>0.000</td>\n",
       "      <td>0.000</td>\n",
       "      <td>0 days 01:20:59</td>\n",
       "      <td>-9349.700</td>\n",
       "      <td>0.000</td>\n",
       "      <td>-1.349</td>\n",
       "    </tr>\n",
       "    <tr>\n",
       "      <th>10%</th>\n",
       "      <td>18646.000</td>\n",
       "      <td>0.000</td>\n",
       "      <td>0 days 04:00:00</td>\n",
       "      <td>0.048</td>\n",
       "      <td>0.968</td>\n",
       "      <td>-0.991</td>\n",
       "    </tr>\n",
       "    <tr>\n",
       "      <th>50%</th>\n",
       "      <td>2290987.000</td>\n",
       "      <td>68.000</td>\n",
       "      <td>0 days 04:00:00</td>\n",
       "      <td>138.129</td>\n",
       "      <td>143.222</td>\n",
       "      <td>-0.187</td>\n",
       "    </tr>\n",
       "    <tr>\n",
       "      <th>90%</th>\n",
       "      <td>15416988.000</td>\n",
       "      <td>478.000</td>\n",
       "      <td>0 days 04:00:00</td>\n",
       "      <td>364.577</td>\n",
       "      <td>380.190</td>\n",
       "      <td>1.420</td>\n",
       "    </tr>\n",
       "    <tr>\n",
       "      <th>99%</th>\n",
       "      <td>1382615103.200</td>\n",
       "      <td>1186.000</td>\n",
       "      <td>0 days 04:12:00</td>\n",
       "      <td>670.319</td>\n",
       "      <td>511519.184</td>\n",
       "      <td>2.771</td>\n",
       "    </tr>\n",
       "    <tr>\n",
       "      <th>99.9%</th>\n",
       "      <td>2029836054.240</td>\n",
       "      <td>1889.000</td>\n",
       "      <td>0 days 08:00:00</td>\n",
       "      <td>819485.627</td>\n",
       "      <td>44410163.637</td>\n",
       "      <td>3.748</td>\n",
       "    </tr>\n",
       "    <tr>\n",
       "      <th>99.99%</th>\n",
       "      <td>2129430134.958</td>\n",
       "      <td>2492.817</td>\n",
       "      <td>0 days 20:00:00</td>\n",
       "      <td>9805281.690</td>\n",
       "      <td>143101877.154</td>\n",
       "      <td>4.746</td>\n",
       "    </tr>\n",
       "    <tr>\n",
       "      <th>max</th>\n",
       "      <td>2129458754.000</td>\n",
       "      <td>49872891.000</td>\n",
       "      <td>24 days 05:00:00</td>\n",
       "      <td>9805281.690</td>\n",
       "      <td>143101877.154</td>\n",
       "      <td>4.999</td>\n",
       "    </tr>\n",
       "  </tbody>\n",
       "</table>\n",
       "</div>"
      ],
      "text/plain": [
       "              ENTRIES  entries_since_last_record           time_interval  \\\n",
       "count     1015341.000                1010458.000                 1010458   \n",
       "mean     40537504.316                    217.006  0 days 03:59:14.722463   \n",
       "std     208328233.072                  82970.949  0 days 01:16:05.855198   \n",
       "min             0.000              -10314855.000         0 days 00:00:00   \n",
       "0.01%           0.000                  -1658.954         0 days 00:00:18   \n",
       "0.1%            0.000                   -727.000         0 days 00:01:20   \n",
       "1%              0.000                      0.000         0 days 01:20:59   \n",
       "10%         18646.000                      0.000         0 days 04:00:00   \n",
       "50%       2290987.000                     68.000         0 days 04:00:00   \n",
       "90%      15416988.000                    478.000         0 days 04:00:00   \n",
       "99%    1382615103.200                   1186.000         0 days 04:12:00   \n",
       "99.9%  2029836054.240                   1889.000         0 days 08:00:00   \n",
       "99.99% 2129430134.958                   2492.817         0 days 20:00:00   \n",
       "max    2129458754.000               49872891.000        24 days 05:00:00   \n",
       "\n",
       "          unit_mean      unit_std  deviations  \n",
       "count   1015327.000   1015321.000  959278.000  \n",
       "mean       2058.965    150540.900      -0.004  \n",
       "std      233812.099   3411897.994       0.955  \n",
       "min    -7069372.589         0.000      -4.948  \n",
       "0.01%  -7069372.589         0.000      -2.750  \n",
       "0.1%    -642517.976         0.000      -1.665  \n",
       "1%        -9349.700         0.000      -1.349  \n",
       "10%           0.048         0.968      -0.991  \n",
       "50%         138.129       143.222      -0.187  \n",
       "90%         364.577       380.190       1.420  \n",
       "99%         670.319    511519.184       2.771  \n",
       "99.9%    819485.627  44410163.637       3.748  \n",
       "99.99%  9805281.690 143101877.154       4.746  \n",
       "max     9805281.690 143101877.154       4.999  "
      ]
     },
     "execution_count": 35,
     "metadata": {},
     "output_type": "execute_result"
    }
   ],
   "source": [
    "no_unit_outliers.describe([0.0001, 0.001, 0.01, 0.1, 0.9, 0.99, 0.999, 0.9999])"
   ]
  },
  {
   "cell_type": "markdown",
   "metadata": {},
   "source": [
    "## 2.8 Remove Extreme Entries Outliers"
   ]
  },
  {
   "cell_type": "code",
   "execution_count": 36,
   "metadata": {},
   "outputs": [],
   "source": [
    "no_extreme_outliers = no_unit_outliers[\n",
    "    (no_unit_outliers.entries_since_last_record < no_unit_outliers.entries_since_last_record.quantile(0.99995)) & \n",
    "    (no_unit_outliers.entries_since_last_record > no_unit_outliers.entries_since_last_record.quantile(0.00005))]"
   ]
  },
  {
   "cell_type": "code",
   "execution_count": 37,
   "metadata": {},
   "outputs": [
    {
     "data": {
      "text/plain": [
       "Text(0.5, 1.0, 'Raw')"
      ]
     },
     "execution_count": 37,
     "metadata": {},
     "output_type": "execute_result"
    },
    {
     "data": {
      "image/png": "[encoded data removed]",
      "text/plain": [
       "<Figure size 432x288 with 1 Axes>"
      ]
     },
     "metadata": {
      "needs_background": "light"
     },
     "output_type": "display_data"
    }
   ],
   "source": [
    "interval_in_hours = no_extreme_outliers.time_interval.dt.total_seconds() / 3600\n",
    "\n",
    "plt.scatter(interval_in_hours, no_extreme_outliers.entries_since_last_record, alpha=0.1)\n",
    "plt.xlabel('Hours in the interval')\n",
    "plt.ylabel('Number of Entries')\n",
    "plt.title('Raw')"
   ]
  },
  {
   "cell_type": "markdown",
   "metadata": {},
   "source": [
    "## 2.9 Remove Extreme Interval Outliers"
   ]
  },
  {
   "cell_type": "code",
   "execution_count": 38,
   "metadata": {},
   "outputs": [
    {
     "data": {
      "text/html": [
       "<div>\n",
       "<style scoped>\n",
       "    .dataframe tbody tr th:only-of-type {\n",
       "        vertical-align: middle;\n",
       "    }\n",
       "\n",
       "    .dataframe tbody tr th {\n",
       "        vertical-align: top;\n",
       "    }\n",
       "\n",
       "    .dataframe thead th {\n",
       "        text-align: right;\n",
       "    }\n",
       "</style>\n",
       "<table border=\"1\" class=\"dataframe\">\n",
       "  <thead>\n",
       "    <tr style=\"text-align: right;\">\n",
       "      <th></th>\n",
       "      <th>ENTRIES</th>\n",
       "      <th>entries_since_last_record</th>\n",
       "      <th>time_interval</th>\n",
       "      <th>unit_mean</th>\n",
       "      <th>unit_std</th>\n",
       "      <th>deviations</th>\n",
       "    </tr>\n",
       "  </thead>\n",
       "  <tbody>\n",
       "    <tr>\n",
       "      <th>count</th>\n",
       "      <td>1010356.000</td>\n",
       "      <td>1010356.000</td>\n",
       "      <td>1010356</td>\n",
       "      <td>1010356.000</td>\n",
       "      <td>1010353.000</td>\n",
       "      <td>959176.000</td>\n",
       "    </tr>\n",
       "    <tr>\n",
       "      <th>mean</th>\n",
       "      <td>40529168.748</td>\n",
       "      <td>167.707</td>\n",
       "      <td>0 days 03:59:13.490501</td>\n",
       "      <td>2044.986</td>\n",
       "      <td>150125.708</td>\n",
       "      <td>-0.004</td>\n",
       "    </tr>\n",
       "    <tr>\n",
       "      <th>std</th>\n",
       "      <td>208302536.217</td>\n",
       "      <td>257.439</td>\n",
       "      <td>0 days 01:15:26.454563</td>\n",
       "      <td>233540.788</td>\n",
       "      <td>3408202.641</td>\n",
       "      <td>0.955</td>\n",
       "    </tr>\n",
       "    <tr>\n",
       "      <th>min</th>\n",
       "      <td>0.000</td>\n",
       "      <td>-2092.000</td>\n",
       "      <td>0 days 00:00:00</td>\n",
       "      <td>-7069372.589</td>\n",
       "      <td>0.000</td>\n",
       "      <td>-4.530</td>\n",
       "    </tr>\n",
       "    <tr>\n",
       "      <th>0.01%</th>\n",
       "      <td>0.000</td>\n",
       "      <td>-1505.929</td>\n",
       "      <td>0 days 00:00:31</td>\n",
       "      <td>-7069372.589</td>\n",
       "      <td>0.000</td>\n",
       "      <td>-2.689</td>\n",
       "    </tr>\n",
       "    <tr>\n",
       "      <th>0.1%</th>\n",
       "      <td>0.000</td>\n",
       "      <td>-706.645</td>\n",
       "      <td>0 days 00:01:20</td>\n",
       "      <td>-642517.976</td>\n",
       "      <td>0.000</td>\n",
       "      <td>-1.652</td>\n",
       "    </tr>\n",
       "    <tr>\n",
       "      <th>1%</th>\n",
       "      <td>0.000</td>\n",
       "      <td>0.000</td>\n",
       "      <td>0 days 01:21:15</td>\n",
       "      <td>-9349.700</td>\n",
       "      <td>0.000</td>\n",
       "      <td>-1.349</td>\n",
       "    </tr>\n",
       "    <tr>\n",
       "      <th>10%</th>\n",
       "      <td>18664.000</td>\n",
       "      <td>0.000</td>\n",
       "      <td>0 days 04:00:00</td>\n",
       "      <td>0.048</td>\n",
       "      <td>0.968</td>\n",
       "      <td>-0.991</td>\n",
       "    </tr>\n",
       "    <tr>\n",
       "      <th>50%</th>\n",
       "      <td>2290595.000</td>\n",
       "      <td>68.000</td>\n",
       "      <td>0 days 04:00:00</td>\n",
       "      <td>138.129</td>\n",
       "      <td>143.222</td>\n",
       "      <td>-0.187</td>\n",
       "    </tr>\n",
       "    <tr>\n",
       "      <th>90%</th>\n",
       "      <td>15413273.500</td>\n",
       "      <td>478.000</td>\n",
       "      <td>0 days 04:00:00</td>\n",
       "      <td>364.577</td>\n",
       "      <td>379.898</td>\n",
       "      <td>1.419</td>\n",
       "    </tr>\n",
       "    <tr>\n",
       "      <th>99%</th>\n",
       "      <td>1382614716.900</td>\n",
       "      <td>1184.000</td>\n",
       "      <td>0 days 04:12:00</td>\n",
       "      <td>670.319</td>\n",
       "      <td>511519.184</td>\n",
       "      <td>2.771</td>\n",
       "    </tr>\n",
       "    <tr>\n",
       "      <th>99.9%</th>\n",
       "      <td>2029836050.280</td>\n",
       "      <td>1878.000</td>\n",
       "      <td>0 days 08:00:00</td>\n",
       "      <td>819485.627</td>\n",
       "      <td>44410163.637</td>\n",
       "      <td>3.743</td>\n",
       "    </tr>\n",
       "    <tr>\n",
       "      <th>99.99%</th>\n",
       "      <td>2129430058.113</td>\n",
       "      <td>2403.000</td>\n",
       "      <td>0 days 20:00:00</td>\n",
       "      <td>9805281.690</td>\n",
       "      <td>143101877.154</td>\n",
       "      <td>4.745</td>\n",
       "    </tr>\n",
       "    <tr>\n",
       "      <th>max</th>\n",
       "      <td>2129458679.000</td>\n",
       "      <td>2622.000</td>\n",
       "      <td>24 days 05:00:00</td>\n",
       "      <td>9805281.690</td>\n",
       "      <td>143101877.154</td>\n",
       "      <td>4.999</td>\n",
       "    </tr>\n",
       "  </tbody>\n",
       "</table>\n",
       "</div>"
      ],
      "text/plain": [
       "              ENTRIES  entries_since_last_record           time_interval  \\\n",
       "count     1010356.000                1010356.000                 1010356   \n",
       "mean     40529168.748                    167.707  0 days 03:59:13.490501   \n",
       "std     208302536.217                    257.439  0 days 01:15:26.454563   \n",
       "min             0.000                  -2092.000         0 days 00:00:00   \n",
       "0.01%           0.000                  -1505.929         0 days 00:00:31   \n",
       "0.1%            0.000                   -706.645         0 days 00:01:20   \n",
       "1%              0.000                      0.000         0 days 01:21:15   \n",
       "10%         18664.000                      0.000         0 days 04:00:00   \n",
       "50%       2290595.000                     68.000         0 days 04:00:00   \n",
       "90%      15413273.500                    478.000         0 days 04:00:00   \n",
       "99%    1382614716.900                   1184.000         0 days 04:12:00   \n",
       "99.9%  2029836050.280                   1878.000         0 days 08:00:00   \n",
       "99.99% 2129430058.113                   2403.000         0 days 20:00:00   \n",
       "max    2129458679.000                   2622.000        24 days 05:00:00   \n",
       "\n",
       "          unit_mean      unit_std  deviations  \n",
       "count   1010356.000   1010353.000  959176.000  \n",
       "mean       2044.986    150125.708      -0.004  \n",
       "std      233540.788   3408202.641       0.955  \n",
       "min    -7069372.589         0.000      -4.530  \n",
       "0.01%  -7069372.589         0.000      -2.689  \n",
       "0.1%    -642517.976         0.000      -1.652  \n",
       "1%        -9349.700         0.000      -1.349  \n",
       "10%           0.048         0.968      -0.991  \n",
       "50%         138.129       143.222      -0.187  \n",
       "90%         364.577       379.898       1.419  \n",
       "99%         670.319    511519.184       2.771  \n",
       "99.9%    819485.627  44410163.637       3.743  \n",
       "99.99%  9805281.690 143101877.154       4.745  \n",
       "max     9805281.690 143101877.154       4.999  "
      ]
     },
     "execution_count": 38,
     "metadata": {},
     "output_type": "execute_result"
    }
   ],
   "source": [
    "no_extreme_outliers.describe([0.0001, 0.001, 0.01, 0.1, 0.9, 0.99, 0.999, 0.9999])"
   ]
  },
  {
   "cell_type": "code",
   "execution_count": 39,
   "metadata": {},
   "outputs": [],
   "source": [
    "no_extreme_interval_outliers = no_extreme_outliers[no_extreme_outliers.time_interval < no_extreme_outliers.time_interval.quantile(0.99995)]"
   ]
  },
  {
   "cell_type": "code",
   "execution_count": 40,
   "metadata": {},
   "outputs": [
    {
     "data": {
      "text/plain": [
       "0.9999495227424788"
      ]
     },
     "execution_count": 40,
     "metadata": {},
     "output_type": "execute_result"
    }
   ],
   "source": [
    "no_extreme_interval_outliers.shape[0] / no_extreme_outliers.shape[0]"
   ]
  },
  {
   "cell_type": "code",
   "execution_count": 41,
   "metadata": {},
   "outputs": [
    {
     "data": {
      "text/plain": [
       "Text(0.5, 1.0, 'Raw')"
      ]
     },
     "execution_count": 41,
     "metadata": {},
     "output_type": "execute_result"
    },
    {
     "data": {
      "image/png": "[encoded data removed]",
      "text/plain": [
       "<Figure size 432x288 with 1 Axes>"
      ]
     },
     "metadata": {
      "needs_background": "light"
     },
     "output_type": "display_data"
    }
   ],
   "source": [
    "interval_in_hours = no_extreme_interval_outliers.time_interval.dt.total_seconds() / 3600\n",
    "\n",
    "plt.scatter(interval_in_hours, no_extreme_interval_outliers.entries_since_last_record, alpha=0.1)\n",
    "plt.xlabel('Hours in the interval')\n",
    "plt.ylabel('Number of Entries')\n",
    "plt.title('Raw')"
   ]
  },
  {
   "cell_type": "code",
   "execution_count": 42,
   "metadata": {},
   "outputs": [
    {
     "data": {
      "text/plain": [
       "0.005884176190733892"
      ]
     },
     "execution_count": 42,
     "metadata": {},
     "output_type": "execute_result"
    }
   ],
   "source": [
    "# Status - the percent we've removed thus far\n",
    "1 - (no_extreme_interval_outliers.shape[0] / mta_data.shape[0])"
   ]
  },
  {
   "cell_type": "markdown",
   "metadata": {},
   "source": [
    "## 2.10 Investigate Negatives"
   ]
  },
  {
   "cell_type": "code",
   "execution_count": 43,
   "metadata": {},
   "outputs": [
    {
     "name": "stderr",
     "output_type": "stream",
     "text": [
      "/Applications/anaconda3/envs/metis/lib/python3.7/site-packages/ipykernel_launcher.py:1: SettingWithCopyWarning: \n",
      "A value is trying to be set on a copy of a slice from a DataFrame.\n",
      "Try using .loc[row_indexer,col_indexer] = value instead\n",
      "\n",
      "See the caveats in the documentation: http://pandas.pydata.org/pandas-docs/stable/user_guide/indexing.html#returning-a-view-versus-a-copy\n",
      "  \"\"\"Entry point for launching an IPython kernel.\n"
     ]
    }
   ],
   "source": [
    "no_extreme_interval_outliers['always_decreasing'] = no_extreme_interval_outliers.groupby(['C/A', 'UNIT', 'SCP', 'STATION']).transform(lambda s: s.is_monotonic_decreasing)['ENTRIES']\n"
   ]
  },
  {
   "cell_type": "code",
   "execution_count": 44,
   "metadata": {},
   "outputs": [],
   "source": [
    "always_decreasing = no_extreme_interval_outliers[\n",
    "    (no_extreme_interval_outliers.entries_since_last_record < 0) &\n",
    "    no_extreme_interval_outliers.always_decreasing &\n",
    "    no_extreme_interval_outliers.unit_mean != 0\n",
    "]"
   ]
  },
  {
   "cell_type": "code",
   "execution_count": 45,
   "metadata": {},
   "outputs": [
    {
     "data": {
      "text/html": [
       "<div>\n",
       "<style scoped>\n",
       "    .dataframe tbody tr th:only-of-type {\n",
       "        vertical-align: middle;\n",
       "    }\n",
       "\n",
       "    .dataframe tbody tr th {\n",
       "        vertical-align: top;\n",
       "    }\n",
       "\n",
       "    .dataframe thead th {\n",
       "        text-align: right;\n",
       "    }\n",
       "</style>\n",
       "<table border=\"1\" class=\"dataframe\">\n",
       "  <thead>\n",
       "    <tr style=\"text-align: right;\">\n",
       "      <th></th>\n",
       "      <th>ENTRIES</th>\n",
       "      <th>entries_since_last_record</th>\n",
       "      <th>time_interval</th>\n",
       "      <th>unit_mean</th>\n",
       "      <th>unit_std</th>\n",
       "      <th>deviations</th>\n",
       "    </tr>\n",
       "  </thead>\n",
       "  <tbody>\n",
       "    <tr>\n",
       "      <th>count</th>\n",
       "      <td>8607.000</td>\n",
       "      <td>8607.000</td>\n",
       "      <td>8607</td>\n",
       "      <td>8607.000</td>\n",
       "      <td>8607.000</td>\n",
       "      <td>8607.000</td>\n",
       "    </tr>\n",
       "    <tr>\n",
       "      <th>mean</th>\n",
       "      <td>1198984225.002</td>\n",
       "      <td>-294.060</td>\n",
       "      <td>0 days 03:57:03.137911</td>\n",
       "      <td>-290.659</td>\n",
       "      <td>269.349</td>\n",
       "      <td>-0.031</td>\n",
       "    </tr>\n",
       "    <tr>\n",
       "      <th>std</th>\n",
       "      <td>661311811.510</td>\n",
       "      <td>331.913</td>\n",
       "      <td>0 days 00:29:02.202133</td>\n",
       "      <td>156.279</td>\n",
       "      <td>140.238</td>\n",
       "      <td>0.996</td>\n",
       "    </tr>\n",
       "    <tr>\n",
       "      <th>min</th>\n",
       "      <td>8695.000</td>\n",
       "      <td>-2092.000</td>\n",
       "      <td>0 days 00:00:56</td>\n",
       "      <td>-660.356</td>\n",
       "      <td>0.591</td>\n",
       "      <td>-4.530</td>\n",
       "    </tr>\n",
       "    <tr>\n",
       "      <th>0.01%</th>\n",
       "      <td>8976.416</td>\n",
       "      <td>-2082.533</td>\n",
       "      <td>0 days 00:01:14.933200</td>\n",
       "      <td>-660.356</td>\n",
       "      <td>0.591</td>\n",
       "      <td>-4.530</td>\n",
       "    </tr>\n",
       "    <tr>\n",
       "      <th>0.1%</th>\n",
       "      <td>10617.356</td>\n",
       "      <td>-1884.970</td>\n",
       "      <td>0 days 00:01:20</td>\n",
       "      <td>-660.356</td>\n",
       "      <td>0.591</td>\n",
       "      <td>-3.487</td>\n",
       "    </tr>\n",
       "    <tr>\n",
       "      <th>1%</th>\n",
       "      <td>25203.800</td>\n",
       "      <td>-1537.940</td>\n",
       "      <td>0 days 00:31:36.320000</td>\n",
       "      <td>-660.356</td>\n",
       "      <td>43.866</td>\n",
       "      <td>-2.711</td>\n",
       "    </tr>\n",
       "    <tr>\n",
       "      <th>10%</th>\n",
       "      <td>98304563.000</td>\n",
       "      <td>-715.400</td>\n",
       "      <td>0 days 04:00:00</td>\n",
       "      <td>-549.857</td>\n",
       "      <td>83.564</td>\n",
       "      <td>-1.566</td>\n",
       "    </tr>\n",
       "    <tr>\n",
       "      <th>50%</th>\n",
       "      <td>1291172679.000</td>\n",
       "      <td>-186.000</td>\n",
       "      <td>0 days 04:00:00</td>\n",
       "      <td>-279.582</td>\n",
       "      <td>262.773</td>\n",
       "      <td>0.218</td>\n",
       "    </tr>\n",
       "    <tr>\n",
       "      <th>90%</th>\n",
       "      <td>1942995409.400</td>\n",
       "      <td>-14.000</td>\n",
       "      <td>0 days 04:00:00</td>\n",
       "      <td>-84.701</td>\n",
       "      <td>492.438</td>\n",
       "      <td>1.007</td>\n",
       "    </tr>\n",
       "    <tr>\n",
       "      <th>99%</th>\n",
       "      <td>2129433747.740</td>\n",
       "      <td>-1.000</td>\n",
       "      <td>0 days 04:00:00</td>\n",
       "      <td>-44.519</td>\n",
       "      <td>553.630</td>\n",
       "      <td>1.298</td>\n",
       "    </tr>\n",
       "    <tr>\n",
       "      <th>99.9%</th>\n",
       "      <td>2129457452.738</td>\n",
       "      <td>-1.000</td>\n",
       "      <td>0 days 08:00:00</td>\n",
       "      <td>-0.321</td>\n",
       "      <td>553.630</td>\n",
       "      <td>1.448</td>\n",
       "    </tr>\n",
       "    <tr>\n",
       "      <th>99.99%</th>\n",
       "      <td>2129458655.764</td>\n",
       "      <td>-1.000</td>\n",
       "      <td>0 days 08:33:27.360000</td>\n",
       "      <td>-0.321</td>\n",
       "      <td>553.630</td>\n",
       "      <td>1.460</td>\n",
       "    </tr>\n",
       "    <tr>\n",
       "      <th>max</th>\n",
       "      <td>2129458679.000</td>\n",
       "      <td>-1.000</td>\n",
       "      <td>0 days 12:00:00</td>\n",
       "      <td>-0.321</td>\n",
       "      <td>553.630</td>\n",
       "      <td>1.464</td>\n",
       "    </tr>\n",
       "  </tbody>\n",
       "</table>\n",
       "</div>"
      ],
      "text/plain": [
       "              ENTRIES  entries_since_last_record           time_interval  \\\n",
       "count        8607.000                   8607.000                    8607   \n",
       "mean   1198984225.002                   -294.060  0 days 03:57:03.137911   \n",
       "std     661311811.510                    331.913  0 days 00:29:02.202133   \n",
       "min          8695.000                  -2092.000         0 days 00:00:56   \n",
       "0.01%        8976.416                  -2082.533  0 days 00:01:14.933200   \n",
       "0.1%        10617.356                  -1884.970         0 days 00:01:20   \n",
       "1%          25203.800                  -1537.940  0 days 00:31:36.320000   \n",
       "10%      98304563.000                   -715.400         0 days 04:00:00   \n",
       "50%    1291172679.000                   -186.000         0 days 04:00:00   \n",
       "90%    1942995409.400                    -14.000         0 days 04:00:00   \n",
       "99%    2129433747.740                     -1.000         0 days 04:00:00   \n",
       "99.9%  2129457452.738                     -1.000         0 days 08:00:00   \n",
       "99.99% 2129458655.764                     -1.000  0 days 08:33:27.360000   \n",
       "max    2129458679.000                     -1.000         0 days 12:00:00   \n",
       "\n",
       "        unit_mean  unit_std  deviations  \n",
       "count    8607.000  8607.000    8607.000  \n",
       "mean     -290.659   269.349      -0.031  \n",
       "std       156.279   140.238       0.996  \n",
       "min      -660.356     0.591      -4.530  \n",
       "0.01%    -660.356     0.591      -4.530  \n",
       "0.1%     -660.356     0.591      -3.487  \n",
       "1%       -660.356    43.866      -2.711  \n",
       "10%      -549.857    83.564      -1.566  \n",
       "50%      -279.582   262.773       0.218  \n",
       "90%       -84.701   492.438       1.007  \n",
       "99%       -44.519   553.630       1.298  \n",
       "99.9%      -0.321   553.630       1.448  \n",
       "99.99%     -0.321   553.630       1.460  \n",
       "max        -0.321   553.630       1.464  "
      ]
     },
     "execution_count": 45,
     "metadata": {},
     "output_type": "execute_result"
    }
   ],
   "source": [
    "always_decreasing.describe([0.0001, 0.001, 0.01, 0.1, 0.9, 0.99, 0.999, 0.9999])"
   ]
  },
  {
   "cell_type": "code",
   "execution_count": 46,
   "metadata": {},
   "outputs": [
    {
     "data": {
      "text/plain": [
       "Text(0.5, 1.0, 'Raw')"
      ]
     },
     "execution_count": 46,
     "metadata": {},
     "output_type": "execute_result"
    },
    {
     "data": {
      "image/png": "[encoded data removed]",
      "text/plain": [
       "<Figure size 432x288 with 1 Axes>"
      ]
     },
     "metadata": {
      "needs_background": "light"
     },
     "output_type": "display_data"
    }
   ],
   "source": [
    "interval_in_hours = always_decreasing.time_interval.dt.total_seconds() / 3600\n",
    "\n",
    "plt.scatter(interval_in_hours, always_decreasing.entries_since_last_record, alpha=0.1)\n",
    "plt.xlabel('Hours in the interval')\n",
    "plt.ylabel('Number of Entries')\n",
    "plt.title('Raw')"
   ]
  },
  {
   "cell_type": "code",
   "execution_count": 47,
   "metadata": {},
   "outputs": [
    {
     "data": {
      "text/plain": [
       "0.9518911745189117"
      ]
     },
     "execution_count": 47,
     "metadata": {},
     "output_type": "execute_result"
    }
   ],
   "source": [
    "always_decreasing.shape[0] / no_extreme_interval_outliers[no_extreme_interval_outliers.entries_since_last_record < 0].shape[0]"
   ]
  },
  {
   "cell_type": "markdown",
   "metadata": {},
   "source": [
    "95% of negative values are in turnstiles that are always decreasing"
   ]
  },
  {
   "cell_type": "markdown",
   "metadata": {},
   "source": [
    "## 2.11 Flip Reasonable Negatives"
   ]
  },
  {
   "cell_type": "code",
   "execution_count": 48,
   "metadata": {},
   "outputs": [],
   "source": [
    "copy = no_extreme_interval_outliers.copy()"
   ]
  },
  {
   "cell_type": "code",
   "execution_count": 49,
   "metadata": {},
   "outputs": [
    {
     "data": {
      "text/plain": [
       "-1537.94"
      ]
     },
     "execution_count": 49,
     "metadata": {},
     "output_type": "execute_result"
    }
   ],
   "source": [
    "always_decreasing.entries_since_last_record.quantile(0.01)"
   ]
  },
  {
   "cell_type": "code",
   "execution_count": 50,
   "metadata": {},
   "outputs": [],
   "source": [
    "copy['corrected_entries_since_last_record'] = np.where(\n",
    "    (\n",
    "        (copy.entries_since_last_record < 0) &\n",
    "        copy.always_decreasing &\n",
    "        copy.unit_mean != 0 &\n",
    "        (copy.entries_since_last_record > always_decreasing.entries_since_last_record.quantile(0.01))\n",
    "    ),\n",
    "    np.abs(copy.entries_since_last_record),\n",
    "    copy.entries_since_last_record\n",
    ")"
   ]
  },
  {
   "cell_type": "markdown",
   "metadata": {},
   "source": [
    "## 2.12 Drop Remaining Negatives"
   ]
  },
  {
   "cell_type": "code",
   "execution_count": 51,
   "metadata": {},
   "outputs": [],
   "source": [
    "cleaned = copy[copy.corrected_entries_since_last_record >= 0]"
   ]
  },
  {
   "cell_type": "code",
   "execution_count": 52,
   "metadata": {},
   "outputs": [
    {
     "data": {
      "text/plain": [
       "0.9936877942703081"
      ]
     },
     "execution_count": 52,
     "metadata": {},
     "output_type": "execute_result"
    }
   ],
   "source": [
    "cleaned.shape[0] / mta_data.shape[0]"
   ]
  },
  {
   "cell_type": "markdown",
   "metadata": {},
   "source": [
    "We removed 0.7% of the data"
   ]
  },
  {
   "cell_type": "code",
   "execution_count": 53,
   "metadata": {},
   "outputs": [
    {
     "data": {
      "text/plain": [
       "Text(0.5, 1.0, 'Cleaned')"
      ]
     },
     "execution_count": 53,
     "metadata": {},
     "output_type": "execute_result"
    },
    {
     "data": {
      "image/png": "[encoded data removed]",
      "text/plain": [
       "<Figure size 432x288 with 1 Axes>"
      ]
     },
     "metadata": {
      "needs_background": "light"
     },
     "output_type": "display_data"
    }
   ],
   "source": [
    "interval_in_hours = cleaned.time_interval.dt.total_seconds() / 3600\n",
    "\n",
    "plt.scatter(interval_in_hours, cleaned.corrected_entries_since_last_record, alpha=0.1)\n",
    "plt.xlabel('Hours in the interval')\n",
    "plt.ylabel('Number of Entries')\n",
    "plt.title('Cleaned')"
   ]
  },
  {
   "cell_type": "markdown",
   "metadata": {},
   "source": [
    "## 2.13 Select Relevant Columns"
   ]
  },
  {
   "cell_type": "code",
   "execution_count": 54,
   "metadata": {},
   "outputs": [],
   "source": [
    "relevant = cleaned[['C/A', 'UNIT', 'SCP', 'STATION', 'DATE', 'TIME', 'datetime', 'corrected_entries_since_last_record', 'time_interval']]\n",
    "                   "
   ]
  },
  {
   "cell_type": "code",
   "execution_count": 55,
   "metadata": {},
   "outputs": [],
   "source": [
    "relevant = relevant.rename(columns={'corrected_entries_since_last_record': 'entries'})"
   ]
  },
  {
   "cell_type": "code",
   "execution_count": 56,
   "metadata": {},
   "outputs": [
    {
     "name": "stdout",
     "output_type": "stream",
     "text": [
      "<class 'pandas.core.frame.DataFrame'>\n",
      "Int64Index: 1009870 entries, 1 to 204594\n",
      "Data columns (total 9 columns):\n",
      "C/A              1009870 non-null object\n",
      "UNIT             1009870 non-null object\n",
      "SCP              1009870 non-null object\n",
      "STATION          1009870 non-null object\n",
      "DATE             1009870 non-null datetime64[ns]\n",
      "TIME             1009870 non-null object\n",
      "datetime         1009870 non-null datetime64[ns]\n",
      "entries          1009870 non-null float64\n",
      "time_interval    1009870 non-null timedelta64[ns]\n",
      "dtypes: datetime64[ns](2), float64(1), object(5), timedelta64[ns](1)\n",
      "memory usage: 77.0+ MB\n"
     ]
    }
   ],
   "source": [
    "relevant.info()"
   ]
  },
  {
   "cell_type": "code",
   "execution_count": 57,
   "metadata": {},
   "outputs": [
    {
     "data": {
      "text/html": [
       "<div>\n",
       "<style scoped>\n",
       "    .dataframe tbody tr th:only-of-type {\n",
       "        vertical-align: middle;\n",
       "    }\n",
       "\n",
       "    .dataframe tbody tr th {\n",
       "        vertical-align: top;\n",
       "    }\n",
       "\n",
       "    .dataframe thead th {\n",
       "        text-align: right;\n",
       "    }\n",
       "</style>\n",
       "<table border=\"1\" class=\"dataframe\">\n",
       "  <thead>\n",
       "    <tr style=\"text-align: right;\">\n",
       "      <th></th>\n",
       "      <th>C/A</th>\n",
       "      <th>UNIT</th>\n",
       "      <th>SCP</th>\n",
       "      <th>STATION</th>\n",
       "      <th>DATE</th>\n",
       "      <th>TIME</th>\n",
       "      <th>datetime</th>\n",
       "      <th>entries</th>\n",
       "      <th>time_interval</th>\n",
       "    </tr>\n",
       "  </thead>\n",
       "  <tbody>\n",
       "    <tr>\n",
       "      <th>1</th>\n",
       "      <td>A002</td>\n",
       "      <td>R051</td>\n",
       "      <td>02-00-00</td>\n",
       "      <td>59 ST</td>\n",
       "      <td>2019-02-23</td>\n",
       "      <td>07:00:00</td>\n",
       "      <td>2019-02-23 07:00:00</td>\n",
       "      <td>11.000</td>\n",
       "      <td>04:00:00</td>\n",
       "    </tr>\n",
       "    <tr>\n",
       "      <th>2</th>\n",
       "      <td>A002</td>\n",
       "      <td>R051</td>\n",
       "      <td>02-00-00</td>\n",
       "      <td>59 ST</td>\n",
       "      <td>2019-02-23</td>\n",
       "      <td>11:00:00</td>\n",
       "      <td>2019-02-23 11:00:00</td>\n",
       "      <td>60.000</td>\n",
       "      <td>04:00:00</td>\n",
       "    </tr>\n",
       "    <tr>\n",
       "      <th>3</th>\n",
       "      <td>A002</td>\n",
       "      <td>R051</td>\n",
       "      <td>02-00-00</td>\n",
       "      <td>59 ST</td>\n",
       "      <td>2019-02-23</td>\n",
       "      <td>15:00:00</td>\n",
       "      <td>2019-02-23 15:00:00</td>\n",
       "      <td>160.000</td>\n",
       "      <td>04:00:00</td>\n",
       "    </tr>\n",
       "    <tr>\n",
       "      <th>4</th>\n",
       "      <td>A002</td>\n",
       "      <td>R051</td>\n",
       "      <td>02-00-00</td>\n",
       "      <td>59 ST</td>\n",
       "      <td>2019-02-23</td>\n",
       "      <td>19:00:00</td>\n",
       "      <td>2019-02-23 19:00:00</td>\n",
       "      <td>290.000</td>\n",
       "      <td>04:00:00</td>\n",
       "    </tr>\n",
       "    <tr>\n",
       "      <th>5</th>\n",
       "      <td>A002</td>\n",
       "      <td>R051</td>\n",
       "      <td>02-00-00</td>\n",
       "      <td>59 ST</td>\n",
       "      <td>2019-02-23</td>\n",
       "      <td>23:00:00</td>\n",
       "      <td>2019-02-23 23:00:00</td>\n",
       "      <td>143.000</td>\n",
       "      <td>04:00:00</td>\n",
       "    </tr>\n",
       "  </tbody>\n",
       "</table>\n",
       "</div>"
      ],
      "text/plain": [
       "    C/A  UNIT       SCP STATION       DATE      TIME            datetime  \\\n",
       "1  A002  R051  02-00-00   59 ST 2019-02-23  07:00:00 2019-02-23 07:00:00   \n",
       "2  A002  R051  02-00-00   59 ST 2019-02-23  11:00:00 2019-02-23 11:00:00   \n",
       "3  A002  R051  02-00-00   59 ST 2019-02-23  15:00:00 2019-02-23 15:00:00   \n",
       "4  A002  R051  02-00-00   59 ST 2019-02-23  19:00:00 2019-02-23 19:00:00   \n",
       "5  A002  R051  02-00-00   59 ST 2019-02-23  23:00:00 2019-02-23 23:00:00   \n",
       "\n",
       "   entries time_interval  \n",
       "1   11.000      04:00:00  \n",
       "2   60.000      04:00:00  \n",
       "3  160.000      04:00:00  \n",
       "4  290.000      04:00:00  \n",
       "5  143.000      04:00:00  "
      ]
     },
     "execution_count": 57,
     "metadata": {},
     "output_type": "execute_result"
    }
   ],
   "source": [
    "relevant.head()"
   ]
  },
  {
   "cell_type": "markdown",
   "metadata": {},
   "source": [
    "# 3. Store Data"
   ]
  },
  {
   "cell_type": "code",
   "execution_count": 58,
   "metadata": {},
   "outputs": [],
   "source": [
    "with open('cleaned_mta_data_march.pickle', 'wb') as write_file:\n",
    "    pickle.dump(relevant, write_file)"
   ]
  },
  {
   "cell_type": "markdown",
   "metadata": {},
   "source": [
    "# 4. Adjust Intervals That Cross Days"
   ]
  },
  {
   "cell_type": "markdown",
   "metadata": {},
   "source": [
    "## 4.1 Explore Intervals "
   ]
  },
  {
   "cell_type": "code",
   "execution_count": 59,
   "metadata": {},
   "outputs": [
    {
     "data": {
      "text/plain": [
       "04:00:00    76541\n",
       "08:00:00    76492\n",
       "20:00:00    76428\n",
       "16:00:00    76403\n",
       "12:00:00    76385\n",
       "00:00:00    73916\n",
       "11:00:00    37790\n",
       "07:00:00    37784\n",
       "23:00:00    37764\n",
       "15:00:00    37737\n",
       "19:00:00    37703\n",
       "09:00:00    37650\n",
       "05:00:00    37650\n",
       "21:00:00    37610\n",
       "17:00:00    37605\n",
       "13:00:00    37573\n",
       "01:00:00    35824\n",
       "03:00:00    35308\n",
       "14:00:00     2820\n",
       "10:00:00     2817\n",
       "Name: TIME, dtype: int64"
      ]
     },
     "execution_count": 59,
     "metadata": {},
     "output_type": "execute_result"
    }
   ],
   "source": [
    "counts = relevant.TIME.value_counts()\n",
    "counts.head(20)"
   ]
  },
  {
   "cell_type": "code",
   "execution_count": 60,
   "metadata": {},
   "outputs": [
    {
     "data": {
      "text/plain": [
       "datetime.time(7, 0)"
      ]
     },
     "execution_count": 60,
     "metadata": {},
     "output_type": "execute_result"
    }
   ],
   "source": [
    "relevant.iloc[0].TIME"
   ]
  },
  {
   "cell_type": "code",
   "execution_count": 61,
   "metadata": {},
   "outputs": [
    {
     "ename": "NameError",
     "evalue": "name 'datetime' is not defined",
     "output_type": "error",
     "traceback": [
      "\u001b[0;31m---------------------------------------------------------------------------\u001b[0m",
      "\u001b[0;31mNameError\u001b[0m                                 Traceback (most recent call last)",
      "\u001b[0;32m<ipython-input-61-b0fab1046a0f>\u001b[0m in \u001b[0;36m<module>\u001b[0;34m\u001b[0m\n\u001b[0;32m----> 1\u001b[0;31m \u001b[0mrelevant\u001b[0m\u001b[0;34m[\u001b[0m\u001b[0mrelevant\u001b[0m\u001b[0;34m.\u001b[0m\u001b[0mTIME\u001b[0m \u001b[0;34m==\u001b[0m \u001b[0mdatetime\u001b[0m\u001b[0;34m.\u001b[0m\u001b[0mtime\u001b[0m\u001b[0;34m(\u001b[0m\u001b[0;36m0\u001b[0m\u001b[0;34m,\u001b[0m \u001b[0;36m0\u001b[0m\u001b[0;34m)\u001b[0m\u001b[0;34m]\u001b[0m\u001b[0;34m\u001b[0m\u001b[0;34m\u001b[0m\u001b[0m\n\u001b[0m",
      "\u001b[0;31mNameError\u001b[0m: name 'datetime' is not defined"
     ]
    }
   ],
   "source": [
    "relevant[relevant.TIME == datetime.time(0, 0)]"
   ]
  },
  {
   "cell_type": "code",
   "execution_count": 62,
   "metadata": {},
   "outputs": [],
   "source": [
    "import datetime\n",
    "\n",
    "d1 = pd.to_datetime('1/2/2019 03:00')\n",
    "d2 = d1 - pd.Timedelta('4 hours')"
   ]
  },
  {
   "cell_type": "code",
   "execution_count": 63,
   "metadata": {},
   "outputs": [
    {
     "data": {
      "text/plain": [
       "2"
      ]
     },
     "execution_count": 63,
     "metadata": {},
     "output_type": "execute_result"
    }
   ],
   "source": [
    "d1.day"
   ]
  },
  {
   "cell_type": "code",
   "execution_count": 64,
   "metadata": {},
   "outputs": [
    {
     "data": {
      "text/plain": [
       "1"
      ]
     },
     "execution_count": 64,
     "metadata": {},
     "output_type": "execute_result"
    }
   ],
   "source": [
    "d2.day"
   ]
  },
  {
   "cell_type": "code",
   "execution_count": 65,
   "metadata": {},
   "outputs": [
    {
     "data": {
      "text/plain": [
       "4.0"
      ]
     },
     "execution_count": 65,
     "metadata": {},
     "output_type": "execute_result"
    }
   ],
   "source": [
    "td = pd.Timedelta('4 hours')\n",
    "td.total_seconds() / 3600"
   ]
  },
  {
   "cell_type": "code",
   "execution_count": 66,
   "metadata": {},
   "outputs": [
    {
     "data": {
      "text/plain": [
       "3"
      ]
     },
     "execution_count": 66,
     "metadata": {},
     "output_type": "execute_result"
    }
   ],
   "source": [
    "pd.to_datetime('1/2/2019 03:00').hour"
   ]
  },
  {
   "cell_type": "code",
   "execution_count": 67,
   "metadata": {},
   "outputs": [
    {
     "data": {
      "text/plain": [
       "0.16440333904363927"
      ]
     },
     "execution_count": 67,
     "metadata": {},
     "output_type": "execute_result"
    }
   ],
   "source": [
    "more_than_one_day = relevant[relevant.datetime.dt.hour < (relevant.time_interval.dt.total_seconds() / 3600)]\n",
    "\n",
    "more_than_one_day.shape[0] / relevant.shape[0]"
   ]
  },
  {
   "cell_type": "markdown",
   "metadata": {},
   "source": [
    "16% of the records are overlapping a day"
   ]
  },
  {
   "cell_type": "code",
   "execution_count": 68,
   "metadata": {},
   "outputs": [
    {
     "data": {
      "text/plain": [
       "0.44520737715779457"
      ]
     },
     "execution_count": 68,
     "metadata": {},
     "output_type": "execute_result"
    }
   ],
   "source": [
    "and_at_midnight = more_than_one_day[more_than_one_day.TIME == datetime.time(0, 0)]\n",
    "and_at_midnight.shape[0] / more_than_one_day.shape[0]"
   ]
  },
  {
   "cell_type": "markdown",
   "metadata": {},
   "source": [
    "Of that 16%, almost half of them are at midnight"
   ]
  },
  {
   "cell_type": "code",
   "execution_count": 69,
   "metadata": {},
   "outputs": [
    {
     "data": {
      "text/plain": [
       "0.0028716567478982444"
      ]
     },
     "execution_count": 69,
     "metadata": {},
     "output_type": "execute_result"
    }
   ],
   "source": [
    "(relevant[relevant.time_interval.dt.total_seconds() >= (24 * 3600)].shape[0] / relevant.shape[0]) * 100"
   ]
  },
  {
   "cell_type": "markdown",
   "metadata": {},
   "source": [
    "Less than 0.001% of the records are larger than 1 day. Perhaps remove"
   ]
  },
  {
   "cell_type": "markdown",
   "metadata": {},
   "source": [
    "Plan Below:"
   ]
  },
  {
   "cell_type": "code",
   "execution_count": 368,
   "metadata": {},
   "outputs": [],
   "source": [
    "# remove records with intervals >= 24 hours\n",
    "# add a starting datetime field\n",
    "    # start_datetime = datetime - time_interval\n",
    "    # rename datetime -> 'end_datetime'\n",
    "# drop DATE, TIME\n",
    "# replace all datetime values of 00:00 with 23:59 of the prev day\n",
    " \n",
    "# if starting_datetime and end_datetime are on different days\n",
    "    # insert tomorrow's record:\n",
    "        # station values: same\n",
    "        # start_datetime: 00:00\n",
    "        # end_datetime: end_datetime from record\n",
    "        # entries: proportional\n",
    "        # time_interval: end_datetime - start_datetime\n",
    "    # ajust values:\n",
    "        # entries: proportion of interval on the starting day\n",
    "        # end_datetime: 23:59\n",
    "        # time_interval: end_datetime - start_datetime\n",
    "        "
   ]
  },
  {
   "cell_type": "markdown",
   "metadata": {},
   "source": [
    "## 4.2 Clean Datetime Fields"
   ]
  },
  {
   "cell_type": "code",
   "execution_count": 70,
   "metadata": {},
   "outputs": [],
   "source": [
    "less_than_24 = relevant[relevant.time_interval < pd.Timedelta('24 hours')].copy()"
   ]
  },
  {
   "cell_type": "code",
   "execution_count": 71,
   "metadata": {},
   "outputs": [],
   "source": [
    "less_than_24['start_datetime'] = less_than_24.datetime - less_than_24.time_interval"
   ]
  },
  {
   "cell_type": "code",
   "execution_count": 72,
   "metadata": {},
   "outputs": [],
   "source": [
    "less_than_24 = less_than_24.rename(columns={ 'datetime': 'end_datetime'})"
   ]
  },
  {
   "cell_type": "code",
   "execution_count": 73,
   "metadata": {},
   "outputs": [],
   "source": [
    "less_than_24 = less_than_24.drop(columns=['DATE', 'TIME'])"
   ]
  },
  {
   "cell_type": "code",
   "execution_count": 74,
   "metadata": {},
   "outputs": [],
   "source": [
    "less_than_24['end_datetime'] = np.where(\n",
    "    less_than_24.end_datetime.dt.hour == 0,\n",
    "    less_than_24.end_datetime - pd.Timedelta('1 second'),\n",
    "    less_than_24.end_datetime\n",
    ")"
   ]
  },
  {
   "cell_type": "markdown",
   "metadata": {},
   "source": [
    "## 4.3 Split Entries That Overlap Days"
   ]
  },
  {
   "cell_type": "markdown",
   "metadata": {},
   "source": [
    "### 4.3.1 Append Records for Next Day's Entries"
   ]
  },
  {
   "cell_type": "code",
   "execution_count": 75,
   "metadata": {},
   "outputs": [
    {
     "data": {
      "text/html": [
       "<div>\n",
       "<style scoped>\n",
       "    .dataframe tbody tr th:only-of-type {\n",
       "        vertical-align: middle;\n",
       "    }\n",
       "\n",
       "    .dataframe tbody tr th {\n",
       "        vertical-align: top;\n",
       "    }\n",
       "\n",
       "    .dataframe thead th {\n",
       "        text-align: right;\n",
       "    }\n",
       "</style>\n",
       "<table border=\"1\" class=\"dataframe\">\n",
       "  <thead>\n",
       "    <tr style=\"text-align: right;\">\n",
       "      <th></th>\n",
       "      <th>C/A</th>\n",
       "      <th>UNIT</th>\n",
       "      <th>SCP</th>\n",
       "      <th>STATION</th>\n",
       "      <th>end_datetime</th>\n",
       "      <th>entries</th>\n",
       "      <th>time_interval</th>\n",
       "      <th>start_datetime</th>\n",
       "    </tr>\n",
       "  </thead>\n",
       "  <tbody>\n",
       "    <tr>\n",
       "      <th>1</th>\n",
       "      <td>A002</td>\n",
       "      <td>R051</td>\n",
       "      <td>02-00-00</td>\n",
       "      <td>59 ST</td>\n",
       "      <td>2019-02-23 07:00:00</td>\n",
       "      <td>11.000</td>\n",
       "      <td>04:00:00</td>\n",
       "      <td>2019-02-23 03:00:00</td>\n",
       "    </tr>\n",
       "    <tr>\n",
       "      <th>2</th>\n",
       "      <td>A002</td>\n",
       "      <td>R051</td>\n",
       "      <td>02-00-00</td>\n",
       "      <td>59 ST</td>\n",
       "      <td>2019-02-23 11:00:00</td>\n",
       "      <td>60.000</td>\n",
       "      <td>04:00:00</td>\n",
       "      <td>2019-02-23 07:00:00</td>\n",
       "    </tr>\n",
       "    <tr>\n",
       "      <th>3</th>\n",
       "      <td>A002</td>\n",
       "      <td>R051</td>\n",
       "      <td>02-00-00</td>\n",
       "      <td>59 ST</td>\n",
       "      <td>2019-02-23 15:00:00</td>\n",
       "      <td>160.000</td>\n",
       "      <td>04:00:00</td>\n",
       "      <td>2019-02-23 11:00:00</td>\n",
       "    </tr>\n",
       "    <tr>\n",
       "      <th>4</th>\n",
       "      <td>A002</td>\n",
       "      <td>R051</td>\n",
       "      <td>02-00-00</td>\n",
       "      <td>59 ST</td>\n",
       "      <td>2019-02-23 19:00:00</td>\n",
       "      <td>290.000</td>\n",
       "      <td>04:00:00</td>\n",
       "      <td>2019-02-23 15:00:00</td>\n",
       "    </tr>\n",
       "    <tr>\n",
       "      <th>5</th>\n",
       "      <td>A002</td>\n",
       "      <td>R051</td>\n",
       "      <td>02-00-00</td>\n",
       "      <td>59 ST</td>\n",
       "      <td>2019-02-23 23:00:00</td>\n",
       "      <td>143.000</td>\n",
       "      <td>04:00:00</td>\n",
       "      <td>2019-02-23 19:00:00</td>\n",
       "    </tr>\n",
       "  </tbody>\n",
       "</table>\n",
       "</div>"
      ],
      "text/plain": [
       "    C/A  UNIT       SCP STATION        end_datetime  entries time_interval  \\\n",
       "1  A002  R051  02-00-00   59 ST 2019-02-23 07:00:00   11.000      04:00:00   \n",
       "2  A002  R051  02-00-00   59 ST 2019-02-23 11:00:00   60.000      04:00:00   \n",
       "3  A002  R051  02-00-00   59 ST 2019-02-23 15:00:00  160.000      04:00:00   \n",
       "4  A002  R051  02-00-00   59 ST 2019-02-23 19:00:00  290.000      04:00:00   \n",
       "5  A002  R051  02-00-00   59 ST 2019-02-23 23:00:00  143.000      04:00:00   \n",
       "\n",
       "       start_datetime  \n",
       "1 2019-02-23 03:00:00  \n",
       "2 2019-02-23 07:00:00  \n",
       "3 2019-02-23 11:00:00  \n",
       "4 2019-02-23 15:00:00  \n",
       "5 2019-02-23 19:00:00  "
      ]
     },
     "execution_count": 75,
     "metadata": {},
     "output_type": "execute_result"
    }
   ],
   "source": [
    "less_than_24.head()"
   ]
  },
  {
   "cell_type": "code",
   "execution_count": 76,
   "metadata": {},
   "outputs": [],
   "source": [
    "def set_datetime_to_midnight(date):\n",
    "    return date.replace(hour=0, minute=0, second=0)"
   ]
  },
  {
   "cell_type": "code",
   "execution_count": 77,
   "metadata": {},
   "outputs": [],
   "source": [
    "new_records = less_than_24[less_than_24.start_datetime.dt.day != less_than_24.end_datetime.dt.day].copy()\n",
    "new_records['new_start_datetime'] = new_records.end_datetime.map(set_datetime_to_midnight)\n",
    "new_records['interval_on_that_day'] = new_records.end_datetime - new_records.new_start_datetime"
   ]
  },
  {
   "cell_type": "code",
   "execution_count": 78,
   "metadata": {},
   "outputs": [],
   "source": [
    "new_records['proportional_entries'] = new_records.entries * (new_records.interval_on_that_day / new_records.time_interval)"
   ]
  },
  {
   "cell_type": "code",
   "execution_count": 79,
   "metadata": {},
   "outputs": [],
   "source": [
    "new_records['entries'] = new_records['proportional_entries']\n",
    "new_records['time_interval'] = new_records['interval_on_that_day']\n",
    "new_records['start_datetime'] = new_records['new_start_datetime']\n",
    "records_to_add = new_records[['C/A','UNIT','SCP','STATION','end_datetime','entries','time_interval','start_datetime']]"
   ]
  },
  {
   "cell_type": "code",
   "execution_count": 80,
   "metadata": {},
   "outputs": [],
   "source": [
    "with_split = less_than_24.append(records_to_add)"
   ]
  },
  {
   "cell_type": "markdown",
   "metadata": {},
   "source": [
    "### 4.3.2 Reset Records With Only Today's Value"
   ]
  },
  {
   "cell_type": "code",
   "execution_count": 81,
   "metadata": {},
   "outputs": [],
   "source": [
    "with_split['new_end_datetime'] = np.where(\n",
    "    with_split.start_datetime.dt.day != with_split.end_datetime.dt.day,\n",
    "    with_split.end_datetime.map(lambda date: (date - pd.Timedelta('1 day')).replace(hour=23, minute=59, second=59)),\n",
    "    with_split.end_datetime\n",
    ")"
   ]
  },
  {
   "cell_type": "code",
   "execution_count": 82,
   "metadata": {},
   "outputs": [
    {
     "data": {
      "text/plain": [
       "array(['2019-02-23T23:59:59.000000000', '2019-02-24T23:59:59.000000000',\n",
       "       '2019-02-25T23:59:59.000000000', '2019-02-26T23:59:59.000000000',\n",
       "       '2019-02-27T23:59:59.000000000', '2019-02-28T23:59:59.000000000',\n",
       "       '2019-03-01T23:59:59.000000000', '2019-03-02T23:59:59.000000000',\n",
       "       '2019-03-03T23:59:59.000000000', '2019-03-04T23:59:59.000000000',\n",
       "       '2019-03-05T23:59:59.000000000', '2019-03-06T23:59:59.000000000',\n",
       "       '2019-03-07T23:59:59.000000000', '2019-03-08T23:59:59.000000000',\n",
       "       '2019-03-09T23:59:59.000000000', '2019-03-10T23:59:59.000000000',\n",
       "       '2019-03-11T23:59:59.000000000', '2019-03-12T23:59:59.000000000',\n",
       "       '2019-03-13T23:59:59.000000000', '2019-03-14T23:59:59.000000000',\n",
       "       '2019-03-15T23:59:59.000000000', '2019-03-16T23:59:59.000000000',\n",
       "       '2019-03-17T23:59:59.000000000', '2019-03-18T23:59:59.000000000',\n",
       "       '2019-03-19T23:59:59.000000000', '2019-03-20T23:59:59.000000000',\n",
       "       '2019-03-21T23:59:59.000000000', '2019-03-22T23:59:59.000000000',\n",
       "       '2019-03-23T23:59:59.000000000', '2019-03-24T23:59:59.000000000',\n",
       "       '2019-03-25T23:59:59.000000000', '2019-03-26T23:59:59.000000000',\n",
       "       '2019-03-27T23:59:59.000000000', '2019-03-28T23:59:59.000000000'],\n",
       "      dtype='datetime64[ns]')"
      ]
     },
     "execution_count": 82,
     "metadata": {},
     "output_type": "execute_result"
    }
   ],
   "source": [
    "with_split[with_split.end_datetime != with_split.new_end_datetime].new_end_datetime.unique()"
   ]
  },
  {
   "cell_type": "code",
   "execution_count": 83,
   "metadata": {},
   "outputs": [],
   "source": [
    "with_split['interval_on_that_day'] = with_split.new_end_datetime - with_split.start_datetime"
   ]
  },
  {
   "cell_type": "code",
   "execution_count": 84,
   "metadata": {},
   "outputs": [
    {
     "name": "stderr",
     "output_type": "stream",
     "text": [
      "/Applications/anaconda3/envs/metis/lib/python3.7/site-packages/pandas/core/arrays/timedeltas.py:597: RuntimeWarning: invalid value encountered in true_divide\n",
      "  return other / self._data\n"
     ]
    }
   ],
   "source": [
    "with_split['adjusted_entries'] = np.where(\n",
    "    with_split.start_datetime.dt.day != with_split.end_datetime.dt.day,\n",
    "    with_split.entries * (with_split.interval_on_that_day / with_split.time_interval),\n",
    "    with_split.entries\n",
    ")"
   ]
  },
  {
   "cell_type": "code",
   "execution_count": 85,
   "metadata": {},
   "outputs": [
    {
     "data": {
      "text/html": [
       "<div>\n",
       "<style scoped>\n",
       "    .dataframe tbody tr th:only-of-type {\n",
       "        vertical-align: middle;\n",
       "    }\n",
       "\n",
       "    .dataframe tbody tr th {\n",
       "        vertical-align: top;\n",
       "    }\n",
       "\n",
       "    .dataframe thead th {\n",
       "        text-align: right;\n",
       "    }\n",
       "</style>\n",
       "<table border=\"1\" class=\"dataframe\">\n",
       "  <thead>\n",
       "    <tr style=\"text-align: right;\">\n",
       "      <th></th>\n",
       "      <th>C/A</th>\n",
       "      <th>UNIT</th>\n",
       "      <th>SCP</th>\n",
       "      <th>STATION</th>\n",
       "      <th>end_datetime</th>\n",
       "      <th>entries</th>\n",
       "      <th>time_interval</th>\n",
       "      <th>start_datetime</th>\n",
       "      <th>new_end_datetime</th>\n",
       "      <th>interval_on_that_day</th>\n",
       "      <th>adjusted_entries</th>\n",
       "    </tr>\n",
       "  </thead>\n",
       "  <tbody>\n",
       "    <tr>\n",
       "      <th>107409</th>\n",
       "      <td>N557</td>\n",
       "      <td>R130</td>\n",
       "      <td>00-03-00</td>\n",
       "      <td>KINGS HWY</td>\n",
       "      <td>2019-03-28 01:00:00</td>\n",
       "      <td>18.000</td>\n",
       "      <td>04:00:00</td>\n",
       "      <td>2019-03-27 21:00:00</td>\n",
       "      <td>2019-03-27 23:59:59</td>\n",
       "      <td>02:59:59</td>\n",
       "      <td>13.499</td>\n",
       "    </tr>\n",
       "    <tr>\n",
       "      <th>59389</th>\n",
       "      <td>N095A</td>\n",
       "      <td>R014</td>\n",
       "      <td>01-03-03</td>\n",
       "      <td>FULTON ST</td>\n",
       "      <td>2019-03-13 01:00:00</td>\n",
       "      <td>130.000</td>\n",
       "      <td>04:00:00</td>\n",
       "      <td>2019-03-12 21:00:00</td>\n",
       "      <td>2019-03-12 23:59:59</td>\n",
       "      <td>02:59:59</td>\n",
       "      <td>97.491</td>\n",
       "    </tr>\n",
       "    <tr>\n",
       "      <th>189608</th>\n",
       "      <td>R534</td>\n",
       "      <td>R055</td>\n",
       "      <td>01-00-00</td>\n",
       "      <td>FLUSHING-MAIN</td>\n",
       "      <td>2019-02-26 03:00:00</td>\n",
       "      <td>1.000</td>\n",
       "      <td>04:00:00</td>\n",
       "      <td>2019-02-25 23:00:00</td>\n",
       "      <td>2019-02-25 23:59:59</td>\n",
       "      <td>00:59:59</td>\n",
       "      <td>0.250</td>\n",
       "    </tr>\n",
       "    <tr>\n",
       "      <th>185947</th>\n",
       "      <td>R525</td>\n",
       "      <td>R018</td>\n",
       "      <td>02-00-02</td>\n",
       "      <td>74 ST-BROADWAY</td>\n",
       "      <td>2019-03-08 03:00:00</td>\n",
       "      <td>53.000</td>\n",
       "      <td>04:00:00</td>\n",
       "      <td>2019-03-07 23:00:00</td>\n",
       "      <td>2019-03-07 23:59:59</td>\n",
       "      <td>00:59:59</td>\n",
       "      <td>13.246</td>\n",
       "    </tr>\n",
       "    <tr>\n",
       "      <th>117783</th>\n",
       "      <td>PTH07</td>\n",
       "      <td>R550</td>\n",
       "      <td>00-00-02</td>\n",
       "      <td>CITY / BUS</td>\n",
       "      <td>2019-02-28 00:02:46</td>\n",
       "      <td>7.000</td>\n",
       "      <td>04:12:00</td>\n",
       "      <td>2019-02-27 19:50:47</td>\n",
       "      <td>2019-02-27 23:59:59</td>\n",
       "      <td>04:09:12</td>\n",
       "      <td>6.922</td>\n",
       "    </tr>\n",
       "    <tr>\n",
       "      <th>9813</th>\n",
       "      <td>A053</td>\n",
       "      <td>R088</td>\n",
       "      <td>03-00-03</td>\n",
       "      <td>CORTLANDT ST</td>\n",
       "      <td>2019-03-13 01:00:00</td>\n",
       "      <td>25.000</td>\n",
       "      <td>04:00:00</td>\n",
       "      <td>2019-03-12 21:00:00</td>\n",
       "      <td>2019-03-12 23:59:59</td>\n",
       "      <td>02:59:59</td>\n",
       "      <td>18.748</td>\n",
       "    </tr>\n",
       "    <tr>\n",
       "      <th>24999</th>\n",
       "      <td>D005</td>\n",
       "      <td>R398</td>\n",
       "      <td>00-06-00</td>\n",
       "      <td>NEW UTRECHT AV</td>\n",
       "      <td>2019-03-14 01:00:00</td>\n",
       "      <td>42.000</td>\n",
       "      <td>04:00:00</td>\n",
       "      <td>2019-03-13 21:00:00</td>\n",
       "      <td>2019-03-13 23:59:59</td>\n",
       "      <td>02:59:59</td>\n",
       "      <td>31.497</td>\n",
       "    </tr>\n",
       "    <tr>\n",
       "      <th>35753</th>\n",
       "      <td>JFK01</td>\n",
       "      <td>R535</td>\n",
       "      <td>00-00-01</td>\n",
       "      <td>HOWARD BCH JFK</td>\n",
       "      <td>2019-03-22 01:00:00</td>\n",
       "      <td>4.000</td>\n",
       "      <td>04:00:00</td>\n",
       "      <td>2019-03-21 21:00:00</td>\n",
       "      <td>2019-03-21 23:59:59</td>\n",
       "      <td>02:59:59</td>\n",
       "      <td>3.000</td>\n",
       "    </tr>\n",
       "    <tr>\n",
       "      <th>67790</th>\n",
       "      <td>N182</td>\n",
       "      <td>R414</td>\n",
       "      <td>00-00-00</td>\n",
       "      <td>HOWARD BCH JFK</td>\n",
       "      <td>2019-03-10 04:00:00</td>\n",
       "      <td>104.000</td>\n",
       "      <td>05:00:00</td>\n",
       "      <td>2019-03-09 23:00:00</td>\n",
       "      <td>2019-03-09 23:59:59</td>\n",
       "      <td>00:59:59</td>\n",
       "      <td>20.794</td>\n",
       "    </tr>\n",
       "    <tr>\n",
       "      <th>167333</th>\n",
       "      <td>R293</td>\n",
       "      <td>R133</td>\n",
       "      <td>00-00-03</td>\n",
       "      <td>MOSHOLU PKWY</td>\n",
       "      <td>2019-03-17 01:00:00</td>\n",
       "      <td>35.000</td>\n",
       "      <td>04:00:00</td>\n",
       "      <td>2019-03-16 21:00:00</td>\n",
       "      <td>2019-03-16 23:59:59</td>\n",
       "      <td>02:59:59</td>\n",
       "      <td>26.248</td>\n",
       "    </tr>\n",
       "  </tbody>\n",
       "</table>\n",
       "</div>"
      ],
      "text/plain": [
       "          C/A  UNIT       SCP         STATION        end_datetime  entries  \\\n",
       "107409   N557  R130  00-03-00       KINGS HWY 2019-03-28 01:00:00   18.000   \n",
       "59389   N095A  R014  01-03-03       FULTON ST 2019-03-13 01:00:00  130.000   \n",
       "189608   R534  R055  01-00-00   FLUSHING-MAIN 2019-02-26 03:00:00    1.000   \n",
       "185947   R525  R018  02-00-02  74 ST-BROADWAY 2019-03-08 03:00:00   53.000   \n",
       "117783  PTH07  R550  00-00-02      CITY / BUS 2019-02-28 00:02:46    7.000   \n",
       "9813     A053  R088  03-00-03    CORTLANDT ST 2019-03-13 01:00:00   25.000   \n",
       "24999    D005  R398  00-06-00  NEW UTRECHT AV 2019-03-14 01:00:00   42.000   \n",
       "35753   JFK01  R535  00-00-01  HOWARD BCH JFK 2019-03-22 01:00:00    4.000   \n",
       "67790    N182  R414  00-00-00  HOWARD BCH JFK 2019-03-10 04:00:00  104.000   \n",
       "167333   R293  R133  00-00-03    MOSHOLU PKWY 2019-03-17 01:00:00   35.000   \n",
       "\n",
       "       time_interval      start_datetime    new_end_datetime  \\\n",
       "107409      04:00:00 2019-03-27 21:00:00 2019-03-27 23:59:59   \n",
       "59389       04:00:00 2019-03-12 21:00:00 2019-03-12 23:59:59   \n",
       "189608      04:00:00 2019-02-25 23:00:00 2019-02-25 23:59:59   \n",
       "185947      04:00:00 2019-03-07 23:00:00 2019-03-07 23:59:59   \n",
       "117783      04:12:00 2019-02-27 19:50:47 2019-02-27 23:59:59   \n",
       "9813        04:00:00 2019-03-12 21:00:00 2019-03-12 23:59:59   \n",
       "24999       04:00:00 2019-03-13 21:00:00 2019-03-13 23:59:59   \n",
       "35753       04:00:00 2019-03-21 21:00:00 2019-03-21 23:59:59   \n",
       "67790       05:00:00 2019-03-09 23:00:00 2019-03-09 23:59:59   \n",
       "167333      04:00:00 2019-03-16 21:00:00 2019-03-16 23:59:59   \n",
       "\n",
       "       interval_on_that_day  adjusted_entries  \n",
       "107409             02:59:59            13.499  \n",
       "59389              02:59:59            97.491  \n",
       "189608             00:59:59             0.250  \n",
       "185947             00:59:59            13.246  \n",
       "117783             04:09:12             6.922  \n",
       "9813               02:59:59            18.748  \n",
       "24999              02:59:59            31.497  \n",
       "35753              02:59:59             3.000  \n",
       "67790              00:59:59            20.794  \n",
       "167333             02:59:59            26.248  "
      ]
     },
     "execution_count": 85,
     "metadata": {},
     "output_type": "execute_result"
    }
   ],
   "source": [
    "with_split[with_split.entries != with_split.adjusted_entries].sample(10)"
   ]
  },
  {
   "cell_type": "code",
   "execution_count": 86,
   "metadata": {},
   "outputs": [
    {
     "data": {
      "text/html": [
       "<div>\n",
       "<style scoped>\n",
       "    .dataframe tbody tr th:only-of-type {\n",
       "        vertical-align: middle;\n",
       "    }\n",
       "\n",
       "    .dataframe tbody tr th {\n",
       "        vertical-align: top;\n",
       "    }\n",
       "\n",
       "    .dataframe thead th {\n",
       "        text-align: right;\n",
       "    }\n",
       "</style>\n",
       "<table border=\"1\" class=\"dataframe\">\n",
       "  <thead>\n",
       "    <tr style=\"text-align: right;\">\n",
       "      <th></th>\n",
       "      <th>C/A</th>\n",
       "      <th>UNIT</th>\n",
       "      <th>SCP</th>\n",
       "      <th>STATION</th>\n",
       "      <th>end_datetime</th>\n",
       "      <th>entries</th>\n",
       "      <th>time_interval</th>\n",
       "      <th>start_datetime</th>\n",
       "      <th>new_end_datetime</th>\n",
       "      <th>interval_on_that_day</th>\n",
       "      <th>adjusted_entries</th>\n",
       "    </tr>\n",
       "  </thead>\n",
       "  <tbody>\n",
       "  </tbody>\n",
       "</table>\n",
       "</div>"
      ],
      "text/plain": [
       "Empty DataFrame\n",
       "Columns: [C/A, UNIT, SCP, STATION, end_datetime, entries, time_interval, start_datetime, new_end_datetime, interval_on_that_day, adjusted_entries]\n",
       "Index: []"
      ]
     },
     "execution_count": 86,
     "metadata": {},
     "output_type": "execute_result"
    }
   ],
   "source": [
    "with_split[with_split.start_datetime.dt.day != with_split.new_end_datetime.dt.day]"
   ]
  },
  {
   "cell_type": "code",
   "execution_count": 87,
   "metadata": {},
   "outputs": [],
   "source": [
    "clean_columns = with_split[['C/A', 'UNIT', 'SCP', 'STATION', 'start_datetime', 'new_end_datetime', 'interval_on_that_day', 'adjusted_entries']]"
   ]
  },
  {
   "cell_type": "code",
   "execution_count": 88,
   "metadata": {},
   "outputs": [],
   "source": [
    "clean_columns = clean_columns.rename(columns={ 'new_end_datetime': 'end_datetime', 'adjusted_entries': 'entries' })\n"
   ]
  },
  {
   "cell_type": "code",
   "execution_count": 89,
   "metadata": {},
   "outputs": [
    {
     "data": {
      "text/html": [
       "<div>\n",
       "<style scoped>\n",
       "    .dataframe tbody tr th:only-of-type {\n",
       "        vertical-align: middle;\n",
       "    }\n",
       "\n",
       "    .dataframe tbody tr th {\n",
       "        vertical-align: top;\n",
       "    }\n",
       "\n",
       "    .dataframe thead th {\n",
       "        text-align: right;\n",
       "    }\n",
       "</style>\n",
       "<table border=\"1\" class=\"dataframe\">\n",
       "  <thead>\n",
       "    <tr style=\"text-align: right;\">\n",
       "      <th></th>\n",
       "      <th>C/A</th>\n",
       "      <th>UNIT</th>\n",
       "      <th>SCP</th>\n",
       "      <th>STATION</th>\n",
       "      <th>start_datetime</th>\n",
       "      <th>end_datetime</th>\n",
       "      <th>interval_on_that_day</th>\n",
       "      <th>entries</th>\n",
       "    </tr>\n",
       "  </thead>\n",
       "  <tbody>\n",
       "    <tr>\n",
       "      <th>48291</th>\n",
       "      <td>N046</td>\n",
       "      <td>R281</td>\n",
       "      <td>00-00-01</td>\n",
       "      <td>72 ST</td>\n",
       "      <td>2019-02-26 07:00:00</td>\n",
       "      <td>2019-02-26 11:00:00</td>\n",
       "      <td>04:00:00</td>\n",
       "      <td>224.000</td>\n",
       "    </tr>\n",
       "    <tr>\n",
       "      <th>126858</th>\n",
       "      <td>R108</td>\n",
       "      <td>R305</td>\n",
       "      <td>02-00-02</td>\n",
       "      <td>WTC-CORTLANDT</td>\n",
       "      <td>2019-03-11 13:00:00</td>\n",
       "      <td>2019-03-11 17:00:00</td>\n",
       "      <td>04:00:00</td>\n",
       "      <td>138.000</td>\n",
       "    </tr>\n",
       "    <tr>\n",
       "      <th>184989</th>\n",
       "      <td>R524</td>\n",
       "      <td>R347</td>\n",
       "      <td>00-00-00</td>\n",
       "      <td>69 ST</td>\n",
       "      <td>2019-02-27 20:00:00</td>\n",
       "      <td>2019-02-27 23:59:59</td>\n",
       "      <td>03:59:59</td>\n",
       "      <td>30.000</td>\n",
       "    </tr>\n",
       "    <tr>\n",
       "      <th>108614</th>\n",
       "      <td>N602</td>\n",
       "      <td>R259</td>\n",
       "      <td>00-05-00</td>\n",
       "      <td>ROOSEVELT ISLND</td>\n",
       "      <td>2019-03-18 16:00:00</td>\n",
       "      <td>2019-03-18 20:00:00</td>\n",
       "      <td>04:00:00</td>\n",
       "      <td>0.000</td>\n",
       "    </tr>\n",
       "    <tr>\n",
       "      <th>157166</th>\n",
       "      <td>R236</td>\n",
       "      <td>R045</td>\n",
       "      <td>00-00-03</td>\n",
       "      <td>GRD CNTRL-42 ST</td>\n",
       "      <td>2019-03-24 21:00:00</td>\n",
       "      <td>2019-03-24 23:59:59</td>\n",
       "      <td>02:59:59</td>\n",
       "      <td>6.749</td>\n",
       "    </tr>\n",
       "    <tr>\n",
       "      <th>170077</th>\n",
       "      <td>R317</td>\n",
       "      <td>R408</td>\n",
       "      <td>01-05-00</td>\n",
       "      <td>SIMPSON ST</td>\n",
       "      <td>2019-03-14 08:23:04</td>\n",
       "      <td>2019-03-14 08:26:29</td>\n",
       "      <td>00:03:25</td>\n",
       "      <td>0.000</td>\n",
       "    </tr>\n",
       "    <tr>\n",
       "      <th>110705</th>\n",
       "      <td>N607</td>\n",
       "      <td>R025</td>\n",
       "      <td>01-00-00</td>\n",
       "      <td>JAMAICA CENTER</td>\n",
       "      <td>2019-02-24 11:00:00</td>\n",
       "      <td>2019-02-24 15:00:00</td>\n",
       "      <td>04:00:00</td>\n",
       "      <td>5.000</td>\n",
       "    </tr>\n",
       "    <tr>\n",
       "      <th>19276</th>\n",
       "      <td>B031</td>\n",
       "      <td>R172</td>\n",
       "      <td>01-06-01</td>\n",
       "      <td>BRIGHTON BEACH</td>\n",
       "      <td>2019-03-07 00:00:00</td>\n",
       "      <td>2019-03-07 03:00:00</td>\n",
       "      <td>03:00:00</td>\n",
       "      <td>0.750</td>\n",
       "    </tr>\n",
       "    <tr>\n",
       "      <th>114666</th>\n",
       "      <td>PTH03</td>\n",
       "      <td>R552</td>\n",
       "      <td>00-01-03</td>\n",
       "      <td>JOURNAL SQUARE</td>\n",
       "      <td>2019-03-16 07:17:11</td>\n",
       "      <td>2019-03-16 11:29:11</td>\n",
       "      <td>04:12:00</td>\n",
       "      <td>174.000</td>\n",
       "    </tr>\n",
       "    <tr>\n",
       "      <th>92492</th>\n",
       "      <td>N409</td>\n",
       "      <td>R268</td>\n",
       "      <td>00-00-04</td>\n",
       "      <td>METROPOLITAN AV</td>\n",
       "      <td>2019-03-29 00:00:00</td>\n",
       "      <td>2019-03-29 01:00:00</td>\n",
       "      <td>01:00:00</td>\n",
       "      <td>8.250</td>\n",
       "    </tr>\n",
       "  </tbody>\n",
       "</table>\n",
       "</div>"
      ],
      "text/plain": [
       "          C/A  UNIT       SCP          STATION      start_datetime  \\\n",
       "48291    N046  R281  00-00-01            72 ST 2019-02-26 07:00:00   \n",
       "126858   R108  R305  02-00-02    WTC-CORTLANDT 2019-03-11 13:00:00   \n",
       "184989   R524  R347  00-00-00            69 ST 2019-02-27 20:00:00   \n",
       "108614   N602  R259  00-05-00  ROOSEVELT ISLND 2019-03-18 16:00:00   \n",
       "157166   R236  R045  00-00-03  GRD CNTRL-42 ST 2019-03-24 21:00:00   \n",
       "170077   R317  R408  01-05-00       SIMPSON ST 2019-03-14 08:23:04   \n",
       "110705   N607  R025  01-00-00   JAMAICA CENTER 2019-02-24 11:00:00   \n",
       "19276    B031  R172  01-06-01   BRIGHTON BEACH 2019-03-07 00:00:00   \n",
       "114666  PTH03  R552  00-01-03   JOURNAL SQUARE 2019-03-16 07:17:11   \n",
       "92492    N409  R268  00-00-04  METROPOLITAN AV 2019-03-29 00:00:00   \n",
       "\n",
       "              end_datetime interval_on_that_day  entries  \n",
       "48291  2019-02-26 11:00:00             04:00:00  224.000  \n",
       "126858 2019-03-11 17:00:00             04:00:00  138.000  \n",
       "184989 2019-02-27 23:59:59             03:59:59   30.000  \n",
       "108614 2019-03-18 20:00:00             04:00:00    0.000  \n",
       "157166 2019-03-24 23:59:59             02:59:59    6.749  \n",
       "170077 2019-03-14 08:26:29             00:03:25    0.000  \n",
       "110705 2019-02-24 15:00:00             04:00:00    5.000  \n",
       "19276  2019-03-07 03:00:00             03:00:00    0.750  \n",
       "114666 2019-03-16 11:29:11             04:12:00  174.000  \n",
       "92492  2019-03-29 01:00:00             01:00:00    8.250  "
      ]
     },
     "execution_count": 89,
     "metadata": {},
     "output_type": "execute_result"
    }
   ],
   "source": [
    "clean_columns.sample(10)"
   ]
  },
  {
   "cell_type": "markdown",
   "metadata": {},
   "source": [
    "### 4.3.3 Validation"
   ]
  },
  {
   "cell_type": "code",
   "execution_count": 90,
   "metadata": {},
   "outputs": [
    {
     "data": {
      "text/plain": [
       "True"
      ]
     },
     "execution_count": 90,
     "metadata": {},
     "output_type": "execute_result"
    }
   ],
   "source": [
    "num_in_less_than_24 = less_than_24.shape[0]\n",
    "num_across_days = less_than_24[less_than_24.start_datetime.dt.day != less_than_24.end_datetime.dt.day].shape[0]\n",
    "num_in_clean_cols = clean_columns.shape[0]\n",
    "\n",
    "num_in_clean_cols == (num_in_less_than_24 + num_across_days)"
   ]
  },
  {
   "cell_type": "code",
   "execution_count": 91,
   "metadata": {},
   "outputs": [
    {
     "data": {
      "text/plain": [
       "0"
      ]
     },
     "execution_count": 91,
     "metadata": {},
     "output_type": "execute_result"
    }
   ],
   "source": [
    "clean_columns[clean_columns.start_datetime.dt.day != clean_columns.end_datetime.dt.day].shape[0]"
   ]
  },
  {
   "cell_type": "code",
   "execution_count": 92,
   "metadata": {},
   "outputs": [
    {
     "data": {
      "text/plain": [
       "1.0821472323216421"
      ]
     },
     "execution_count": 92,
     "metadata": {},
     "output_type": "execute_result"
    }
   ],
   "source": [
    "clean_columns.shape[0] / mta_data.shape[0]"
   ]
  },
  {
   "cell_type": "markdown",
   "metadata": {},
   "source": [
    "## 4.4 Store Data"
   ]
  },
  {
   "cell_type": "code",
   "execution_count": 93,
   "metadata": {},
   "outputs": [],
   "source": [
    "with open('super_cleaned_mta_data_march.pickle', 'wb') as write_file:\n",
    "    pickle.dump(clean_columns, write_file)"
   ]
  },
  {
   "cell_type": "code",
   "execution_count": 94,
   "metadata": {},
   "outputs": [
    {
     "name": "stdout",
     "output_type": "stream",
     "text": [
      "<class 'pandas.core.frame.DataFrame'>\n",
      "Int64Index: 1099770 entries, 1 to 204589\n",
      "Data columns (total 8 columns):\n",
      "C/A                     1099770 non-null object\n",
      "UNIT                    1099770 non-null object\n",
      "SCP                     1099770 non-null object\n",
      "STATION                 1099770 non-null object\n",
      "start_datetime          1099770 non-null datetime64[ns]\n",
      "end_datetime            1099770 non-null datetime64[ns]\n",
      "interval_on_that_day    1099770 non-null timedelta64[ns]\n",
      "entries                 1099770 non-null float64\n",
      "dtypes: datetime64[ns](2), float64(1), object(4), timedelta64[ns](1)\n",
      "memory usage: 75.5+ MB\n"
     ]
    }
   ],
   "source": [
    "clean_columns.info()"
   ]
  },
  {
   "cell_type": "code",
   "execution_count": null,
   "metadata": {},
   "outputs": [],
   "source": []
  },
  {
   "cell_type": "markdown",
   "metadata": {},
   "source": [
    "# Explore"
   ]
  },
  {
   "cell_type": "code",
   "execution_count": 95,
   "metadata": {},
   "outputs": [],
   "source": [
    "res = clean_columns.groupby(['C/A', 'UNIT', 'SCP', 'STATION', clean_columns.start_datetime.dt.strftime('%m/%d/%y')]).agg({ 'entries': 'sum'})"
   ]
  },
  {
   "cell_type": "code",
   "execution_count": 96,
   "metadata": {},
   "outputs": [
    {
     "data": {
      "text/plain": [
       "'01/01/19'"
      ]
     },
     "execution_count": 96,
     "metadata": {},
     "output_type": "execute_result"
    }
   ],
   "source": [
    "pd.to_datetime('1/1/2019').strftime('%m/%d/%y')"
   ]
  },
  {
   "cell_type": "code",
   "execution_count": 97,
   "metadata": {},
   "outputs": [
    {
     "data": {
      "text/html": [
       "<div>\n",
       "<style scoped>\n",
       "    .dataframe tbody tr th:only-of-type {\n",
       "        vertical-align: middle;\n",
       "    }\n",
       "\n",
       "    .dataframe tbody tr th {\n",
       "        vertical-align: top;\n",
       "    }\n",
       "\n",
       "    .dataframe thead th {\n",
       "        text-align: right;\n",
       "    }\n",
       "</style>\n",
       "<table border=\"1\" class=\"dataframe\">\n",
       "  <thead>\n",
       "    <tr style=\"text-align: right;\">\n",
       "      <th></th>\n",
       "      <th>entries</th>\n",
       "    </tr>\n",
       "  </thead>\n",
       "  <tbody>\n",
       "    <tr>\n",
       "      <th>count</th>\n",
       "      <td>168953.000</td>\n",
       "    </tr>\n",
       "    <tr>\n",
       "      <th>mean</th>\n",
       "      <td>1033.929</td>\n",
       "    </tr>\n",
       "    <tr>\n",
       "      <th>std</th>\n",
       "      <td>995.819</td>\n",
       "    </tr>\n",
       "    <tr>\n",
       "      <th>min</th>\n",
       "      <td>0.000</td>\n",
       "    </tr>\n",
       "    <tr>\n",
       "      <th>25%</th>\n",
       "      <td>243.000</td>\n",
       "    </tr>\n",
       "    <tr>\n",
       "      <th>50%</th>\n",
       "      <td>784.000</td>\n",
       "    </tr>\n",
       "    <tr>\n",
       "      <th>75%</th>\n",
       "      <td>1556.490</td>\n",
       "    </tr>\n",
       "    <tr>\n",
       "      <th>max</th>\n",
       "      <td>8188.000</td>\n",
       "    </tr>\n",
       "  </tbody>\n",
       "</table>\n",
       "</div>"
      ],
      "text/plain": [
       "         entries\n",
       "count 168953.000\n",
       "mean    1033.929\n",
       "std      995.819\n",
       "min        0.000\n",
       "25%      243.000\n",
       "50%      784.000\n",
       "75%     1556.490\n",
       "max     8188.000"
      ]
     },
     "execution_count": 97,
     "metadata": {},
     "output_type": "execute_result"
    }
   ],
   "source": [
    "res.describe()"
   ]
  },
  {
   "cell_type": "markdown",
   "metadata": {},
   "source": [
    "# TZ Explore"
   ]
  },
  {
   "cell_type": "code",
   "execution_count": null,
   "metadata": {},
   "outputs": [],
   "source": [
    "date['year'] = ['date'].dt.year "
   ]
  },
  {
   "cell_type": "markdown",
   "metadata": {},
   "source": [
    "# Average entries per day, per station, as histogram"
   ]
  },
  {
   "cell_type": "markdown",
   "metadata": {},
   "source": [
    "***making a day of the week column"
   ]
  },
  {
   "cell_type": "code",
   "execution_count": 550,
   "metadata": {},
   "outputs": [],
   "source": [
    "clean_columns['DATE'] = clean_columns.start_datetime.dt.day_name\n",
    "clean_columns['DATE'] = clean_columns.start_datetime.dt.day_name()\n",
    "clean_columns['DAY'] = clean_columns['DATE']"
   ]
  },
  {
   "cell_type": "code",
   "execution_count": 448,
   "metadata": {},
   "outputs": [],
   "source": [
    "***group by station, DAY OF THE WEEK, aggregate on entries"
   ]
  },
  {
   "cell_type": "code",
   "execution_count": 551,
   "metadata": {},
   "outputs": [],
   "source": [
    "daily_entries_by_station_by_day = (clean_columns\n",
    ".groupby([clean_columns.start_datetime.dt.date,'STATION','DAY'])\n",
    " .agg({'entries':'sum'})\n",
    " .reset_index()\n",
    ")"
   ]
  },
  {
   "cell_type": "code",
   "execution_count": 462,
   "metadata": {},
   "outputs": [
    {
     "ename": "SyntaxError",
     "evalue": "invalid syntax (<ipython-input-462-75b466d33546>, line 2)",
     "output_type": "error",
     "traceback": [
      "\u001b[0;36m  File \u001b[0;32m\"<ipython-input-462-75b466d33546>\"\u001b[0;36m, line \u001b[0;32m2\u001b[0m\n\u001b[0;31m    ***continue at Explore 2\u001b[0m\n\u001b[0m     ^\u001b[0m\n\u001b[0;31mSyntaxError\u001b[0m\u001b[0;31m:\u001b[0m invalid syntax\n"
     ]
    }
   ],
   "source": [
    "daily_entries_by_station_by_day \n",
    "***continue at Explore 2"
   ]
  },
  {
   "cell_type": "markdown",
   "metadata": {},
   "source": [
    "***group by station, aggregate on entries"
   ]
  },
  {
   "cell_type": "code",
   "execution_count": 459,
   "metadata": {},
   "outputs": [],
   "source": [
    "daily_entries_by_station = (clean_columns\n",
    ".groupby([clean_columns.start_datetime.dt.date,'STATION'])\n",
    " .agg({'entries':'sum'})\n",
    " .reset_index()\n",
    ")"
   ]
  },
  {
   "cell_type": "code",
   "execution_count": 549,
   "metadata": {},
   "outputs": [
    {
     "data": {
      "text/html": [
       "<div>\n",
       "<style scoped>\n",
       "    .dataframe tbody tr th:only-of-type {\n",
       "        vertical-align: middle;\n",
       "    }\n",
       "\n",
       "    .dataframe tbody tr th {\n",
       "        vertical-align: top;\n",
       "    }\n",
       "\n",
       "    .dataframe thead th {\n",
       "        text-align: right;\n",
       "    }\n",
       "</style>\n",
       "<table border=\"1\" class=\"dataframe\">\n",
       "  <thead>\n",
       "    <tr style=\"text-align: right;\">\n",
       "      <th></th>\n",
       "      <th>start_datetime</th>\n",
       "      <th>STATION</th>\n",
       "      <th>entries</th>\n",
       "    </tr>\n",
       "  </thead>\n",
       "  <tbody>\n",
       "    <tr>\n",
       "      <th>0</th>\n",
       "      <td>2019-02-23</td>\n",
       "      <td>1 AV</td>\n",
       "      <td>2.000</td>\n",
       "    </tr>\n",
       "    <tr>\n",
       "      <th>1</th>\n",
       "      <td>2019-02-23</td>\n",
       "      <td>103 ST</td>\n",
       "      <td>17980.000</td>\n",
       "    </tr>\n",
       "    <tr>\n",
       "      <th>2</th>\n",
       "      <td>2019-02-23</td>\n",
       "      <td>103 ST-CORONA</td>\n",
       "      <td>13481.976</td>\n",
       "    </tr>\n",
       "    <tr>\n",
       "      <th>3</th>\n",
       "      <td>2019-02-23</td>\n",
       "      <td>104 ST</td>\n",
       "      <td>2191.997</td>\n",
       "    </tr>\n",
       "    <tr>\n",
       "      <th>4</th>\n",
       "      <td>2019-02-23</td>\n",
       "      <td>110 ST</td>\n",
       "      <td>5909.234</td>\n",
       "    </tr>\n",
       "    <tr>\n",
       "      <th>...</th>\n",
       "      <td>...</td>\n",
       "      <td>...</td>\n",
       "      <td>...</td>\n",
       "    </tr>\n",
       "    <tr>\n",
       "      <th>13207</th>\n",
       "      <td>2019-03-29</td>\n",
       "      <td>WOODLAWN</td>\n",
       "      <td>6256.000</td>\n",
       "    </tr>\n",
       "    <tr>\n",
       "      <th>13208</th>\n",
       "      <td>2019-03-29</td>\n",
       "      <td>WORLD TRADE CTR</td>\n",
       "      <td>16794.000</td>\n",
       "    </tr>\n",
       "    <tr>\n",
       "      <th>13209</th>\n",
       "      <td>2019-03-29</td>\n",
       "      <td>WTC-CORTLANDT</td>\n",
       "      <td>13077.500</td>\n",
       "    </tr>\n",
       "    <tr>\n",
       "      <th>13210</th>\n",
       "      <td>2019-03-29</td>\n",
       "      <td>YORK ST</td>\n",
       "      <td>11649.500</td>\n",
       "    </tr>\n",
       "    <tr>\n",
       "      <th>13211</th>\n",
       "      <td>2019-03-29</td>\n",
       "      <td>ZEREGA AV</td>\n",
       "      <td>2713.500</td>\n",
       "    </tr>\n",
       "  </tbody>\n",
       "</table>\n",
       "<p>13212 rows × 3 columns</p>\n",
       "</div>"
      ],
      "text/plain": [
       "      start_datetime          STATION   entries\n",
       "0         2019-02-23             1 AV     2.000\n",
       "1         2019-02-23           103 ST 17980.000\n",
       "2         2019-02-23    103 ST-CORONA 13481.976\n",
       "3         2019-02-23           104 ST  2191.997\n",
       "4         2019-02-23           110 ST  5909.234\n",
       "...              ...              ...       ...\n",
       "13207     2019-03-29         WOODLAWN  6256.000\n",
       "13208     2019-03-29  WORLD TRADE CTR 16794.000\n",
       "13209     2019-03-29    WTC-CORTLANDT 13077.500\n",
       "13210     2019-03-29          YORK ST 11649.500\n",
       "13211     2019-03-29        ZEREGA AV  2713.500\n",
       "\n",
       "[13212 rows x 3 columns]"
      ]
     },
     "execution_count": 549,
     "metadata": {},
     "output_type": "execute_result"
    }
   ],
   "source": [
    "daily_entries_by_station"
   ]
  },
  {
   "cell_type": "markdown",
   "metadata": {},
   "source": [
    "***not all stations have the same number of entries (35 v 25)\n",
    "\n",
    "Find each station's daily mean"
   ]
  },
  {
   "cell_type": "code",
   "execution_count": 578,
   "metadata": {},
   "outputs": [],
   "source": [
    "station_daily_entries_mean = daily_entries_by_station.groupby(['STATION'],as_index=False).entries.mean()"
   ]
  },
  {
   "cell_type": "code",
   "execution_count": 580,
   "metadata": {},
   "outputs": [],
   "source": [
    "station_dailies_top  = station_daily_entries_mean.sort_values(by='entries',ascending=False)"
   ]
  },
  {
   "cell_type": "code",
   "execution_count": 597,
   "metadata": {},
   "outputs": [],
   "source": [
    "top_20 = station_dailies_top.head(20)\n"
   ]
  },
  {
   "cell_type": "code",
   "execution_count": 360,
   "metadata": {},
   "outputs": [
    {
     "data": {
      "image/png": "[encoded data removed]",
      "text/plain": [
       "<Figure size 1224x720 with 1 Axes>"
      ]
     },
     "metadata": {
      "needs_background": "light"
     },
     "output_type": "display_data"
    }
   ],
   "source": [
    "x = station_daily_entries_mean.entries\n",
    "y = station_daily_entries_mean.STATION.count()\n",
    "plt.figure(figsize=[17,10])\n",
    "plt.hist(x,bins=10)\n",
    "plt.xlabel('Daily Entries per Station',fontsize = 15, weight = 'bold',color='green')\n",
    "plt.ylabel('Number of Stations',fontsize = 15, weight = 'bold',color='green');\n",
    "plt.title('Stations by Number of Daily Entries',family='serif',fontsize = 35,loc='center',color='r');"
   ]
  },
  {
   "cell_type": "code",
   "execution_count": 621,
   "metadata": {},
   "outputs": [],
   "source": [
    "station_top_20 = station_daily_entries_mean.sort_values(by='entries',ascending=False).head(20)\n",
    "descending_station_top_20 = station_daily_entries_mean.sort_values(by='entries',ascending=False).head(20)"
   ]
  },
  {
   "cell_type": "code",
   "execution_count": 707,
   "metadata": {},
   "outputs": [],
   "source": [
    "station_dailies_ascending = station_dailies_top.sort_values(by='entries',ascending=False)"
   ]
  },
  {
   "cell_type": "code",
   "execution_count": 630,
   "metadata": {},
   "outputs": [
    {
     "ename": "SyntaxError",
     "evalue": "invalid syntax (<ipython-input-630-3afdfe2bc882>, line 17)",
     "output_type": "error",
     "traceback": [
      "\u001b[0;36m  File \u001b[0;32m\"<ipython-input-630-3afdfe2bc882>\"\u001b[0;36m, line \u001b[0;32m17\u001b[0m\n\u001b[0;31m    ax.set_title(('Top 20 Stations By Average Daily Entries',family='serif',fontsize = 15,loc='center',color='r')\u001b[0m\n\u001b[0m                                                                   ^\u001b[0m\n\u001b[0;31mSyntaxError\u001b[0m\u001b[0;31m:\u001b[0m invalid syntax\n"
     ]
    }
   ],
   "source": [
    "# Bring some raw data.\n",
    "frequencies = entries_list\n",
    "\n",
    "freq_series = pd.Series(frequencies)\n",
    "\n",
    "y_labels = [108300.0, 110540.0, 112780.0, 115020.0, 117260.0, 119500.0, \n",
    "            121740.0, 123980.0, 126220.0, 128460.0, 130700.0]\n",
    "\n",
    "# Plot the figure.\n",
    "\n",
    "new_x = descending_station_top_20.STATION\n",
    "new_y = descending_station_top_20.entries\n",
    "plt.figure(figsize=[75,100])\n",
    "\n",
    "#plt.figure(figsize=(12, 8))\n",
    "ax = freq_series.plot(kind='barh')\n",
    "ax.set_title(('Top 20 Stations By Average Daily Entries',family='serif',fontsize = 15,loc='center',color='r')\n",
    "ax.set_xlabel('Daily Entries per Station',fontsize = 10, weight = 'bold',color='green')\n",
    "ax.set_ylabel('Entries By Daily Average',fontsize = 10, weight = 'bold',color='green')\n",
    "ax.set_yticklabels(y_labels)\n",
    "ax.set_xlim(-40, 300) # expand xlim to make labels easier to read\n",
    "\n",
    "rects = ax.patches\n",
    "\n",
    "# For each bar: Place a label\n",
    "for rect in rects:\n",
    "    # Get X and Y placement of label from rect.\n",
    "    x_value = rect.get_width()\n",
    "    y_value = rect.get_y() + rect.get_height() / 2\n",
    "\n",
    "   \n",
    "  \n",
    "    # Use X value as label and format number with one decimal place\n",
    "    label = \"descending_station_top_20.STATION\".format(1.5))\n",
    "\n",
    "    # Create annotation\n",
    "    plt.annotate(\n",
    "        label,                      # Use `label` as label\n",
    "        (x_value, y_value),         # Place label at end of the bar\n",
    "        xytext=(space, 0),          # Horizontally shift label by `space`\n",
    "        textcoords=\"offset points\", # Interpret `xytext` as offset in points\n",
    "        va='center',                # Vertically center label\n",
    "        ha=ha)                      # Horizontally align label differently for\n",
    "                                    # positive and negative values."
   ]
  },
  {
   "cell_type": "code",
   "execution_count": 823,
   "metadata": {},
   "outputs": [
    {
     "data": {
      "image/png": "[encoded data removed]",
      "text/plain": [
       "<Figure size 5400x7200 with 1 Axes>"
      ]
     },
     "metadata": {},
     "output_type": "display_data"
    }
   ],
   "source": [
    "new_x = descending_station_top_20.STATION\n",
    "new_y = descending_station_top_20.entries\n",
    "plt.figure(figsize=[75,100])\n",
    "#fig, ax = plt.subplots(20, 5, figsize=(75, 100))\n",
    "\n",
    "#plt.ax.invert_yaxis()\n",
    "plt.subplot(20,5,2)\n",
    "\n",
    "plt.barh(new_x,new_y)\n",
    "\n",
    "plt.gca().invert_yaxis()\n",
    "\n",
    "plt.title('Top 20 Stations By Average Daily Entries',family='sans serif',fontsize = 30,loc='center',color='tab:red');\n",
    "plt.xlabel('Daily Entries per Station',fontsize = 15, weight = 'bold')\n",
    "plt.ylabel('Top 20 Stations',fontsize = 15, weight = 'bold')\n",
    "\n",
    "#plt.savefig('../src/visualization/top_20.svg',format='svg')"
   ]
  },
  {
   "cell_type": "markdown",
   "metadata": {},
   "source": [
    "# Bar Graph All Stations by Average Daily Entries"
   ]
  },
  {
   "cell_type": "code",
   "execution_count": 609,
   "metadata": {},
   "outputs": [
    {
     "data": {
      "image/png": "[encoded data removed]",
      "text/plain": [
       "<Figure size 3600x10800 with 1 Axes>"
      ]
     },
     "metadata": {
      "needs_background": "light"
     },
     "output_type": "display_data"
    }
   ],
   "source": [
    "new_x = station_dailies_top.STATION\n",
    "new_y = station_dailies_top.entries\n",
    "plt.figure(figsize=[50,150])\n",
    "#fig, ax = plt.subplots(20, 5, figsize=(75, 100))\n",
    "\n",
    "#plt.ax.invert_yaxis()\n",
    "plt.subplot(20,5,2)\n",
    "\n",
    "\n",
    "plt.bar(new_x,new_y)\n",
    "plt.gca().invert_xaxis()\n",
    "\n",
    "\n",
    "plt.title('Most Daily Traffic By Stations',family='serif',fontsize = 15,loc='center',color='r');\n",
    "plt.xlabel('Daily Entries per Station',fontsize = 10, weight = 'bold',color='green')\n",
    "plt.ylabel('Entries By Daily Average',fontsize = 10, weight = 'bold',color='green')\n",
    "plt.xticks([]);\n",
    "#plt.xlabel('Daily Entries per Station',fontsize = 10, weight = 'bold',color='green')\n"
   ]
  },
  {
   "cell_type": "code",
   "execution_count": null,
   "metadata": {},
   "outputs": [],
   "source": []
  },
  {
   "cell_type": "code",
   "execution_count": 821,
   "metadata": {},
   "outputs": [
    {
     "data": {
      "image/png": "[encoded data removed]",
      "text/plain": [
       "<Figure size 1440x288 with 1 Axes>"
      ]
     },
     "metadata": {},
     "output_type": "display_data"
    }
   ],
   "source": [
    "import seaborn as sns\n",
    "import matplotlib.pyplot as plt\n",
    "sns.set(style=\"white\")\n",
    "\n",
    "# Initialize the matplotlib figure\n",
    "f, ax = plt.subplots(figsize=(20, 4))\n",
    "#plt.subplot(20,5,2)\n",
    "#plt.ylabel('Entries By Daily Average',fontsize = 10, weight = 'bold',color='green')\n",
    "\n",
    "# Load the example car crash dataset\n",
    "data = station_dailies_ascending\n",
    "data2 = station_dailies_top.head(20)\n",
    "\n",
    "# Plot the total crashes\n",
    "sns.set_color_codes(\"bright\")\n",
    "sns.barplot(x=\"STATION\", y=\"entries\", data=data,\n",
    "            label=\"Others\", color=\"tab:blue\")\n",
    "\n",
    "#Plot the stations in the top ten\n",
    "#sns.set_color_codes(\"bright\")\n",
    "#sns.barplot(x=\"STATION\", y=\"entries\", data=data2,\n",
    "#            label=\"Top 20 Stations\", color=\"tab:red\")\n",
    "plt.xticks([]);\n",
    "plt.yticks([])\n",
    "#g=sns.factorplot(x='type1', col='type2',col_wrap=3, data=dframe, kind='count', sharex=False, sharey=False, palette=pokemon_color_palette)\n",
    "#plt.title('Daily Traffic By Stations',family='sans serif',fontsize = 30,loc='center',color='r')\n",
    "plt.xlabel('Daily Entries per Station',fontsize = 15, weight = 'bold')\n",
    "plt.ylabel('Entries By Daily Average',fontsize = 15, weight = 'bold')\n",
    "\n",
    "\n",
    "# Add a legend and informative axis label\n",
    "#ax.legend(ncol=378, loc=\"upper right\", frameon=True)\n",
    "ax.set(xlim=(350,0))\n",
    "sns.despine(left=True, bottom=True)\n"
   ]
  },
  {
   "cell_type": "markdown",
   "metadata": {},
   "source": [
    "## Explore 2"
   ]
  },
  {
   "cell_type": "markdown",
   "metadata": {},
   "source": [
    "***Finding which days (at which stations) get the most overall daily traffic"
   ]
  },
  {
   "cell_type": "code",
   "execution_count": 568,
   "metadata": {},
   "outputs": [],
   "source": [
    "top_days = daily_entries_by_station_by_day.groupby(['DAY','STATION'],as_index=False).agg({'entries':'mean'}).sort_values('entries').tail(20)\n",
    "\n"
   ]
  },
  {
   "cell_type": "code",
   "execution_count": 569,
   "metadata": {},
   "outputs": [],
   "source": [
    "top_days['Station-Day'] = top_days['STATION']+ ' ' +top_days['DAY']"
   ]
  },
  {
   "cell_type": "code",
   "execution_count": 638,
   "metadata": {},
   "outputs": [
    {
     "data": {
      "text/html": [
       "<div>\n",
       "<style scoped>\n",
       "    .dataframe tbody tr th:only-of-type {\n",
       "        vertical-align: middle;\n",
       "    }\n",
       "\n",
       "    .dataframe tbody tr th {\n",
       "        vertical-align: top;\n",
       "    }\n",
       "\n",
       "    .dataframe thead th {\n",
       "        text-align: right;\n",
       "    }\n",
       "</style>\n",
       "<table border=\"1\" class=\"dataframe\">\n",
       "  <thead>\n",
       "    <tr style=\"text-align: right;\">\n",
       "      <th></th>\n",
       "      <th>STATION</th>\n",
       "      <th>entries</th>\n",
       "    </tr>\n",
       "  </thead>\n",
       "  <tbody>\n",
       "    <tr>\n",
       "      <th>61</th>\n",
       "      <td>34 ST-PENN STA</td>\n",
       "      <td>146510.447</td>\n",
       "    </tr>\n",
       "    <tr>\n",
       "      <th>233</th>\n",
       "      <td>GRD CNTRL-42 ST</td>\n",
       "      <td>129075.480</td>\n",
       "    </tr>\n",
       "    <tr>\n",
       "      <th>59</th>\n",
       "      <td>34 ST-HERALD SQ</td>\n",
       "      <td>103765.304</td>\n",
       "    </tr>\n",
       "    <tr>\n",
       "      <th>46</th>\n",
       "      <td>23 ST</td>\n",
       "      <td>99858.757</td>\n",
       "    </tr>\n",
       "    <tr>\n",
       "      <th>68</th>\n",
       "      <td>42 ST-PORT AUTH</td>\n",
       "      <td>91155.706</td>\n",
       "    </tr>\n",
       "    <tr>\n",
       "      <th>14</th>\n",
       "      <td>14 ST-UNION SQ</td>\n",
       "      <td>89622.213</td>\n",
       "    </tr>\n",
       "    <tr>\n",
       "      <th>352</th>\n",
       "      <td>TIMES SQ-42 ST</td>\n",
       "      <td>87329.038</td>\n",
       "    </tr>\n",
       "    <tr>\n",
       "      <th>226</th>\n",
       "      <td>FULTON ST</td>\n",
       "      <td>80825.348</td>\n",
       "    </tr>\n",
       "    <tr>\n",
       "      <th>110</th>\n",
       "      <td>86 ST</td>\n",
       "      <td>73716.879</td>\n",
       "    </tr>\n",
       "    <tr>\n",
       "      <th>9</th>\n",
       "      <td>125 ST</td>\n",
       "      <td>70553.348</td>\n",
       "    </tr>\n",
       "    <tr>\n",
       "      <th>173</th>\n",
       "      <td>CANAL ST</td>\n",
       "      <td>65480.079</td>\n",
       "    </tr>\n",
       "    <tr>\n",
       "      <th>86</th>\n",
       "      <td>59 ST COLUMBUS</td>\n",
       "      <td>64892.430</td>\n",
       "    </tr>\n",
       "    <tr>\n",
       "      <th>85</th>\n",
       "      <td>59 ST</td>\n",
       "      <td>56021.974</td>\n",
       "    </tr>\n",
       "    <tr>\n",
       "      <th>13</th>\n",
       "      <td>14 ST</td>\n",
       "      <td>55908.667</td>\n",
       "    </tr>\n",
       "    <tr>\n",
       "      <th>115</th>\n",
       "      <td>96 ST</td>\n",
       "      <td>55890.125</td>\n",
       "    </tr>\n",
       "    <tr>\n",
       "      <th>180</th>\n",
       "      <td>CHAMBERS ST</td>\n",
       "      <td>51797.795</td>\n",
       "    </tr>\n",
       "    <tr>\n",
       "      <th>217</th>\n",
       "      <td>FLUSHING-MAIN</td>\n",
       "      <td>50414.428</td>\n",
       "    </tr>\n",
       "    <tr>\n",
       "      <th>72</th>\n",
       "      <td>47-50 STS ROCK</td>\n",
       "      <td>49629.545</td>\n",
       "    </tr>\n",
       "    <tr>\n",
       "      <th>257</th>\n",
       "      <td>JKSN HT-ROOSVLT</td>\n",
       "      <td>44382.769</td>\n",
       "    </tr>\n",
       "    <tr>\n",
       "      <th>78</th>\n",
       "      <td>50 ST</td>\n",
       "      <td>43927.358</td>\n",
       "    </tr>\n",
       "  </tbody>\n",
       "</table>\n",
       "</div>"
      ],
      "text/plain": [
       "             STATION    entries\n",
       "61    34 ST-PENN STA 146510.447\n",
       "233  GRD CNTRL-42 ST 129075.480\n",
       "59   34 ST-HERALD SQ 103765.304\n",
       "46             23 ST  99858.757\n",
       "68   42 ST-PORT AUTH  91155.706\n",
       "14    14 ST-UNION SQ  89622.213\n",
       "352   TIMES SQ-42 ST  87329.038\n",
       "226        FULTON ST  80825.348\n",
       "110            86 ST  73716.879\n",
       "9             125 ST  70553.348\n",
       "173         CANAL ST  65480.079\n",
       "86    59 ST COLUMBUS  64892.430\n",
       "85             59 ST  56021.974\n",
       "13             14 ST  55908.667\n",
       "115            96 ST  55890.125\n",
       "180      CHAMBERS ST  51797.795\n",
       "217    FLUSHING-MAIN  50414.428\n",
       "72    47-50 STS ROCK  49629.545\n",
       "257  JKSN HT-ROOSVLT  44382.769\n",
       "78             50 ST  43927.358"
      ]
     },
     "execution_count": 638,
     "metadata": {},
     "output_type": "execute_result"
    }
   ],
   "source": [
    "descending_station_top_20"
   ]
  },
  {
   "cell_type": "code",
   "execution_count": 687,
   "metadata": {},
   "outputs": [
    {
     "name": "stderr",
     "output_type": "stream",
     "text": [
      "No handles with labels found to put in legend.\n"
     ]
    },
    {
     "data": {
      "image/png": "[encoded data removed]",
      "text/plain": [
       "<Figure size 432x1080 with 1 Axes>"
      ]
     },
     "metadata": {},
     "output_type": "display_data"
    }
   ],
   "source": [
    "import seaborn as sns\n",
    "import matplotlib.pyplot as plt\n",
    "sns.set(style=\"whitegrid\")\n",
    "\n",
    "# Initialize the matplotlib figure\n",
    "f, ax = plt.subplots(figsize=(6, 15))\n",
    "\n",
    "# Load the example car crash dataset\n",
    "data = station_dailies_top.head(20)\n",
    "data2 = station_dailies_top.head(20)\n",
    "\n",
    "# Plot the total crashes\n",
    "#sns.palplot(sns.color_palette(\"Blues_d\"))\n",
    "sns.set_color_codes(\"pastel\")\n",
    "sns.barplot(x=\"entries\", y=\"STATION\", data=data,\n",
    "            label=\"\", color=\"b\")\n",
    "\n",
    "# Plot the crashes where alcohol was involved\n",
    "#sns.set_color_codes(\"muted\")\n",
    "#sns.barplot(x=\"entries\", y=\"STATION\", data=data,\n",
    "#            label=\"Alcohol-involved\", color=\"b\")\n",
    "\n",
    "# Add a legend and informative axis label\n",
    "ax.legend(ncol=10, loc=\"lower right\", frameon=True)\n",
    "ax.set(xlim=(0,150000), ylabel=\"Top 20 Stations\",\n",
    "       xlabel=\"Daily Entries per Station\")\n",
    "sns.despine(left=True, bottom=True)\n",
    "\n"
   ]
  },
  {
   "cell_type": "code",
   "execution_count": 577,
   "metadata": {},
   "outputs": [
    {
     "data": {
      "image/png": "[encoded data removed]",
      "text/plain": [
       "<Figure size 5400x7200 with 1 Axes>"
      ]
     },
     "metadata": {
      "needs_background": "light"
     },
     "output_type": "display_data"
    }
   ],
   "source": [
    "new_x = top_days['Station-Day']\n",
    "new_y = top_days.entries\n",
    "plt.figure(figsize=[75,100])\n",
    "#fig, ax = plt.subplots(20, 5, figsize=(75, 100))\n",
    "\n",
    "#plt.ax.invert_yaxis()\n",
    "plt.subplot(20,5,2)\n",
    "\n",
    "plt.barh(new_x,new_y)\n",
    "\n",
    "plt.title('Busiest Station/Day Combo',family='sans serif',fontsize = 15,loc='center',color='r');\n",
    "plt.xlabel('Daily Entries per Station',fontsize = 10, weight = 'bold',color='green')\n",
    "plt.ylabel('Top 20 Stations',fontsize = 10, weight = 'bold',color='green');\n"
   ]
  },
  {
   "cell_type": "code",
   "execution_count": null,
   "metadata": {},
   "outputs": [],
   "source": []
  },
  {
   "cell_type": "code",
   "execution_count": null,
   "metadata": {},
   "outputs": [],
   "source": []
  }
 ],
 "metadata": {
  "kernelspec": {
   "display_name": "Python [conda env:metis] *",
   "language": "python",
   "name": "conda-env-metis-py"
  },
  "language_info": {
   "codemirror_mode": {
    "name": "ipython",
    "version": 3
   },
   "file_extension": ".py",
   "mimetype": "text/x-python",
   "name": "python",
   "nbconvert_exporter": "python",
   "pygments_lexer": "ipython3",
   "version": "3.7.4"
  }
 },
 "nbformat": 4,
 "nbformat_minor": 2
}
